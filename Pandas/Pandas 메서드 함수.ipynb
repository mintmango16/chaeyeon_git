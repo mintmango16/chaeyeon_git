{
 "cells": [
  {
   "cell_type": "markdown",
   "id": "d8870252-7fb0-489b-8a9f-d02ef917585c",
   "metadata": {},
   "source": [
    "## **Pandas apply() 메서드 함수** \n",
    " - 함수는 파이썬 코드를 그룹화하고 재사용하는 방법임\n",
    " - PEP8에 따라 들여쓰기에는 공백 4개를 사용함"
   ]
  },
  {
   "cell_type": "code",
   "execution_count": 1,
   "id": "cd3e1c17-b1b8-40f3-b7d2-04a3f28f3649",
   "metadata": {},
   "outputs": [],
   "source": [
    "def my_sq(x):\n",
    "    return x**2"
   ]
  },
  {
   "cell_type": "code",
   "execution_count": 5,
   "id": "e823a4a3-9057-4b4e-aa6a-c18737cad995",
   "metadata": {},
   "outputs": [],
   "source": [
    "def avg_2(x, y):\n",
    "    \"\"\"두 변수의 평균을 구해주는 함수\"\"\" # 독스트링 주석\n",
    "    return (x+y)/2"
   ]
  },
  {
   "cell_type": "code",
   "execution_count": 4,
   "id": "78ab733c-7534-4567-aed8-f420fac35a17",
   "metadata": {},
   "outputs": [
    {
     "data": {
      "text/plain": [
       "16"
      ]
     },
     "execution_count": 4,
     "metadata": {},
     "output_type": "execute_result"
    }
   ],
   "source": [
    "calc1= my_sq(4)\n",
    "calc1"
   ]
  },
  {
   "cell_type": "code",
   "execution_count": 7,
   "id": "509db20f-f7ef-47d2-96ca-043712d57526",
   "metadata": {},
   "outputs": [],
   "source": [
    "import pandas as pd"
   ]
  },
  {
   "cell_type": "code",
   "execution_count": 11,
   "id": "186bbe30-c29f-478b-907b-da79fbfcac69",
   "metadata": {},
   "outputs": [],
   "source": [
    "df = pd.DataFrame({\"a\" :[100,200,300],\n",
    "                  \"b\": [0,0,0]})"
   ]
  },
  {
   "cell_type": "markdown",
   "id": "2293ed4e-b1bc-4c29-a482-89ed627f98db",
   "metadata": {},
   "source": [
    "---\n",
    "- apply() 메서드 사용하기\n",
    "  "
   ]
  },
  {
   "cell_type": "code",
   "execution_count": 17,
   "id": "589ae2aa-8732-4ca0-adf6-9975e61ec5ee",
   "metadata": {},
   "outputs": [
    {
     "name": "stdout",
     "output_type": "stream",
     "text": [
      "0    10000\n",
      "1    40000\n",
      "2    90000\n",
      "Name: a, dtype: int64\n"
     ]
    }
   ],
   "source": [
    "print(my_sq(df[\"a\"]))\n",
    "\n",
    "#df[\"a\"]은 판다스의 시리즈임"
   ]
  },
  {
   "cell_type": "code",
   "execution_count": 18,
   "id": "206a18e0-34e9-48c1-ba52-70b2fcc5310a",
   "metadata": {},
   "outputs": [
    {
     "name": "stdout",
     "output_type": "stream",
     "text": [
      "<class 'pandas.core.series.Series'>\n"
     ]
    }
   ],
   "source": [
    "print(type(df.iloc[0]))"
   ]
  },
  {
   "cell_type": "code",
   "execution_count": 23,
   "id": "34e07e98-f5df-46c5-8a3a-5fb50fbc7125",
   "metadata": {},
   "outputs": [
    {
     "data": {
      "text/plain": [
       "0    10000\n",
       "1    40000\n",
       "2    90000\n",
       "Name: a, dtype: int64"
      ]
     },
     "execution_count": 23,
     "metadata": {},
     "output_type": "execute_result"
    }
   ],
   "source": [
    "sq = df[\"a\"].apply(my_sq) #해당함수를 적용시킴\n",
    "sq\n",
    "\n",
    " #함수(매개변수)  -> 매개변수.apply(함수명) 으로 형식이 바뀜"
   ]
  },
  {
   "cell_type": "markdown",
   "id": "9377682c-6756-4bd6-b260-4aabf5688380",
   "metadata": {},
   "source": [
    "- 사용자 함수 만들어 데이터 프레임에 적용하기\n"
   ]
  },
  {
   "cell_type": "code",
   "execution_count": 24,
   "id": "19501309-e9ed-4554-b8d1-c246feb46f42",
   "metadata": {},
   "outputs": [],
   "source": [
    "def my_exp(x,e):\n",
    "    return  x**e"
   ]
  },
  {
   "cell_type": "code",
   "execution_count": 25,
   "id": "df5ebb72-2e5b-4413-91e8-49835c323df5",
   "metadata": {},
   "outputs": [
    {
     "name": "stdout",
     "output_type": "stream",
     "text": [
      "8\n"
     ]
    }
   ],
   "source": [
    "cubed = my_exp(2,3)\n",
    "print(cubed)"
   ]
  },
  {
   "cell_type": "code",
   "execution_count": 28,
   "id": "62d49a26-e9dd-4c81-8b7c-5fecf8995f4a",
   "metadata": {},
   "outputs": [
    {
     "data": {
      "text/plain": [
       "0    10000\n",
       "1    40000\n",
       "2    90000\n",
       "Name: a, dtype: int64"
      ]
     },
     "execution_count": 28,
     "metadata": {},
     "output_type": "execute_result"
    }
   ],
   "source": [
    "ex = df[\"a\"].apply(my_exp, e=2) #매개변수1.apply(함수, 매개변수2 = 지정)\n",
    "ex"
   ]
  },
  {
   "cell_type": "code",
   "execution_count": 30,
   "id": "4786e74e-b2b8-428a-be92-240e20079bd8",
   "metadata": {},
   "outputs": [
    {
     "data": {
      "text/plain": [
       "0     1000000\n",
       "1     8000000\n",
       "2    27000000\n",
       "Name: a, dtype: int64"
      ]
     },
     "execution_count": 30,
     "metadata": {},
     "output_type": "execute_result"
    }
   ],
   "source": [
    "ex = df[\"a\"].apply(my_exp, e=3) \n",
    "#매개변수1.apply(함수, 매개변수2 = 지정)\n",
    "# 2번째 매개변수를 함수와 함께 전달\n",
    "ex"
   ]
  },
  {
   "cell_type": "code",
   "execution_count": 31,
   "id": "d0dd4ee7-7fed-496f-b51d-c2472726bbb0",
   "metadata": {},
   "outputs": [],
   "source": [
    "#데이터 프레임에 함수 적용하기\n",
    "df = pd.DataFrame({\"a\" :[10,20,30],\n",
    "                  \"b\": [20,30,40]})"
   ]
  },
  {
   "cell_type": "code",
   "execution_count": 36,
   "id": "8d322537-f0e9-4130-8d97-fc0c902ff87f",
   "metadata": {},
   "outputs": [
    {
     "name": "stdout",
     "output_type": "stream",
     "text": [
      "    a   b\n",
      "0  10  20\n",
      "1  20  30\n",
      "2  30  40\n"
     ]
    }
   ],
   "source": [
    "def print_me(x):\n",
    "    print(x)\n",
    "\n",
    "print_me(df)"
   ]
  },
  {
   "cell_type": "markdown",
   "id": "248a0347-4b35-4fab-9bf6-80bc03e56f2d",
   "metadata": {},
   "source": [
    "열단위로 함수 적용하기"
   ]
  },
  {
   "cell_type": "code",
   "execution_count": 79,
   "id": "a08b533c-5190-462c-a2cc-9a60eec4b138",
   "metadata": {},
   "outputs": [
    {
     "name": "stdout",
     "output_type": "stream",
     "text": [
      "0    10\n",
      "1    20\n",
      "2    30\n",
      "Name: a, dtype: int64\n",
      "0    20\n",
      "1    30\n",
      "2    40\n",
      "Name: b, dtype: int64\n",
      "0    100\n",
      "1    400\n",
      "2    900\n",
      "Name: a_sq, dtype: int64\n",
      "0    100\n",
      "1    400\n",
      "2    900\n",
      "Name: a_sq_lamb, dtype: int64\n"
     ]
    },
    {
     "data": {
      "text/plain": [
       "a            None\n",
       "b            None\n",
       "a_sq         None\n",
       "a_sq_lamb    None\n",
       "dtype: object"
      ]
     },
     "execution_count": 79,
     "metadata": {},
     "output_type": "execute_result"
    }
   ],
   "source": [
    "df.apply(print_me, axis = 0) #열단위로 프린트 됨, axis의 기본값"
   ]
  },
  {
   "cell_type": "code",
   "execution_count": 38,
   "id": "4d2a2ee3-e87c-4cd1-b425-cc5caa05bb3c",
   "metadata": {},
   "outputs": [
    {
     "name": "stdout",
     "output_type": "stream",
     "text": [
      "a    10\n",
      "b    20\n",
      "Name: 0, dtype: int64\n",
      "a    20\n",
      "b    30\n",
      "Name: 1, dtype: int64\n",
      "a    30\n",
      "b    40\n",
      "Name: 2, dtype: int64\n"
     ]
    },
    {
     "data": {
      "text/plain": [
       "0    None\n",
       "1    None\n",
       "2    None\n",
       "dtype: object"
      ]
     },
     "execution_count": 38,
     "metadata": {},
     "output_type": "execute_result"
    }
   ],
   "source": [
    "df.apply(print_me, axis = 1) #행단위로 프린트 됨"
   ]
  },
  {
   "cell_type": "code",
   "execution_count": 35,
   "id": "eba0fa8f-ba76-4d21-910a-07c59d99c57e",
   "metadata": {},
   "outputs": [
    {
     "name": "stdout",
     "output_type": "stream",
     "text": [
      "0    10\n",
      "1    20\n",
      "2    30\n",
      "Name: a, dtype: int64\n"
     ]
    }
   ],
   "source": [
    "print(df[\"a\"])"
   ]
  },
  {
   "cell_type": "code",
   "execution_count": 39,
   "id": "bb69f3b4-67c9-47a4-82a9-99b64fd45b49",
   "metadata": {},
   "outputs": [
    {
     "name": "stdout",
     "output_type": "stream",
     "text": [
      "0    20\n",
      "1    30\n",
      "2    40\n",
      "Name: b, dtype: int64\n"
     ]
    }
   ],
   "source": [
    "print(df[\"b\"])"
   ]
  },
  {
   "cell_type": "markdown",
   "id": "f6642072-c679-40b5-b03a-8d54c0efbdee",
   "metadata": {},
   "source": [
    "- print_me() 함수의 매개변수에는 데이터프레임의 각 열이 인수로 들어감"
   ]
  },
  {
   "cell_type": "code",
   "execution_count": 42,
   "id": "5ca7e825-84e7-4673-9dce-2f3923eaee63",
   "metadata": {},
   "outputs": [],
   "source": [
    "def avg3(x,y,z):\n",
    "    return (x+y+z)/3"
   ]
  },
  {
   "cell_type": "code",
   "execution_count": 43,
   "id": "82b2ef2b-7c94-4b96-b070-ee16719fb969",
   "metadata": {},
   "outputs": [
    {
     "ename": "TypeError",
     "evalue": "avg3() missing 2 required positional arguments: 'y' and 'z'",
     "output_type": "error",
     "traceback": [
      "\u001b[1;31m---------------------------------------------------------------------------\u001b[0m",
      "\u001b[1;31mTypeError\u001b[0m                                 Traceback (most recent call last)",
      "Cell \u001b[1;32mIn[43], line 1\u001b[0m\n\u001b[1;32m----> 1\u001b[0m \u001b[38;5;28mprint\u001b[39m(df\u001b[38;5;241m.\u001b[39mapply(avg3))\n",
      "File \u001b[1;32m~\\AppData\\Roaming\\Python\\Python312\\site-packages\\pandas\\core\\frame.py:10374\u001b[0m, in \u001b[0;36mDataFrame.apply\u001b[1;34m(self, func, axis, raw, result_type, args, by_row, engine, engine_kwargs, **kwargs)\u001b[0m\n\u001b[0;32m  10360\u001b[0m \u001b[38;5;28;01mfrom\u001b[39;00m \u001b[38;5;21;01mpandas\u001b[39;00m\u001b[38;5;21;01m.\u001b[39;00m\u001b[38;5;21;01mcore\u001b[39;00m\u001b[38;5;21;01m.\u001b[39;00m\u001b[38;5;21;01mapply\u001b[39;00m \u001b[38;5;28;01mimport\u001b[39;00m frame_apply\n\u001b[0;32m  10362\u001b[0m op \u001b[38;5;241m=\u001b[39m frame_apply(\n\u001b[0;32m  10363\u001b[0m     \u001b[38;5;28mself\u001b[39m,\n\u001b[0;32m  10364\u001b[0m     func\u001b[38;5;241m=\u001b[39mfunc,\n\u001b[1;32m   (...)\u001b[0m\n\u001b[0;32m  10372\u001b[0m     kwargs\u001b[38;5;241m=\u001b[39mkwargs,\n\u001b[0;32m  10373\u001b[0m )\n\u001b[1;32m> 10374\u001b[0m \u001b[38;5;28;01mreturn\u001b[39;00m op\u001b[38;5;241m.\u001b[39mapply()\u001b[38;5;241m.\u001b[39m__finalize__(\u001b[38;5;28mself\u001b[39m, method\u001b[38;5;241m=\u001b[39m\u001b[38;5;124m\"\u001b[39m\u001b[38;5;124mapply\u001b[39m\u001b[38;5;124m\"\u001b[39m)\n",
      "File \u001b[1;32m~\\AppData\\Roaming\\Python\\Python312\\site-packages\\pandas\\core\\apply.py:916\u001b[0m, in \u001b[0;36mFrameApply.apply\u001b[1;34m(self)\u001b[0m\n\u001b[0;32m    913\u001b[0m \u001b[38;5;28;01melif\u001b[39;00m \u001b[38;5;28mself\u001b[39m\u001b[38;5;241m.\u001b[39mraw:\n\u001b[0;32m    914\u001b[0m     \u001b[38;5;28;01mreturn\u001b[39;00m \u001b[38;5;28mself\u001b[39m\u001b[38;5;241m.\u001b[39mapply_raw(engine\u001b[38;5;241m=\u001b[39m\u001b[38;5;28mself\u001b[39m\u001b[38;5;241m.\u001b[39mengine, engine_kwargs\u001b[38;5;241m=\u001b[39m\u001b[38;5;28mself\u001b[39m\u001b[38;5;241m.\u001b[39mengine_kwargs)\n\u001b[1;32m--> 916\u001b[0m \u001b[38;5;28;01mreturn\u001b[39;00m \u001b[38;5;28mself\u001b[39m\u001b[38;5;241m.\u001b[39mapply_standard()\n",
      "File \u001b[1;32m~\\AppData\\Roaming\\Python\\Python312\\site-packages\\pandas\\core\\apply.py:1063\u001b[0m, in \u001b[0;36mFrameApply.apply_standard\u001b[1;34m(self)\u001b[0m\n\u001b[0;32m   1061\u001b[0m \u001b[38;5;28;01mdef\u001b[39;00m \u001b[38;5;21mapply_standard\u001b[39m(\u001b[38;5;28mself\u001b[39m):\n\u001b[0;32m   1062\u001b[0m     \u001b[38;5;28;01mif\u001b[39;00m \u001b[38;5;28mself\u001b[39m\u001b[38;5;241m.\u001b[39mengine \u001b[38;5;241m==\u001b[39m \u001b[38;5;124m\"\u001b[39m\u001b[38;5;124mpython\u001b[39m\u001b[38;5;124m\"\u001b[39m:\n\u001b[1;32m-> 1063\u001b[0m         results, res_index \u001b[38;5;241m=\u001b[39m \u001b[38;5;28mself\u001b[39m\u001b[38;5;241m.\u001b[39mapply_series_generator()\n\u001b[0;32m   1064\u001b[0m     \u001b[38;5;28;01melse\u001b[39;00m:\n\u001b[0;32m   1065\u001b[0m         results, res_index \u001b[38;5;241m=\u001b[39m \u001b[38;5;28mself\u001b[39m\u001b[38;5;241m.\u001b[39mapply_series_numba()\n",
      "File \u001b[1;32m~\\AppData\\Roaming\\Python\\Python312\\site-packages\\pandas\\core\\apply.py:1081\u001b[0m, in \u001b[0;36mFrameApply.apply_series_generator\u001b[1;34m(self)\u001b[0m\n\u001b[0;32m   1078\u001b[0m \u001b[38;5;28;01mwith\u001b[39;00m option_context(\u001b[38;5;124m\"\u001b[39m\u001b[38;5;124mmode.chained_assignment\u001b[39m\u001b[38;5;124m\"\u001b[39m, \u001b[38;5;28;01mNone\u001b[39;00m):\n\u001b[0;32m   1079\u001b[0m     \u001b[38;5;28;01mfor\u001b[39;00m i, v \u001b[38;5;129;01min\u001b[39;00m \u001b[38;5;28menumerate\u001b[39m(series_gen):\n\u001b[0;32m   1080\u001b[0m         \u001b[38;5;66;03m# ignore SettingWithCopy here in case the user mutates\u001b[39;00m\n\u001b[1;32m-> 1081\u001b[0m         results[i] \u001b[38;5;241m=\u001b[39m \u001b[38;5;28mself\u001b[39m\u001b[38;5;241m.\u001b[39mfunc(v, \u001b[38;5;241m*\u001b[39m\u001b[38;5;28mself\u001b[39m\u001b[38;5;241m.\u001b[39margs, \u001b[38;5;241m*\u001b[39m\u001b[38;5;241m*\u001b[39m\u001b[38;5;28mself\u001b[39m\u001b[38;5;241m.\u001b[39mkwargs)\n\u001b[0;32m   1082\u001b[0m         \u001b[38;5;28;01mif\u001b[39;00m \u001b[38;5;28misinstance\u001b[39m(results[i], ABCSeries):\n\u001b[0;32m   1083\u001b[0m             \u001b[38;5;66;03m# If we have a view on v, we need to make a copy because\u001b[39;00m\n\u001b[0;32m   1084\u001b[0m             \u001b[38;5;66;03m#  series_generator will swap out the underlying data\u001b[39;00m\n\u001b[0;32m   1085\u001b[0m             results[i] \u001b[38;5;241m=\u001b[39m results[i]\u001b[38;5;241m.\u001b[39mcopy(deep\u001b[38;5;241m=\u001b[39m\u001b[38;5;28;01mFalse\u001b[39;00m)\n",
      "\u001b[1;31mTypeError\u001b[0m: avg3() missing 2 required positional arguments: 'y' and 'z'"
     ]
    }
   ],
   "source": [
    "print(df.apply(avg3)) #인수가 하나만 전달되어 오류"
   ]
  },
  {
   "cell_type": "code",
   "execution_count": 84,
   "id": "e895f2e0-6455-4ae7-8d80-65ec233eca53",
   "metadata": {},
   "outputs": [],
   "source": [
    "def avg3_df(col):\n",
    "    x = col[0]\n",
    "    y = col[1]\n",
    "    z = col[2]\n",
    "    return (x+y+z)/3 \n",
    "\n",
    "#이 경우 데이터 프레임을 인수로 전달받을떄"
   ]
  },
  {
   "cell_type": "code",
   "execution_count": 83,
   "id": "8ed429f0-75d4-476d-b86c-0f900d8f0ba3",
   "metadata": {},
   "outputs": [
    {
     "name": "stdout",
     "output_type": "stream",
     "text": [
      "a             20.000000\n",
      "b             30.000000\n",
      "a_sq         466.666667\n",
      "a_sq_lamb    466.666667\n",
      "dtype: float64\n"
     ]
    }
   ],
   "source": [
    "print(df.apply(avg3_df))"
   ]
  },
  {
   "cell_type": "code",
   "execution_count": 53,
   "id": "b8c5fa91-dfc6-4fa4-9be2-6a9b5045713c",
   "metadata": {},
   "outputs": [
    {
     "name": "stdout",
     "output_type": "stream",
     "text": [
      "    a   b  a_sq  a_sq_lamb\n",
      "0  10  20   100        100\n",
      "1  20  30   400        400\n",
      "2  30  40   900        900\n"
     ]
    }
   ],
   "source": [
    "df[\"a_sq\"] = df[\"a\"].apply(my_sq) #함수의 결과를 열로 추가\n",
    "\n",
    "print(df)"
   ]
  },
  {
   "cell_type": "markdown",
   "id": "f45504e0-cd12-4971-9460-7476ebd5c51f",
   "metadata": {},
   "source": [
    "---\n",
    "- 람다 + apply() 함께 이용하기"
   ]
  },
  {
   "cell_type": "code",
   "execution_count": 57,
   "id": "8bfa0b5a-9f50-4cb4-aac5-ea87439c71cb",
   "metadata": {},
   "outputs": [
    {
     "name": "stdout",
     "output_type": "stream",
     "text": [
      "    a   b  a_sq  a_sq_lamb\n",
      "0  10  20   100        100\n",
      "1  20  30   400        400\n",
      "2  30  40   900        900\n"
     ]
    }
   ],
   "source": [
    "#람다 이용하기\n",
    "\n",
    "df[\"a_sq_lamb\"] = df[\"a\"].apply(lambda x : x**2)\n",
    "\n",
    "#'a'값을 lambda 뒤 x에 전달 -> x**2로 변환하여 a_sq_lamb 열에 추가\n",
    " #간단한 식의 경우 함수를 만드는 것보다 람다를 활용하는 것이 더욱 간편함 --> 무조건 숙지 !!\n",
    "print(df) # 위 코드와 결과가 같은 것을 확인할 수 있음"
   ]
  },
  {
   "cell_type": "markdown",
   "id": "a0402468-5f3c-426e-9566-27b816a7d5ba",
   "metadata": {},
   "source": [
    "---\n",
    "- 벡터화된 함수 사용하기"
   ]
  },
  {
   "cell_type": "code",
   "execution_count": 56,
   "id": "addb5e00-471f-451d-9d14-60dc41237f1a",
   "metadata": {},
   "outputs": [
    {
     "name": "stdout",
     "output_type": "stream",
     "text": [
      "    a   b\n",
      "0  10  20\n",
      "1  20  30\n",
      "2  30  40\n"
     ]
    }
   ],
   "source": [
    "df1 = pd.DataFrame({\"a\" :[10,20,30],\n",
    "                  \"b\": [20,30,40]})\n",
    "\n",
    "print(df1)"
   ]
  },
  {
   "cell_type": "markdown",
   "id": "f29f6d94-c85b-41f6-872c-577d76b0e111",
   "metadata": {},
   "source": [
    " - apply는 열 단위 또는 행 단위로 함수 적용 가능\n",
    " - 그러나 전체열이나 행을 첫 인수로 전달 -> 크기에 따라 함수를 변환해줘야 하는 단점"
   ]
  },
  {
   "cell_type": "code",
   "execution_count": 58,
   "id": "5bbd131a-fc2a-4a7b-a0f4-d49463796238",
   "metadata": {},
   "outputs": [],
   "source": [
    "def avg2(x,y) : \n",
    "    return (x+y)/2"
   ]
  },
  {
   "cell_type": "code",
   "execution_count": 65,
   "id": "bee59d37-d20e-42d0-994f-f736ecfc2ae7",
   "metadata": {},
   "outputs": [
    {
     "name": "stdout",
     "output_type": "stream",
     "text": [
      "0    15.0\n",
      "1    25.0\n",
      "2    35.0\n",
      "dtype: float64\n"
     ]
    }
   ],
   "source": [
    "print(avg2(df1[\"a\"], df1[\"b\"])) \n",
    "\n",
    "#array값이 인수로 들어가 계산 -> (df[\"a\"]+df[\"b\"])/2 의 결과와 같음"
   ]
  },
  {
   "cell_type": "code",
   "execution_count": 62,
   "id": "c686db4a-c871-4fe5-907b-bd08b9b1fc9f",
   "metadata": {},
   "outputs": [],
   "source": [
    "import numpy as np\n",
    "\n",
    "def avg2_mod(x,y):\n",
    "    if (x==20):\n",
    "        return (np.nan) #NaN 반환\n",
    "    else : \n",
    "        return (x + y)/2"
   ]
  },
  {
   "cell_type": "code",
   "execution_count": 66,
   "id": "225e7092-9713-4247-be80-70fc86197d65",
   "metadata": {},
   "outputs": [
    {
     "ename": "ValueError",
     "evalue": "The truth value of a Series is ambiguous. Use a.empty, a.bool(), a.item(), a.any() or a.all().",
     "output_type": "error",
     "traceback": [
      "\u001b[1;31m---------------------------------------------------------------------------\u001b[0m",
      "\u001b[1;31mValueError\u001b[0m                                Traceback (most recent call last)",
      "Cell \u001b[1;32mIn[66], line 1\u001b[0m\n\u001b[1;32m----> 1\u001b[0m \u001b[38;5;28mprint\u001b[39m(avg2_mod(df1[\u001b[38;5;124m\"\u001b[39m\u001b[38;5;124ma\u001b[39m\u001b[38;5;124m\"\u001b[39m], df1[\u001b[38;5;124m\"\u001b[39m\u001b[38;5;124mb\u001b[39m\u001b[38;5;124m\"\u001b[39m]))\n",
      "Cell \u001b[1;32mIn[62], line 4\u001b[0m, in \u001b[0;36mavg2_mod\u001b[1;34m(x, y)\u001b[0m\n\u001b[0;32m      3\u001b[0m \u001b[38;5;28;01mdef\u001b[39;00m \u001b[38;5;21mavg2_mod\u001b[39m(x,y):\n\u001b[1;32m----> 4\u001b[0m     \u001b[38;5;28;01mif\u001b[39;00m (x\u001b[38;5;241m==\u001b[39m\u001b[38;5;241m20\u001b[39m):\n\u001b[0;32m      5\u001b[0m         \u001b[38;5;28;01mreturn\u001b[39;00m (np\u001b[38;5;241m.\u001b[39mnan) \u001b[38;5;66;03m#NaN 반환\u001b[39;00m\n\u001b[0;32m      6\u001b[0m     \u001b[38;5;28;01melse\u001b[39;00m : \n",
      "File \u001b[1;32m~\\AppData\\Roaming\\Python\\Python312\\site-packages\\pandas\\core\\generic.py:1577\u001b[0m, in \u001b[0;36mNDFrame.__nonzero__\u001b[1;34m(self)\u001b[0m\n\u001b[0;32m   1575\u001b[0m \u001b[38;5;129m@final\u001b[39m\n\u001b[0;32m   1576\u001b[0m \u001b[38;5;28;01mdef\u001b[39;00m \u001b[38;5;21m__nonzero__\u001b[39m(\u001b[38;5;28mself\u001b[39m) \u001b[38;5;241m-\u001b[39m\u001b[38;5;241m>\u001b[39m NoReturn:\n\u001b[1;32m-> 1577\u001b[0m     \u001b[38;5;28;01mraise\u001b[39;00m \u001b[38;5;167;01mValueError\u001b[39;00m(\n\u001b[0;32m   1578\u001b[0m         \u001b[38;5;124mf\u001b[39m\u001b[38;5;124m\"\u001b[39m\u001b[38;5;124mThe truth value of a \u001b[39m\u001b[38;5;132;01m{\u001b[39;00m\u001b[38;5;28mtype\u001b[39m(\u001b[38;5;28mself\u001b[39m)\u001b[38;5;241m.\u001b[39m\u001b[38;5;18m__name__\u001b[39m\u001b[38;5;132;01m}\u001b[39;00m\u001b[38;5;124m is ambiguous. \u001b[39m\u001b[38;5;124m\"\u001b[39m\n\u001b[0;32m   1579\u001b[0m         \u001b[38;5;124m\"\u001b[39m\u001b[38;5;124mUse a.empty, a.bool(), a.item(), a.any() or a.all().\u001b[39m\u001b[38;5;124m\"\u001b[39m\n\u001b[0;32m   1580\u001b[0m     )\n",
      "\u001b[1;31mValueError\u001b[0m: The truth value of a Series is ambiguous. Use a.empty, a.bool(), a.item(), a.any() or a.all()."
     ]
    }
   ],
   "source": [
    "print(avg2_mod(df1[\"a\"], df1[\"b\"]))\n",
    "\n",
    "# 오류 발생 : 어레이(10,20,30) 와 20을 비교하였으니 에러"
   ]
  },
  {
   "cell_type": "code",
   "execution_count": 68,
   "id": "216d5d44-9e91-472a-8b1b-dc446fad5be1",
   "metadata": {},
   "outputs": [
    {
     "name": "stdout",
     "output_type": "stream",
     "text": [
      "15.0\n"
     ]
    }
   ],
   "source": [
    "print(avg2_mod(10, 20))"
   ]
  },
  {
   "cell_type": "code",
   "execution_count": 69,
   "id": "e7f6d45d-d34b-461f-90e0-9e911388405c",
   "metadata": {},
   "outputs": [
    {
     "name": "stdout",
     "output_type": "stream",
     "text": [
      "nan\n"
     ]
    }
   ],
   "source": [
    "print(avg2_mod(20, 30))"
   ]
  },
  {
   "cell_type": "markdown",
   "id": "480d8d3b-ad6d-4284-8bd9-d6ec101d7035",
   "metadata": {},
   "source": [
    "---\n",
    "넘파이로 벡터화 하기"
   ]
  },
  {
   "cell_type": "code",
   "execution_count": 85,
   "id": "a87bc54a-a1eb-4fd3-b723-f2b2172c2cf7",
   "metadata": {},
   "outputs": [
    {
     "name": "stdout",
     "output_type": "stream",
     "text": [
      "[15. nan 35.]\n"
     ]
    }
   ],
   "source": [
    "avg2_mod_vec = np.vectorize(avg2_mod) #벡터화\n",
    "\n",
    "print(avg2_mod_vec(df[\"a\"], df[\"b\"]))"
   ]
  },
  {
   "cell_type": "code",
   "execution_count": 72,
   "id": "5f14d6be-e607-4626-ad96-a3912f12b0f2",
   "metadata": {},
   "outputs": [
    {
     "name": "stdout",
     "output_type": "stream",
     "text": [
      "[15. nan 35.]\n"
     ]
    }
   ],
   "source": [
    "print(avg2_mod_vec([10, 20, 30], [20, 30, 40]))"
   ]
  },
  {
   "cell_type": "code",
   "execution_count": 75,
   "id": "37527187-12c3-486e-bb9d-d8941da22f05",
   "metadata": {},
   "outputs": [],
   "source": [
    "import numba "
   ]
  },
  {
   "cell_type": "code",
   "execution_count": 90,
   "id": "298fc2e4-cb8d-4a1f-bae3-bbfe9403b8f0",
   "metadata": {},
   "outputs": [],
   "source": [
    "@numba.vectorize\n",
    "#데코레이터 사용 : 벡터화 함수를 새로 생성하지 않아도 벡터 인수 바로 적용 가능\n",
    "\n",
    "#조건문에서 자료형 정보를 추가해야함\n",
    "def v_avg2_numba(x,y):\n",
    "    if (int(x)==20):\n",
    "        return (np.nan)\n",
    "    else : \n",
    "        return (x+y)/2"
   ]
  },
  {
   "cell_type": "code",
   "execution_count": 89,
   "id": "879a341a-8042-4b37-b929-04d20c5367c7",
   "metadata": {},
   "outputs": [
    {
     "name": "stdout",
     "output_type": "stream",
     "text": [
      "0    15.0\n",
      "1     NaN\n",
      "2    35.0\n",
      "dtype: float64\n"
     ]
    }
   ],
   "source": [
    "print(v_avg2_numba(df1[\"a\"], df1[\"b\"]))\n",
    "\n",
    "  # 함수에 데이터 프레임의 열 벡터를 그대로 전달하면 오류발생 ?"
   ]
  },
  {
   "cell_type": "code",
   "execution_count": 88,
   "id": "293814cc-5ac1-4569-8a58-33b758fdde44",
   "metadata": {},
   "outputs": [
    {
     "name": "stdout",
     "output_type": "stream",
     "text": [
      "[15. nan 35.]\n"
     ]
    }
   ],
   "source": [
    "print(v_avg2_numba(df[\"a\"].values, df[\"b\"].values))"
   ]
  },
  {
   "cell_type": "code",
   "execution_count": null,
   "id": "8158173b-333e-4bd1-b1ec-3cc53d93f91a",
   "metadata": {},
   "outputs": [],
   "source": []
  }
 ],
 "metadata": {
  "kernelspec": {
   "display_name": "Python 3 (ipykernel)",
   "language": "python",
   "name": "python3"
  },
  "language_info": {
   "codemirror_mode": {
    "name": "ipython",
    "version": 3
   },
   "file_extension": ".py",
   "mimetype": "text/x-python",
   "name": "python",
   "nbconvert_exporter": "python",
   "pygments_lexer": "ipython3",
   "version": "3.12.9"
  }
 },
 "nbformat": 4,
 "nbformat_minor": 5
}
