{
 "cells": [
  {
   "cell_type": "markdown",
   "id": "d360bab0-9fed-4ac4-b551-3364510a9886",
   "metadata": {},
   "source": [
    "## **Pandas 데이터 결합과 분해하기** \n",
    " - 보통 데이터의 중복을 방지하고자 데이터를 여러개의 표로 나누어 저장\n",
    " - 하나의 데이터 셋을 여러부분으로 분할하여 관리할 때도 있음\n",
    " - 데이터를 결합하는 가장 쉬운 방법은 데이터를 연결하는 것 : 데이터에 행이나 열 추가"
   ]
  },
  {
   "cell_type": "code",
   "execution_count": 37,
   "id": "19d87421-4fcc-466f-84a2-90698dffd52e",
   "metadata": {},
   "outputs": [],
   "source": [
    "import pandas as pd"
   ]
  },
  {
   "cell_type": "code",
   "execution_count": 41,
   "id": "d990fd2b-e6f1-470f-8ad6-5aa4f932a89b",
   "metadata": {},
   "outputs": [
    {
     "name": "stdout",
     "output_type": "stream",
     "text": [
      "    A   B   C   D\n",
      "0  a0  b0  c0  d0\n",
      "1  a1  b1  c1  d1\n",
      "2  a2  b2  c2  d2\n",
      "3  a3  b3  c3  d3\n",
      "----------------------------------------------------------------------------------------------------\n",
      "    A   B   C   D\n",
      "0  a4  b4  c4  d4\n",
      "1  a5  b5  c5  d5\n",
      "2  a6  b6  c6  d6\n",
      "3  a7  b7  c7  d7\n",
      "----------------------------------------------------------------------------------------------------\n",
      "     A    B    C    D\n",
      "0   a8   b8   c8   d8\n",
      "1   a9   b9   c9   d9\n",
      "2  a10  b10  c10  d10\n",
      "3  a11  b11  c11  d11\n"
     ]
    }
   ],
   "source": [
    "df1= pd.read_csv(\"./codes/data/concat_1.csv\")\n",
    "df2= pd.read_csv(\"./codes/data/concat_2.csv\")\n",
    "df3= pd.read_csv(\"./codes/data/concat_3.csv\")\n",
    "print(df1)\n",
    "print(\"-\" *100)\n",
    "print(df2)\n",
    "print(\"-\" *100)\n",
    "print(df3)"
   ]
  },
  {
   "cell_type": "code",
   "execution_count": 45,
   "id": "9c396091-2d53-4ca8-87d8-3dae380e553b",
   "metadata": {},
   "outputs": [
    {
     "name": "stdout",
     "output_type": "stream",
     "text": [
      "RangeIndex(start=0, stop=4, step=1)\n"
     ]
    }
   ],
   "source": [
    "print(df1.index) #인덱스의 구성 확인"
   ]
  },
  {
   "cell_type": "code",
   "execution_count": 48,
   "id": "3035e16c-a8a6-4ca6-acc1-ee7262c4842e",
   "metadata": {},
   "outputs": [
    {
     "name": "stdout",
     "output_type": "stream",
     "text": [
      "Index(['A', 'B', 'C', 'D'], dtype='object')\n"
     ]
    }
   ],
   "source": [
    "print(df1.columns) #열 : 인덱스와 다른 축"
   ]
  },
  {
   "cell_type": "code",
   "execution_count": 49,
   "id": "c71aa65d-8e99-4cd7-b3a0-46471deba7f7",
   "metadata": {
    "scrolled": true
   },
   "outputs": [
    {
     "name": "stdout",
     "output_type": "stream",
     "text": [
      "[['a0' 'b0' 'c0' 'd0']\n",
      " ['a1' 'b1' 'c1' 'd1']\n",
      " ['a2' 'b2' 'c2' 'd2']\n",
      " ['a3' 'b3' 'c3' 'd3']]\n"
     ]
    }
   ],
   "source": [
    "print(df1.values)  #값으로 구성된 넘파이 배열 리턴"
   ]
  },
  {
   "cell_type": "markdown",
   "id": "fff6dcb3-14e6-4c1d-b4a1-2e71c3d9c9bb",
   "metadata": {},
   "source": [
    "---\n",
    "### **데이터 연결하기**\n",
    "- 판다스의 concat() 함수를 사용하여 데이터프레임 연\n",
    "- concat은 단순히 데이터를 이어붙임 -> 인덱스가 연속되지 않고 반복됨"
   ]
  },
  {
   "cell_type": "markdown",
   "id": "89138712-895a-4cd7-b64c-aa2315c1e279",
   "metadata": {},
   "source": [
    "\n",
    "- 행방향 연결하기\n",
    "    "
   ]
  },
  {
   "cell_type": "code",
   "execution_count": 20,
   "id": "faf6db30-5400-4219-97c5-213e78d4d3d6",
   "metadata": {},
   "outputs": [
    {
     "name": "stdout",
     "output_type": "stream",
     "text": [
      "     A    B    C    D\n",
      "0   a0   b0   c0   d0\n",
      "1   a1   b1   c1   d1\n",
      "2   a2   b2   c2   d2\n",
      "3   a3   b3   c3   d3\n",
      "0   a4   b4   c4   d4\n",
      "1   a5   b5   c5   d5\n",
      "2   a6   b6   c6   d6\n",
      "3   a7   b7   c7   d7\n",
      "0   a8   b8   c8   d8\n",
      "1   a9   b9   c9   d9\n",
      "2  a10  b10  c10  d10\n",
      "3  a11  b11  c11  d11\n"
     ]
    }
   ],
   "source": [
    "row_concat = pd.concat([df1,df2,df3])  #행방향으로 데이터 합치기\n",
    "#연결할 모든 데이터 프레임을 리스트로 전달\n",
    "\n",
    "print(row_concat)"
   ]
  },
  {
   "cell_type": "code",
   "execution_count": 9,
   "id": "f363f7a2-ccbf-45f5-97e3-3b5e7627ba82",
   "metadata": {},
   "outputs": [
    {
     "name": "stdout",
     "output_type": "stream",
     "text": [
      "A    a3\n",
      "B    b3\n",
      "C    c3\n",
      "D    d3\n",
      "Name: 3, dtype: object\n"
     ]
    }
   ],
   "source": [
    "print(row_concat.iloc[3, :]) #4번째 행 추출"
   ]
  },
  {
   "cell_type": "code",
   "execution_count": 53,
   "id": "bc457296-f2d6-4a64-88b5-280ee00dc103",
   "metadata": {},
   "outputs": [
    {
     "name": "stdout",
     "output_type": "stream",
     "text": [
      "     A    B    C    D    0\n",
      "0   a0   b0   c0   d0  NaN\n",
      "1   a1   b1   c1   d1  NaN\n",
      "2   a2   b2   c2   d2  NaN\n",
      "3   a3   b3   c3   d3  NaN\n",
      "0  NaN  NaN  NaN  NaN   n1\n",
      "1  NaN  NaN  NaN  NaN   n2\n",
      "2  NaN  NaN  NaN  NaN   n3\n",
      "3  NaN  NaN  NaN  NaN   n4\n"
     ]
    }
   ],
   "source": [
    "#시리즈 하나 생성하여 데이터프레임에 연결하기\n",
    "new_row_series =  pd.Series([\"n1\",\"n2\",\"n3\",\"n4\"])\n",
    "print(pd.concat([df1, new_row_series]))\n",
    "\n",
    "#outer join으로 연결됨 -> NaN이 너무 많음"
   ]
  },
  {
   "cell_type": "code",
   "execution_count": 54,
   "id": "7b6f5e8e-343f-4791-a4a8-1213394a78f1",
   "metadata": {},
   "outputs": [
    {
     "data": {
      "text/html": [
       "<div>\n",
       "<style scoped>\n",
       "    .dataframe tbody tr th:only-of-type {\n",
       "        vertical-align: middle;\n",
       "    }\n",
       "\n",
       "    .dataframe tbody tr th {\n",
       "        vertical-align: top;\n",
       "    }\n",
       "\n",
       "    .dataframe thead th {\n",
       "        text-align: right;\n",
       "    }\n",
       "</style>\n",
       "<table border=\"1\" class=\"dataframe\">\n",
       "  <thead>\n",
       "    <tr style=\"text-align: right;\">\n",
       "      <th></th>\n",
       "      <th>A</th>\n",
       "      <th>B</th>\n",
       "      <th>C</th>\n",
       "      <th>D</th>\n",
       "    </tr>\n",
       "  </thead>\n",
       "  <tbody>\n",
       "    <tr>\n",
       "      <th>0</th>\n",
       "      <td>n1</td>\n",
       "      <td>n2</td>\n",
       "      <td>n3</td>\n",
       "      <td>n4</td>\n",
       "    </tr>\n",
       "  </tbody>\n",
       "</table>\n",
       "</div>"
      ],
      "text/plain": [
       "    A   B   C   D\n",
       "0  n1  n2  n3  n4"
      ]
     },
     "execution_count": 54,
     "metadata": {},
     "output_type": "execute_result"
    }
   ],
   "source": [
    "#해당 문제를 해결하기 위해 시리즈를 데이터 프레임으로 변환\n",
    " #하나의 데이터 행을 가지고 열이름을 가진 데이터프레임으로!\n",
    "new_row_df = pd.DataFrame(\n",
    "    data = [[\"n1\",\"n2\",\"n3\",\"n4\"]], #데이터 행 생성시 [[]] 양식 사용 주의!\n",
    "    columns = [ \"A\",\"B\",\"C\",\"D\"  ]\n",
    ")\n",
    "new_row_df"
   ]
  },
  {
   "cell_type": "code",
   "execution_count": 55,
   "id": "3d76b313-c169-47a7-b9ae-033fa93be6c4",
   "metadata": {},
   "outputs": [
    {
     "name": "stdout",
     "output_type": "stream",
     "text": [
      "    A   B   C   D\n",
      "0  a0  b0  c0  d0\n",
      "1  a1  b1  c1  d1\n",
      "2  a2  b2  c2  d2\n",
      "3  a3  b3  c3  d3\n",
      "0  n1  n2  n3  n4\n"
     ]
    }
   ],
   "source": [
    "print(pd.concat([df1, new_row_df])) #생성한 데이터 프레임연결"
   ]
  },
  {
   "cell_type": "markdown",
   "id": "7d13d72a-5615-425b-ad01-ea3a51b41c46",
   "metadata": {},
   "source": [
    "--- \n",
    "- 새로운 인덱스 설정하기\n",
    "   - axis = 0 또는 인덱스, 또는 row (기본값)"
   ]
  },
  {
   "cell_type": "code",
   "execution_count": 56,
   "id": "554a71e3-dadd-46e4-b354-9ef85e2a81f7",
   "metadata": {},
   "outputs": [
    {
     "data": {
      "text/html": [
       "<div>\n",
       "<style scoped>\n",
       "    .dataframe tbody tr th:only-of-type {\n",
       "        vertical-align: middle;\n",
       "    }\n",
       "\n",
       "    .dataframe tbody tr th {\n",
       "        vertical-align: top;\n",
       "    }\n",
       "\n",
       "    .dataframe thead th {\n",
       "        text-align: right;\n",
       "    }\n",
       "</style>\n",
       "<table border=\"1\" class=\"dataframe\">\n",
       "  <thead>\n",
       "    <tr style=\"text-align: right;\">\n",
       "      <th></th>\n",
       "      <th>A</th>\n",
       "      <th>B</th>\n",
       "      <th>C</th>\n",
       "      <th>D</th>\n",
       "    </tr>\n",
       "  </thead>\n",
       "  <tbody>\n",
       "    <tr>\n",
       "      <th>0</th>\n",
       "      <td>a0</td>\n",
       "      <td>b0</td>\n",
       "      <td>c0</td>\n",
       "      <td>d0</td>\n",
       "    </tr>\n",
       "    <tr>\n",
       "      <th>1</th>\n",
       "      <td>a1</td>\n",
       "      <td>b1</td>\n",
       "      <td>c1</td>\n",
       "      <td>d1</td>\n",
       "    </tr>\n",
       "    <tr>\n",
       "      <th>2</th>\n",
       "      <td>a2</td>\n",
       "      <td>b2</td>\n",
       "      <td>c2</td>\n",
       "      <td>d2</td>\n",
       "    </tr>\n",
       "    <tr>\n",
       "      <th>3</th>\n",
       "      <td>a3</td>\n",
       "      <td>b3</td>\n",
       "      <td>c3</td>\n",
       "      <td>d3</td>\n",
       "    </tr>\n",
       "    <tr>\n",
       "      <th>4</th>\n",
       "      <td>a4</td>\n",
       "      <td>b4</td>\n",
       "      <td>c4</td>\n",
       "      <td>d4</td>\n",
       "    </tr>\n",
       "    <tr>\n",
       "      <th>5</th>\n",
       "      <td>a5</td>\n",
       "      <td>b5</td>\n",
       "      <td>c5</td>\n",
       "      <td>d5</td>\n",
       "    </tr>\n",
       "    <tr>\n",
       "      <th>6</th>\n",
       "      <td>a6</td>\n",
       "      <td>b6</td>\n",
       "      <td>c6</td>\n",
       "      <td>d6</td>\n",
       "    </tr>\n",
       "    <tr>\n",
       "      <th>7</th>\n",
       "      <td>a7</td>\n",
       "      <td>b7</td>\n",
       "      <td>c7</td>\n",
       "      <td>d7</td>\n",
       "    </tr>\n",
       "    <tr>\n",
       "      <th>8</th>\n",
       "      <td>a8</td>\n",
       "      <td>b8</td>\n",
       "      <td>c8</td>\n",
       "      <td>d8</td>\n",
       "    </tr>\n",
       "    <tr>\n",
       "      <th>9</th>\n",
       "      <td>a9</td>\n",
       "      <td>b9</td>\n",
       "      <td>c9</td>\n",
       "      <td>d9</td>\n",
       "    </tr>\n",
       "    <tr>\n",
       "      <th>10</th>\n",
       "      <td>a10</td>\n",
       "      <td>b10</td>\n",
       "      <td>c10</td>\n",
       "      <td>d10</td>\n",
       "    </tr>\n",
       "    <tr>\n",
       "      <th>11</th>\n",
       "      <td>a11</td>\n",
       "      <td>b11</td>\n",
       "      <td>c11</td>\n",
       "      <td>d11</td>\n",
       "    </tr>\n",
       "  </tbody>\n",
       "</table>\n",
       "</div>"
      ],
      "text/plain": [
       "      A    B    C    D\n",
       "0    a0   b0   c0   d0\n",
       "1    a1   b1   c1   d1\n",
       "2    a2   b2   c2   d2\n",
       "3    a3   b3   c3   d3\n",
       "4    a4   b4   c4   d4\n",
       "5    a5   b5   c5   d5\n",
       "6    a6   b6   c6   d6\n",
       "7    a7   b7   c7   d7\n",
       "8    a8   b8   c8   d8\n",
       "9    a9   b9   c9   d9\n",
       "10  a10  b10  c10  d10\n",
       "11  a11  b11  c11  d11"
      ]
     },
     "execution_count": 56,
     "metadata": {},
     "output_type": "execute_result"
    }
   ],
   "source": [
    "row_concat_i = pd.concat([df1,df2,df3], ignore_index=True)\n",
    "row_concat_i\n",
    "\n",
    "#기존의 인덱스는 무시하고 인덱스가 새롭게 지정됨"
   ]
  },
  {
   "cell_type": "markdown",
   "id": "f2e9a468-f3e7-497f-a2d7-18eab148e6a2",
   "metadata": {},
   "source": [
    "---\n",
    " - 열방향 연결하기\n",
    "   - axis = 1  또는 columns로 설정"
   ]
  },
  {
   "cell_type": "code",
   "execution_count": 57,
   "id": "fe3c7694-8ee9-46f5-869d-1a3f45081cef",
   "metadata": {},
   "outputs": [
    {
     "data": {
      "text/html": [
       "<div>\n",
       "<style scoped>\n",
       "    .dataframe tbody tr th:only-of-type {\n",
       "        vertical-align: middle;\n",
       "    }\n",
       "\n",
       "    .dataframe tbody tr th {\n",
       "        vertical-align: top;\n",
       "    }\n",
       "\n",
       "    .dataframe thead th {\n",
       "        text-align: right;\n",
       "    }\n",
       "</style>\n",
       "<table border=\"1\" class=\"dataframe\">\n",
       "  <thead>\n",
       "    <tr style=\"text-align: right;\">\n",
       "      <th></th>\n",
       "      <th>A</th>\n",
       "      <th>B</th>\n",
       "      <th>C</th>\n",
       "      <th>D</th>\n",
       "      <th>A</th>\n",
       "      <th>B</th>\n",
       "      <th>C</th>\n",
       "      <th>D</th>\n",
       "      <th>A</th>\n",
       "      <th>B</th>\n",
       "      <th>C</th>\n",
       "      <th>D</th>\n",
       "    </tr>\n",
       "  </thead>\n",
       "  <tbody>\n",
       "    <tr>\n",
       "      <th>0</th>\n",
       "      <td>a0</td>\n",
       "      <td>b0</td>\n",
       "      <td>c0</td>\n",
       "      <td>d0</td>\n",
       "      <td>a4</td>\n",
       "      <td>b4</td>\n",
       "      <td>c4</td>\n",
       "      <td>d4</td>\n",
       "      <td>a8</td>\n",
       "      <td>b8</td>\n",
       "      <td>c8</td>\n",
       "      <td>d8</td>\n",
       "    </tr>\n",
       "    <tr>\n",
       "      <th>1</th>\n",
       "      <td>a1</td>\n",
       "      <td>b1</td>\n",
       "      <td>c1</td>\n",
       "      <td>d1</td>\n",
       "      <td>a5</td>\n",
       "      <td>b5</td>\n",
       "      <td>c5</td>\n",
       "      <td>d5</td>\n",
       "      <td>a9</td>\n",
       "      <td>b9</td>\n",
       "      <td>c9</td>\n",
       "      <td>d9</td>\n",
       "    </tr>\n",
       "    <tr>\n",
       "      <th>2</th>\n",
       "      <td>a2</td>\n",
       "      <td>b2</td>\n",
       "      <td>c2</td>\n",
       "      <td>d2</td>\n",
       "      <td>a6</td>\n",
       "      <td>b6</td>\n",
       "      <td>c6</td>\n",
       "      <td>d6</td>\n",
       "      <td>a10</td>\n",
       "      <td>b10</td>\n",
       "      <td>c10</td>\n",
       "      <td>d10</td>\n",
       "    </tr>\n",
       "    <tr>\n",
       "      <th>3</th>\n",
       "      <td>a3</td>\n",
       "      <td>b3</td>\n",
       "      <td>c3</td>\n",
       "      <td>d3</td>\n",
       "      <td>a7</td>\n",
       "      <td>b7</td>\n",
       "      <td>c7</td>\n",
       "      <td>d7</td>\n",
       "      <td>a11</td>\n",
       "      <td>b11</td>\n",
       "      <td>c11</td>\n",
       "      <td>d11</td>\n",
       "    </tr>\n",
       "  </tbody>\n",
       "</table>\n",
       "</div>"
      ],
      "text/plain": [
       "    A   B   C   D   A   B   C   D    A    B    C    D\n",
       "0  a0  b0  c0  d0  a4  b4  c4  d4   a8   b8   c8   d8\n",
       "1  a1  b1  c1  d1  a5  b5  c5  d5   a9   b9   c9   d9\n",
       "2  a2  b2  c2  d2  a6  b6  c6  d6  a10  b10  c10  d10\n",
       "3  a3  b3  c3  d3  a7  b7  c7  d7  a11  b11  c11  d11"
      ]
     },
     "execution_count": 57,
     "metadata": {},
     "output_type": "execute_result"
    }
   ],
   "source": [
    "col_concat = pd.concat([df1,df2,df3], axis = \"columns\")\n",
    "col_concat"
   ]
  },
  {
   "cell_type": "code",
   "execution_count": 59,
   "id": "fef5fc5f-1aa8-4644-b51c-30f73169ba12",
   "metadata": {},
   "outputs": [
    {
     "name": "stdout",
     "output_type": "stream",
     "text": [
      "    A   A    A\n",
      "0  a0  a4   a8\n",
      "1  a1  a5   a9\n",
      "2  a2  a6  a10\n",
      "3  a3  a7  a11\n"
     ]
    }
   ],
   "source": [
    "print(col_concat[\"A\"])\n",
    "#3개의 데이타프레임 모두 열 이름이 같기 때문에 중복으로 추출됨\n",
    "#각 d1에 해당하는 A열, d2에 해당하는 A열, d3에 해당하는 A열임 "
   ]
  },
  {
   "cell_type": "code",
   "execution_count": 60,
   "id": "aea55d2a-9ba0-4bd7-b615-7fbc237b34bc",
   "metadata": {},
   "outputs": [
    {
     "data": {
      "text/html": [
       "<div>\n",
       "<style scoped>\n",
       "    .dataframe tbody tr th:only-of-type {\n",
       "        vertical-align: middle;\n",
       "    }\n",
       "\n",
       "    .dataframe tbody tr th {\n",
       "        vertical-align: top;\n",
       "    }\n",
       "\n",
       "    .dataframe thead th {\n",
       "        text-align: right;\n",
       "    }\n",
       "</style>\n",
       "<table border=\"1\" class=\"dataframe\">\n",
       "  <thead>\n",
       "    <tr style=\"text-align: right;\">\n",
       "      <th></th>\n",
       "      <th>A</th>\n",
       "      <th>B</th>\n",
       "      <th>C</th>\n",
       "      <th>D</th>\n",
       "      <th>A</th>\n",
       "      <th>B</th>\n",
       "      <th>C</th>\n",
       "      <th>D</th>\n",
       "      <th>A</th>\n",
       "      <th>B</th>\n",
       "      <th>C</th>\n",
       "      <th>D</th>\n",
       "      <th>new_col_list</th>\n",
       "    </tr>\n",
       "  </thead>\n",
       "  <tbody>\n",
       "    <tr>\n",
       "      <th>0</th>\n",
       "      <td>a0</td>\n",
       "      <td>b0</td>\n",
       "      <td>c0</td>\n",
       "      <td>d0</td>\n",
       "      <td>a4</td>\n",
       "      <td>b4</td>\n",
       "      <td>c4</td>\n",
       "      <td>d4</td>\n",
       "      <td>a8</td>\n",
       "      <td>b8</td>\n",
       "      <td>c8</td>\n",
       "      <td>d8</td>\n",
       "      <td>n1</td>\n",
       "    </tr>\n",
       "    <tr>\n",
       "      <th>1</th>\n",
       "      <td>a1</td>\n",
       "      <td>b1</td>\n",
       "      <td>c1</td>\n",
       "      <td>d1</td>\n",
       "      <td>a5</td>\n",
       "      <td>b5</td>\n",
       "      <td>c5</td>\n",
       "      <td>d5</td>\n",
       "      <td>a9</td>\n",
       "      <td>b9</td>\n",
       "      <td>c9</td>\n",
       "      <td>d9</td>\n",
       "      <td>n2</td>\n",
       "    </tr>\n",
       "    <tr>\n",
       "      <th>2</th>\n",
       "      <td>a2</td>\n",
       "      <td>b2</td>\n",
       "      <td>c2</td>\n",
       "      <td>d2</td>\n",
       "      <td>a6</td>\n",
       "      <td>b6</td>\n",
       "      <td>c6</td>\n",
       "      <td>d6</td>\n",
       "      <td>a10</td>\n",
       "      <td>b10</td>\n",
       "      <td>c10</td>\n",
       "      <td>d10</td>\n",
       "      <td>n3</td>\n",
       "    </tr>\n",
       "    <tr>\n",
       "      <th>3</th>\n",
       "      <td>a3</td>\n",
       "      <td>b3</td>\n",
       "      <td>c3</td>\n",
       "      <td>d3</td>\n",
       "      <td>a7</td>\n",
       "      <td>b7</td>\n",
       "      <td>c7</td>\n",
       "      <td>d7</td>\n",
       "      <td>a11</td>\n",
       "      <td>b11</td>\n",
       "      <td>c11</td>\n",
       "      <td>d11</td>\n",
       "      <td>n4</td>\n",
       "    </tr>\n",
       "  </tbody>\n",
       "</table>\n",
       "</div>"
      ],
      "text/plain": [
       "    A   B   C   D   A   B   C   D    A    B    C    D new_col_list\n",
       "0  a0  b0  c0  d0  a4  b4  c4  d4   a8   b8   c8   d8           n1\n",
       "1  a1  b1  c1  d1  a5  b5  c5  d5   a9   b9   c9   d9           n2\n",
       "2  a2  b2  c2  d2  a6  b6  c6  d6  a10  b10  c10  d10           n3\n",
       "3  a3  b3  c3  d3  a7  b7  c7  d7  a11  b11  c11  d11           n4"
      ]
     },
     "execution_count": 60,
     "metadata": {},
     "output_type": "execute_result"
    }
   ],
   "source": [
    " #열 새로 추가하기 : 리스트 형식\n",
    "col_concat[\"new_col_list\"] = ['n1','n2','n3','n4']\n",
    "col_concat"
   ]
  },
  {
   "cell_type": "code",
   "execution_count": 62,
   "id": "4d6e7141-b090-4d1c-878a-1bd2ca418fe7",
   "metadata": {},
   "outputs": [
    {
     "data": {
      "text/html": [
       "<div>\n",
       "<style scoped>\n",
       "    .dataframe tbody tr th:only-of-type {\n",
       "        vertical-align: middle;\n",
       "    }\n",
       "\n",
       "    .dataframe tbody tr th {\n",
       "        vertical-align: top;\n",
       "    }\n",
       "\n",
       "    .dataframe thead th {\n",
       "        text-align: right;\n",
       "    }\n",
       "</style>\n",
       "<table border=\"1\" class=\"dataframe\">\n",
       "  <thead>\n",
       "    <tr style=\"text-align: right;\">\n",
       "      <th></th>\n",
       "      <th>A</th>\n",
       "      <th>B</th>\n",
       "      <th>C</th>\n",
       "      <th>D</th>\n",
       "      <th>A</th>\n",
       "      <th>B</th>\n",
       "      <th>C</th>\n",
       "      <th>D</th>\n",
       "      <th>A</th>\n",
       "      <th>B</th>\n",
       "      <th>C</th>\n",
       "      <th>D</th>\n",
       "      <th>new_col_list</th>\n",
       "      <th>new_col_series</th>\n",
       "    </tr>\n",
       "  </thead>\n",
       "  <tbody>\n",
       "    <tr>\n",
       "      <th>0</th>\n",
       "      <td>a0</td>\n",
       "      <td>b0</td>\n",
       "      <td>c0</td>\n",
       "      <td>d0</td>\n",
       "      <td>a4</td>\n",
       "      <td>b4</td>\n",
       "      <td>c4</td>\n",
       "      <td>d4</td>\n",
       "      <td>a8</td>\n",
       "      <td>b8</td>\n",
       "      <td>c8</td>\n",
       "      <td>d8</td>\n",
       "      <td>n1</td>\n",
       "      <td>n1</td>\n",
       "    </tr>\n",
       "    <tr>\n",
       "      <th>1</th>\n",
       "      <td>a1</td>\n",
       "      <td>b1</td>\n",
       "      <td>c1</td>\n",
       "      <td>d1</td>\n",
       "      <td>a5</td>\n",
       "      <td>b5</td>\n",
       "      <td>c5</td>\n",
       "      <td>d5</td>\n",
       "      <td>a9</td>\n",
       "      <td>b9</td>\n",
       "      <td>c9</td>\n",
       "      <td>d9</td>\n",
       "      <td>n2</td>\n",
       "      <td>n2</td>\n",
       "    </tr>\n",
       "    <tr>\n",
       "      <th>2</th>\n",
       "      <td>a2</td>\n",
       "      <td>b2</td>\n",
       "      <td>c2</td>\n",
       "      <td>d2</td>\n",
       "      <td>a6</td>\n",
       "      <td>b6</td>\n",
       "      <td>c6</td>\n",
       "      <td>d6</td>\n",
       "      <td>a10</td>\n",
       "      <td>b10</td>\n",
       "      <td>c10</td>\n",
       "      <td>d10</td>\n",
       "      <td>n3</td>\n",
       "      <td>n3</td>\n",
       "    </tr>\n",
       "    <tr>\n",
       "      <th>3</th>\n",
       "      <td>a3</td>\n",
       "      <td>b3</td>\n",
       "      <td>c3</td>\n",
       "      <td>d3</td>\n",
       "      <td>a7</td>\n",
       "      <td>b7</td>\n",
       "      <td>c7</td>\n",
       "      <td>d7</td>\n",
       "      <td>a11</td>\n",
       "      <td>b11</td>\n",
       "      <td>c11</td>\n",
       "      <td>d11</td>\n",
       "      <td>n4</td>\n",
       "      <td>n4</td>\n",
       "    </tr>\n",
       "  </tbody>\n",
       "</table>\n",
       "</div>"
      ],
      "text/plain": [
       "    A   B   C   D   A   B   C   D    A    B    C    D new_col_list  \\\n",
       "0  a0  b0  c0  d0  a4  b4  c4  d4   a8   b8   c8   d8           n1   \n",
       "1  a1  b1  c1  d1  a5  b5  c5  d5   a9   b9   c9   d9           n2   \n",
       "2  a2  b2  c2  d2  a6  b6  c6  d6  a10  b10  c10  d10           n3   \n",
       "3  a3  b3  c3  d3  a7  b7  c7  d7  a11  b11  c11  d11           n4   \n",
       "\n",
       "  new_col_series  \n",
       "0             n1  \n",
       "1             n2  \n",
       "2             n3  \n",
       "3             n4  "
      ]
     },
     "execution_count": 62,
     "metadata": {},
     "output_type": "execute_result"
    }
   ],
   "source": [
    " #열 새로 추가하기 : 시리즈 형식\n",
    "col_concat[\"new_col_series\"] = pd.Series(['n1','n2','n3','n4'])\n",
    "col_concat"
   ]
  },
  {
   "cell_type": "code",
   "execution_count": 64,
   "id": "6f739065-84d3-4341-871e-1ed93e37a6af",
   "metadata": {},
   "outputs": [
    {
     "name": "stdout",
     "output_type": "stream",
     "text": [
      "   0   1   2   3   4   5   6   7    8    9    10   11\n",
      "0  a0  b0  c0  d0  a4  b4  c4  d4   a8   b8   c8   d8\n",
      "1  a1  b1  c1  d1  a5  b5  c5  d5   a9   b9   c9   d9\n",
      "2  a2  b2  c2  d2  a6  b6  c6  d6  a10  b10  c10  d10\n",
      "3  a3  b3  c3  d3  a7  b7  c7  d7  a11  b11  c11  d11\n"
     ]
    }
   ],
   "source": [
    "print(pd.concat([df1,df2,df3], axis=\"columns\", ignore_index=True))\n",
    "\n",
    "#컬럼 정보 무시하고 열 이름을 인덱스로 재설정 -> 중복 삭제"
   ]
  },
  {
   "cell_type": "markdown",
   "id": "3b99e370-ca4d-46b8-9a0a-4faa70c2d89f",
   "metadata": {},
   "source": [
    "---\n",
    "- 인덱스나 열 이름이 다른 데이터 연결하기"
   ]
  },
  {
   "cell_type": "code",
   "execution_count": 70,
   "id": "1872ea69-c040-4e9c-926e-73e96b58f665",
   "metadata": {},
   "outputs": [
    {
     "name": "stdout",
     "output_type": "stream",
     "text": [
      "    A   B   C   D\n",
      "0  a0  b0  c0  d0\n",
      "1  a1  b1  c1  d1\n",
      "2  a2  b2  c2  d2\n",
      "3  a3  b3  c3  d3\n",
      "    E   F   G   H\n",
      "0  a4  b4  c4  d4\n",
      "1  a5  b5  c5  d5\n",
      "2  a6  b6  c6  d6\n",
      "3  a7  b7  c7  d7\n",
      "     A    C    F    H\n",
      "0   a8   b8   c8   d8\n",
      "1   a9   b9   c9   d9\n",
      "2  a10  b10  c10  d10\n",
      "3  a11  b11  c11  d11\n"
     ]
    }
   ],
   "source": [
    "df1.columns = [\"A\", \"B\", \"C\", \"D\"]\n",
    "df2.columns = [\"E\", \"F\", \"G\", \"H\"]\n",
    "df3.columns = [\"A\", \"C\", \"F\", \"H\"]\n",
    "print(df1)\n",
    "print(df2)\n",
    "print(df3)"
   ]
  },
  {
   "cell_type": "code",
   "execution_count": 72,
   "id": "66f258a8-9f35-4c80-906d-7c912d0cd3dc",
   "metadata": {},
   "outputs": [
    {
     "name": "stdout",
     "output_type": "stream",
     "text": [
      "     A    B    C    D    E    F    G    H\n",
      "0   a0   b0   c0   d0  NaN  NaN  NaN  NaN\n",
      "1   a1   b1   c1   d1  NaN  NaN  NaN  NaN\n",
      "2   a2   b2   c2   d2  NaN  NaN  NaN  NaN\n",
      "3   a3   b3   c3   d3  NaN  NaN  NaN  NaN\n",
      "0  NaN  NaN  NaN  NaN   a4   b4   c4   d4\n",
      "1  NaN  NaN  NaN  NaN   a5   b5   c5   d5\n",
      "2  NaN  NaN  NaN  NaN   a6   b6   c6   d6\n",
      "3  NaN  NaN  NaN  NaN   a7   b7   c7   d7\n",
      "0   a8  NaN   b8  NaN  NaN   c8  NaN   d8\n",
      "1   a9  NaN   b9  NaN  NaN   c9  NaN   d9\n",
      "2  a10  NaN  b10  NaN  NaN  c10  NaN  d10\n",
      "3  a11  NaN  b11  NaN  NaN  c11  NaN  d11\n"
     ]
    }
   ],
   "source": [
    "row_concat = pd.concat([df1,df2,df3])\n",
    "print(row_concat)\n",
    "\n",
    "# 열을 자동으로 정렬하고 결측값은 NaN으로 채움"
   ]
  },
  {
   "cell_type": "code",
   "execution_count": 75,
   "id": "4a83d1ab-1b71-45cf-a291-19c1f5cc03bb",
   "metadata": {},
   "outputs": [
    {
     "name": "stdout",
     "output_type": "stream",
     "text": [
      "Empty DataFrame\n",
      "Columns: []\n",
      "Index: [0, 1, 2, 3, 0, 1, 2, 3, 0, 1, 2, 3]\n"
     ]
    }
   ],
   "source": [
    "# join : NaN값을 포함하지 않는 방법 : 객체 사이 공통된 열만 유지 \n",
    "print(pd.concat([df1,df2,df3], join= \"inner\"))\n",
    " #3개 모두 공통인 열은 없으므로 형식만 남음"
   ]
  },
  {
   "cell_type": "code",
   "execution_count": 76,
   "id": "741d1afe-2ac2-485a-aeab-25b0d2157123",
   "metadata": {},
   "outputs": [
    {
     "name": "stdout",
     "output_type": "stream",
     "text": [
      "     A    C\n",
      "0   a0   c0\n",
      "1   a1   c1\n",
      "2   a2   c2\n",
      "3   a3   c3\n",
      "0   a8   b8\n",
      "1   a9   b9\n",
      "2  a10  b10\n",
      "3  a11  b11\n"
     ]
    }
   ],
   "source": [
    "print(pd.concat([df1,df3], ignore_index=False, join= \"inner\"))"
   ]
  },
  {
   "cell_type": "markdown",
   "id": "c62890bf-300b-421b-9d93-9387b649c69c",
   "metadata": {},
   "source": [
    "---\n",
    " - 인덱스가 다른 데이터 열 방향 연결"
   ]
  },
  {
   "cell_type": "code",
   "execution_count": 79,
   "id": "769706e3-83f7-4121-8845-fff2e4765616",
   "metadata": {},
   "outputs": [
    {
     "name": "stdout",
     "output_type": "stream",
     "text": [
      "    A   B   C   D\n",
      "0  a0  b0  c0  d0\n",
      "1  a1  b1  c1  d1\n",
      "2  a2  b2  c2  d2\n",
      "3  a3  b3  c3  d3\n",
      "    E   F   G   H\n",
      "4  a4  b4  c4  d4\n",
      "5  a5  b5  c5  d5\n",
      "6  a6  b6  c6  d6\n",
      "7  a7  b7  c7  d7\n",
      "     A    C    F    H\n",
      "0   a8   b8   c8   d8\n",
      "2   a9   b9   c9   d9\n",
      "5  a10  b10  c10  d10\n",
      "7  a11  b11  c11  d11\n"
     ]
    }
   ],
   "source": [
    "df1.index = [0,1,2,3]\n",
    "df2.index = [4,5,6,7]\n",
    "df3.index = [0,2,5,7]\n",
    "print(df1)\n",
    "print(df2)\n",
    "print(df3)"
   ]
  },
  {
   "cell_type": "code",
   "execution_count": 81,
   "id": "51e7608d-60a3-4255-9219-e14ccf98ae73",
   "metadata": {},
   "outputs": [
    {
     "name": "stdout",
     "output_type": "stream",
     "text": [
      "     A    B    C    D    E    F    G    H    A    C    F    H\n",
      "0   a0   b0   c0   d0  NaN  NaN  NaN  NaN   a8   b8   c8   d8\n",
      "1   a1   b1   c1   d1  NaN  NaN  NaN  NaN  NaN  NaN  NaN  NaN\n",
      "2   a2   b2   c2   d2  NaN  NaN  NaN  NaN   a9   b9   c9   d9\n",
      "3   a3   b3   c3   d3  NaN  NaN  NaN  NaN  NaN  NaN  NaN  NaN\n",
      "4  NaN  NaN  NaN  NaN   a4   b4   c4   d4  NaN  NaN  NaN  NaN\n",
      "5  NaN  NaN  NaN  NaN   a5   b5   c5   d5  a10  b10  c10  d10\n",
      "6  NaN  NaN  NaN  NaN   a6   b6   c6   d6  NaN  NaN  NaN  NaN\n",
      "7  NaN  NaN  NaN  NaN   a7   b7   c7   d7  a11  b11  c11  d11\n"
     ]
    }
   ],
   "source": [
    "col_concat = pd.concat([df1,df2,df3], axis=\"columns\")\n",
    "print(col_concat)\n",
    "\n",
    "#새로운 데이터프레임을 열 방향으로 연결하고 인덱스가 같은 행끼리 연결"
   ]
  },
  {
   "cell_type": "code",
   "execution_count": 83,
   "id": "6ba09145-96f3-4669-a840-259c7daebaba",
   "metadata": {},
   "outputs": [
    {
     "name": "stdout",
     "output_type": "stream",
     "text": [
      "    A   B   C   D   A   C   F   H\n",
      "0  a0  b0  c0  d0  a8  b8  c8  d8\n",
      "2  a2  b2  c2  d2  a9  b9  c9  d9\n"
     ]
    }
   ],
   "source": [
    "print(pd.concat([df1,df3], axis = \"columns\", join= \"inner\"))\n",
    "\n",
    "#인덱스 공통인 데이터만 연결"
   ]
  },
  {
   "cell_type": "markdown",
   "id": "9d22dc33-58f4-4b3a-a3ed-d18a7ae60a6e",
   "metadata": {},
   "source": [
    "---\n",
    "## **분할된 데이터 연결하기**\n",
    " - 파일 크기 상의 이유로 데이터를 분할하여 저장하는 경우가 흔함"
   ]
  },
  {
   "cell_type": "raw",
   "id": "0a3362b7-2ba6-4192-aabc-22e93a24182a",
   "metadata": {},
   "source": [
    "import glob\n",
    "file_ls = glob.glob(\"./codeds/data/billboard-by_week/billboard-*.csv\")\n",
    "billboard_data_files = glob.glob(\"./codeds/data/billboard-by_week/billboard-*.csv\")\n",
    "\n",
    "for file in file_ls : \n",
    "    print(file)"
   ]
  },
  {
   "cell_type": "code",
   "execution_count": 85,
   "id": "976ea91b-02dd-4ee8-922a-b0731058fd3e",
   "metadata": {},
   "outputs": [],
   "source": [
    "from pathlib import Path"
   ]
  },
  {
   "cell_type": "code",
   "execution_count": 97,
   "id": "3f0dffba-9e96-48e7-9d79-a3283b2d4a64",
   "metadata": {},
   "outputs": [
    {
     "name": "stdout",
     "output_type": "stream",
     "text": [
      "[WindowsPath('codes/data/billboard-by_week/billboard-01.csv'), WindowsPath('codes/data/billboard-by_week/billboard-02.csv'), WindowsPath('codes/data/billboard-by_week/billboard-03.csv'), WindowsPath('codes/data/billboard-by_week/billboard-04.csv'), WindowsPath('codes/data/billboard-by_week/billboard-05.csv'), WindowsPath('codes/data/billboard-by_week/billboard-06.csv'), WindowsPath('codes/data/billboard-by_week/billboard-07.csv'), WindowsPath('codes/data/billboard-by_week/billboard-08.csv'), WindowsPath('codes/data/billboard-by_week/billboard-09.csv'), WindowsPath('codes/data/billboard-by_week/billboard-10.csv'), WindowsPath('codes/data/billboard-by_week/billboard-11.csv'), WindowsPath('codes/data/billboard-by_week/billboard-12.csv'), WindowsPath('codes/data/billboard-by_week/billboard-13.csv'), WindowsPath('codes/data/billboard-by_week/billboard-14.csv'), WindowsPath('codes/data/billboard-by_week/billboard-15.csv'), WindowsPath('codes/data/billboard-by_week/billboard-16.csv'), WindowsPath('codes/data/billboard-by_week/billboard-17.csv'), WindowsPath('codes/data/billboard-by_week/billboard-18.csv'), WindowsPath('codes/data/billboard-by_week/billboard-19.csv'), WindowsPath('codes/data/billboard-by_week/billboard-20.csv'), WindowsPath('codes/data/billboard-by_week/billboard-21.csv'), WindowsPath('codes/data/billboard-by_week/billboard-22.csv'), WindowsPath('codes/data/billboard-by_week/billboard-23.csv'), WindowsPath('codes/data/billboard-by_week/billboard-24.csv'), WindowsPath('codes/data/billboard-by_week/billboard-25.csv'), WindowsPath('codes/data/billboard-by_week/billboard-26.csv'), WindowsPath('codes/data/billboard-by_week/billboard-27.csv'), WindowsPath('codes/data/billboard-by_week/billboard-28.csv'), WindowsPath('codes/data/billboard-by_week/billboard-29.csv'), WindowsPath('codes/data/billboard-by_week/billboard-30.csv'), WindowsPath('codes/data/billboard-by_week/billboard-31.csv'), WindowsPath('codes/data/billboard-by_week/billboard-32.csv'), WindowsPath('codes/data/billboard-by_week/billboard-33.csv'), WindowsPath('codes/data/billboard-by_week/billboard-34.csv'), WindowsPath('codes/data/billboard-by_week/billboard-35.csv'), WindowsPath('codes/data/billboard-by_week/billboard-36.csv'), WindowsPath('codes/data/billboard-by_week/billboard-37.csv'), WindowsPath('codes/data/billboard-by_week/billboard-38.csv'), WindowsPath('codes/data/billboard-by_week/billboard-39.csv'), WindowsPath('codes/data/billboard-by_week/billboard-40.csv'), WindowsPath('codes/data/billboard-by_week/billboard-41.csv'), WindowsPath('codes/data/billboard-by_week/billboard-42.csv'), WindowsPath('codes/data/billboard-by_week/billboard-43.csv'), WindowsPath('codes/data/billboard-by_week/billboard-44.csv'), WindowsPath('codes/data/billboard-by_week/billboard-45.csv'), WindowsPath('codes/data/billboard-by_week/billboard-46.csv'), WindowsPath('codes/data/billboard-by_week/billboard-47.csv'), WindowsPath('codes/data/billboard-by_week/billboard-48.csv'), WindowsPath('codes/data/billboard-by_week/billboard-49.csv'), WindowsPath('codes/data/billboard-by_week/billboard-50.csv'), WindowsPath('codes/data/billboard-by_week/billboard-51.csv'), WindowsPath('codes/data/billboard-by_week/billboard-52.csv'), WindowsPath('codes/data/billboard-by_week/billboard-53.csv'), WindowsPath('codes/data/billboard-by_week/billboard-54.csv'), WindowsPath('codes/data/billboard-by_week/billboard-55.csv'), WindowsPath('codes/data/billboard-by_week/billboard-56.csv'), WindowsPath('codes/data/billboard-by_week/billboard-57.csv'), WindowsPath('codes/data/billboard-by_week/billboard-58.csv'), WindowsPath('codes/data/billboard-by_week/billboard-59.csv'), WindowsPath('codes/data/billboard-by_week/billboard-60.csv'), WindowsPath('codes/data/billboard-by_week/billboard-61.csv'), WindowsPath('codes/data/billboard-by_week/billboard-62.csv'), WindowsPath('codes/data/billboard-by_week/billboard-63.csv'), WindowsPath('codes/data/billboard-by_week/billboard-64.csv'), WindowsPath('codes/data/billboard-by_week/billboard-65.csv'), WindowsPath('codes/data/billboard-by_week/billboard-66.csv'), WindowsPath('codes/data/billboard-by_week/billboard-67.csv'), WindowsPath('codes/data/billboard-by_week/billboard-68.csv'), WindowsPath('codes/data/billboard-by_week/billboard-69.csv'), WindowsPath('codes/data/billboard-by_week/billboard-70.csv'), WindowsPath('codes/data/billboard-by_week/billboard-71.csv'), WindowsPath('codes/data/billboard-by_week/billboard-72.csv'), WindowsPath('codes/data/billboard-by_week/billboard-73.csv'), WindowsPath('codes/data/billboard-by_week/billboard-74.csv'), WindowsPath('codes/data/billboard-by_week/billboard-75.csv'), WindowsPath('codes/data/billboard-by_week/billboard-76.csv')]\n"
     ]
    }
   ],
   "source": [
    "# 같은 컬럼에 대한 병합\n",
    "\n",
    "billboard_data_files = (\n",
    "    Path(\".\")\n",
    "    .glob(\"./codes/data/billboard-by_week/billboard-*.csv\")\n",
    ")\n",
    "\n",
    "billboard_data_files = sorted(list(billboard_data_files))\n",
    "    #한개의 파일명을 리스트의 요소 하나로 저장\n",
    "print(billboard_data_files)"
   ]
  },
  {
   "cell_type": "code",
   "execution_count": 98,
   "id": "1ddb4c51-7a1d-4955-bb7d-c2d7840b22c9",
   "metadata": {},
   "outputs": [
    {
     "name": "stdout",
     "output_type": "stream",
     "text": [
      "<class 'list'>\n"
     ]
    }
   ],
   "source": [
    "print(type(billborad_data_files))\n",
    "\n",
    "#billborad_data_files의 데이터 타입은 제너레이터임 : 한번 사용시 내용이 삭제됨\n",
    "billborad_data_files = list(billboard_data_files)"
   ]
  },
  {
   "cell_type": "code",
   "execution_count": null,
   "id": "03c4478c-c6d0-425b-b44e-33ed5e082181",
   "metadata": {},
   "outputs": [],
   "source": []
  },
  {
   "cell_type": "code",
   "execution_count": null,
   "id": "6ffc2496-f94e-49f9-8b77-42ea6a2e62b9",
   "metadata": {},
   "outputs": [],
   "source": []
  },
  {
   "cell_type": "code",
   "execution_count": null,
   "id": "d38369bb-0627-4398-b47c-c2b2a8093384",
   "metadata": {},
   "outputs": [],
   "source": []
  },
  {
   "cell_type": "code",
   "execution_count": null,
   "id": "688d005a-0427-409b-b14a-94204bb3a967",
   "metadata": {},
   "outputs": [],
   "source": []
  },
  {
   "cell_type": "code",
   "execution_count": null,
   "id": "d4806717-42b4-493a-8c97-c06162f6338c",
   "metadata": {},
   "outputs": [],
   "source": []
  },
  {
   "cell_type": "code",
   "execution_count": null,
   "id": "6eca2e5e-4402-4d6b-bb88-fb753ff3ef0b",
   "metadata": {},
   "outputs": [],
   "source": []
  }
 ],
 "metadata": {
  "kernelspec": {
   "display_name": "Python 3 (ipykernel)",
   "language": "python",
   "name": "python3"
  },
  "language_info": {
   "codemirror_mode": {
    "name": "ipython",
    "version": 3
   },
   "file_extension": ".py",
   "mimetype": "text/x-python",
   "name": "python",
   "nbconvert_exporter": "python",
   "pygments_lexer": "ipython3",
   "version": "3.12.9"
  }
 },
 "nbformat": 4,
 "nbformat_minor": 5
}
