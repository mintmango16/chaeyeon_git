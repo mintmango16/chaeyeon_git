{
 "cells": [
  {
   "cell_type": "markdown",
   "id": "e0de386a-4abf-4734-8bf8-d34796ab841b",
   "metadata": {},
   "source": [
    "디렉토리 확인"
   ]
  },
  {
   "cell_type": "code",
   "execution_count": 1,
   "id": "e92228d4-fcb8-4f0a-9aef-37b51c6f3b88",
   "metadata": {},
   "outputs": [
    {
     "data": {
      "text/plain": [
       "'D:\\\\python-workplace'"
      ]
     },
     "execution_count": 1,
     "metadata": {},
     "output_type": "execute_result"
    }
   ],
   "source": [
    "import os\n",
    "os.getcwd()"
   ]
  },
  {
   "cell_type": "markdown",
   "id": "841265e9-2b24-4d47-ba37-d3eb3c27d2dd",
   "metadata": {},
   "source": [
    "'D:\\\\python-workplace' : 역슬래시 2개 = 특수 캐릭터 지정\n",
    "\n",
    "  정슬래시 1개 : 특수 캐릭터가 아님"
   ]
  },
  {
   "cell_type": "markdown",
   "id": "bcdf6f99-7b47-4255-aa83-72043284a409",
   "metadata": {},
   "source": [
    "---\n",
    "### **예외처리**"
   ]
  },
  {
   "cell_type": "code",
   "execution_count": 4,
   "id": "4e5cb5c8-f1e6-4c25-b9f5-37f1a5fc1449",
   "metadata": {},
   "outputs": [
    {
     "name": "stdout",
     "output_type": "stream",
     "text": [
      "division by zero\n"
     ]
    }
   ],
   "source": [
    "try :\n",
    "     4/0\n",
    "except ZeroDivisionError as e : #에러메세지 작성\n",
    "    print(e)"
   ]
  },
  {
   "cell_type": "code",
   "execution_count": 6,
   "id": "675a20ac-513f-406d-a4ed-b39495b40db7",
   "metadata": {},
   "outputs": [
    {
     "name": "stdout",
     "output_type": "stream",
     "text": [
      "finally\n"
     ]
    },
    {
     "ename": "ZeroDivisionError",
     "evalue": "division by zero",
     "output_type": "error",
     "traceback": [
      "\u001b[1;31m---------------------------------------------------------------------------\u001b[0m",
      "\u001b[1;31mZeroDivisionError\u001b[0m                         Traceback (most recent call last)",
      "Cell \u001b[1;32mIn[6], line 3\u001b[0m\n\u001b[0;32m      1\u001b[0m \u001b[38;5;28;01mtry\u001b[39;00m : \n\u001b[0;32m      2\u001b[0m     f \u001b[38;5;241m=\u001b[39m \u001b[38;5;28mopen\u001b[39m(\u001b[38;5;124m\"\u001b[39m\u001b[38;5;124mfoo.txt\u001b[39m\u001b[38;5;124m\"\u001b[39m, \u001b[38;5;124m'\u001b[39m\u001b[38;5;124mw\u001b[39m\u001b[38;5;124m'\u001b[39m)\n\u001b[1;32m----> 3\u001b[0m     \u001b[38;5;241m4\u001b[39m\u001b[38;5;241m/\u001b[39m\u001b[38;5;241m0\u001b[39m\n\u001b[0;32m      5\u001b[0m \u001b[38;5;28;01mfinally\u001b[39;00m :\n\u001b[0;32m      6\u001b[0m     \u001b[38;5;28mprint\u001b[39m(\u001b[38;5;124m\"\u001b[39m\u001b[38;5;124mfinally\u001b[39m\u001b[38;5;124m\"\u001b[39m)\n",
      "\u001b[1;31mZeroDivisionError\u001b[0m: division by zero"
     ]
    }
   ],
   "source": [
    "try : \n",
    "    f = open(\"foo.txt\", 'w')\n",
    "    4/0\n",
    "\n",
    "finally :\n",
    "    print(\"finally\")\n",
    "    f.close()    #중간에 오류가 발생해도 무조건 실행됨\n",
    "\n",
    "    #안하면 백그라운드에 오픈되어있어서 다른 것을 실행할 수 없음 -> 무조건 오픈했으면 클로즈 해줘야함"
   ]
  },
  {
   "cell_type": "code",
   "execution_count": 9,
   "id": "3f15ca18-5e90-47d0-a09e-c5f764465fff",
   "metadata": {},
   "outputs": [
    {
     "name": "stdout",
     "output_type": "stream",
     "text": [
      "인덱싱 할 수 없습니다.\n"
     ]
    }
   ],
   "source": [
    "try :\n",
    "    a = [1,2]\n",
    "    print(a[3])\n",
    "    4 / 0\n",
    "except ZeroDivisionError as e : #에러메세지 작성\n",
    "    print(e)\n",
    "except IndexError :\n",
    "    print(\"인덱싱 할 수 없습니다.\")"
   ]
  },
  {
   "cell_type": "code",
   "execution_count": 13,
   "id": "634ad927-23a1-4932-9921-0c6edde4ef7b",
   "metadata": {},
   "outputs": [
    {
     "name": "stdout",
     "output_type": "stream",
     "text": [
      "list index out of range\n"
     ]
    }
   ],
   "source": [
    "try :\n",
    "    a = [1,2]\n",
    "    print(a[3])\n",
    "    4 / 0\n",
    "except (ZeroDivisionError, IndexError) as e : #해당 에러에 해당하는 에러메세지 작성\n",
    "    print(e)"
   ]
  },
  {
   "cell_type": "code",
   "execution_count": 15,
   "id": "2544fea1-80c2-4cf3-8df5-c03b08ca6592",
   "metadata": {},
   "outputs": [
    {
     "name": "stdin",
     "output_type": "stream",
     "text": [
      "나이를 입력하세요. 24\n"
     ]
    },
    {
     "name": "stdout",
     "output_type": "stream",
     "text": [
      "환영합니다.\n"
     ]
    }
   ],
   "source": [
    "try :\n",
    "    age = int(input(\"나이를 입력하세요.\"))\n",
    "\n",
    "except :\n",
    "    print('입력 데이터가 정확하지 않습니다.')\n",
    "else :\n",
    "    if age <= 18 :\n",
    "        print(\"미성년자는 출입금지입니다.\")\n",
    "    else :\n",
    "        print(\"환영합니다.\")"
   ]
  },
  {
   "cell_type": "code",
   "execution_count": 18,
   "id": "81acdae5-8aa5-4ee8-8a9d-9f4cf59df769",
   "metadata": {},
   "outputs": [],
   "source": [
    "try :\n",
    "    f = open(\"나는 없는 파일\", \"r\")\n",
    "except FileNotFoundError :\n",
    "    pass    "
   ]
  },
  {
   "cell_type": "code",
   "execution_count": 42,
   "id": "97a98b0f-1149-49e7-93b1-8cfd8a3cfddc",
   "metadata": {},
   "outputs": [],
   "source": [
    "class Bird :\n",
    "    def fly(self) :\n",
    "       print(\"very fast\")\n",
    "       #raise NotImplementedError #오류 일부러 발생"
   ]
  },
  {
   "cell_type": "code",
   "execution_count": 44,
   "id": "5b5cc0e1-93d2-43ee-9cae-4daab5225176",
   "metadata": {},
   "outputs": [
    {
     "name": "stdout",
     "output_type": "stream",
     "text": [
      "very fast\n"
     ]
    }
   ],
   "source": [
    "class Eagle(Bird):\n",
    "    pass\n",
    "\n",
    "eagle = Eagle()\n",
    "eagle.fly()"
   ]
  },
  {
   "cell_type": "code",
   "execution_count": 45,
   "id": "11302cc3-02cf-4edb-bac3-7e2a55933b9b",
   "metadata": {},
   "outputs": [],
   "source": [
    "# 사용자 예외 처리\n",
    "class MyError(Exception):\n",
    "    pass"
   ]
  },
  {
   "cell_type": "code",
   "execution_count": 46,
   "id": "d7f9982d-235a-4c1f-b07b-16e854902992",
   "metadata": {},
   "outputs": [],
   "source": [
    "def say_nick(nick):\n",
    "    if nick == \"바보\":\n",
    "        raise MyError()\n",
    "    print(nick)"
   ]
  },
  {
   "cell_type": "code",
   "execution_count": 47,
   "id": "29015471-436d-4ed2-9990-9f78209811e4",
   "metadata": {},
   "outputs": [
    {
     "name": "stdout",
     "output_type": "stream",
     "text": [
      "천사\n"
     ]
    },
    {
     "ename": "MyError",
     "evalue": "",
     "output_type": "error",
     "traceback": [
      "\u001b[1;31m---------------------------------------------------------------------------\u001b[0m",
      "\u001b[1;31mMyError\u001b[0m                                   Traceback (most recent call last)",
      "Cell \u001b[1;32mIn[47], line 2\u001b[0m\n\u001b[0;32m      1\u001b[0m say_nick(\u001b[38;5;124m\"\u001b[39m\u001b[38;5;124m천사\u001b[39m\u001b[38;5;124m\"\u001b[39m)\n\u001b[1;32m----> 2\u001b[0m say_nick(\u001b[38;5;124m\"\u001b[39m\u001b[38;5;124m바보\u001b[39m\u001b[38;5;124m\"\u001b[39m)\n",
      "Cell \u001b[1;32mIn[46], line 3\u001b[0m, in \u001b[0;36msay_nick\u001b[1;34m(nick)\u001b[0m\n\u001b[0;32m      1\u001b[0m \u001b[38;5;28;01mdef\u001b[39;00m \u001b[38;5;21msay_nick\u001b[39m(nick):\n\u001b[0;32m      2\u001b[0m     \u001b[38;5;28;01mif\u001b[39;00m nick \u001b[38;5;241m==\u001b[39m \u001b[38;5;124m\"\u001b[39m\u001b[38;5;124m바보\u001b[39m\u001b[38;5;124m\"\u001b[39m:\n\u001b[1;32m----> 3\u001b[0m         \u001b[38;5;28;01mraise\u001b[39;00m MyError()\n\u001b[0;32m      4\u001b[0m     \u001b[38;5;28mprint\u001b[39m(nick)\n",
      "\u001b[1;31mMyError\u001b[0m: "
     ]
    }
   ],
   "source": [
    "say_nick(\"천사\")\n",
    "say_nick(\"바보\")"
   ]
  },
  {
   "cell_type": "code",
   "execution_count": 49,
   "id": "f32e433b-9ee1-4e3b-8a2d-6dd52ea39eb3",
   "metadata": {},
   "outputs": [
    {
     "name": "stdout",
     "output_type": "stream",
     "text": [
      "천사\n",
      "허용되지 않은 단어입니다.\n",
      "계속 진행\n"
     ]
    }
   ],
   "source": [
    "try:\n",
    "    say_nick(\"천사\")\n",
    "    say_nick(\"바보\")\n",
    "except MyError:\n",
    "    print(\"허용되지 않은 단어입니다.\")\n",
    "    \n",
    "print(\"계속 진행\")"
   ]
  },
  {
   "cell_type": "code",
   "execution_count": 50,
   "id": "0291202d-ebe9-4b67-868a-ae7ec1b3631e",
   "metadata": {},
   "outputs": [],
   "source": [
    "# 사용자 예외 처리\n",
    "class MyError(Exception):\n",
    "    def __str__(self):\n",
    "        return \"허용되지 않은 단어입니다.\"\n",
    "        "
   ]
  },
  {
   "cell_type": "code",
   "execution_count": 51,
   "id": "8841554d-9a58-47b1-8d5e-e983b6815c2f",
   "metadata": {},
   "outputs": [
    {
     "name": "stdout",
     "output_type": "stream",
     "text": [
      "천사\n",
      "허용되지 않은 단어입니다.\n",
      "계속 진행\n"
     ]
    }
   ],
   "source": [
    "try:\n",
    "    say_nick(\"천사\")\n",
    "    say_nick(\"바보\")\n",
    "except MyError as e:\n",
    "    print(e)\n",
    "print(\"계속 진행\")"
   ]
  },
  {
   "cell_type": "markdown",
   "id": "4f50902c-3426-44a2-8467-e0c40ce97834",
   "metadata": {},
   "source": [
    "---\n",
    "### **내장 함수** _ 250415"
   ]
  },
  {
   "cell_type": "markdown",
   "id": "d345faff-dc85-4768-94bd-4b5ee3574061",
   "metadata": {},
   "source": [
    "- **abs()** : 숫자를 입력하면 절댓값 반환\n",
    "- **all(x)** : x의 요소가 모두 참이면 T(1이상), 하나라도 거짓이면 F(0) 리턴 -> 불린값(1byte) 반환\n",
    "- **any(x)** : 하나라도 참이면 T, 모두 거짓일 때만 F 리턴\n",
    "- **chr(i)** : 유니코드 숫자 값을 입력받아 코드에 해당하는 문자 리턴\n",
    "    (https://symbl.cc/en/unicode-table/#latin-extended-a)  * ANCI -> cp949\n",
    "- **dir()** : 객체가 지닌 변수나 함수를 리턴\n",
    "- **divmod(a,b)** : a를 b로 나눈 몫과 나머지를 튜플형식으로 리턴 ->(몫, 나머지)\n",
    "- **enumerate(x)** : 인덱스 값을 포함하는 enumerate 객체 리턴 (리스트, 튜플, 문자열만 가능)\n",
    "- **eval(expression)** :\n",
    "- **filter(f, iterable)** : 함수 f를 통해 iterableㅇ\n",
    "        lambda 활용가능\n",
    "- **hex(x)** : 정수 값을 입력받아 16진수(hexadecimal) 문자열로 리턴\n",
    "- **id(object)** : 객체를 입력받아 고유 reference(memory의 주솟값) 리턴\n",
    "- **input([prompt])**\n",
    "- **int(x)** : 정수로 리턴\n",
    "       radix 진수 int(\"1A\", 16) ->26\n",
    "- **isinstance(object, class)** : 입력받은 객체가 클래스의 인스턴스인지 판단하여 T/F 반환\n",
    "- **len()** : 입력값의 길이 리턴(문자열, 리스트, 튜플)\n",
    "- **list(iterable)** : 반복 가능한 데이터를 입력받아 리스트로 만들어 리턴\n",
    "- **map(f, iterable)** : 입력받은 데이터의 각 요소에 함수 f를 적용한 결과 리턴\n",
    "        lambda 활용가능\n",
    "- **max(), min()** : 최댓값/최솟값 반환\n",
    "- **oct()** : 정수를 8진수 문자열로 바꾸어 리턴\n",
    "- **open(filename, [mode])** : mode defalut=\"r\"\n",
    "- **ord()** : 문자의 유니코드 숫자값 리턴\n",
    "- **pow(x,y)** : x를 y제곱한 결과값 리턴\n",
    "- **range([start], stop, [step])**\n",
    "- **round(number [, ndigits])** : 표시하고 싶은 소수점 자릿수를 입력받아 소수를 반올림해줌\n",
    "- **sorted(iterable)** : defalut = 오름차순, 입력데이터 정렬한 후 리스트로 리턴\n",
    "- **str()** : 문자열로 변환\n",
    "- **sum()** : 요소의 총합 반환\n",
    "- **tuple(iterable)** : 반복 가능 데이터는 튜플로 전환\n",
    "- **type(object)** : 자료형 확인\n",
    "- **zip(iterable)** : 동일한 개수로 이루어진 데이터를 묶어 리턴"
   ]
  },
  {
   "cell_type": "code",
   "execution_count": 11,
   "id": "518d7287-e08b-4100-ac41-e458c0ce21d7",
   "metadata": {},
   "outputs": [
    {
     "name": "stdin",
     "output_type": "stream",
     "text": [
      "몇단을 출력하시겠습니까? 5\n"
     ]
    },
    {
     "name": "stdout",
     "output_type": "stream",
     "text": [
      "5 x 1 = 5\n",
      "5 x 2 = 10\n",
      "5 x 3 = 15\n",
      "5 x 4 = 20\n",
      "5 x 5 = 25\n",
      "5 x 6 = 30\n",
      "5 x 7 = 35\n",
      "5 x 8 = 40\n",
      "5 x 9 = 45\n",
      "5 x 10 = 50\n",
      "5 x 11 = 55\n",
      "5 x 12 = 60\n",
      "5 x 13 = 65\n",
      "5 x 14 = 70\n",
      "5 x 15 = 75\n",
      "5 x 16 = 80\n",
      "5 x 17 = 85\n",
      "5 x 18 = 90\n",
      "5 x 19 = 95\n"
     ]
    }
   ],
   "source": [
    "#구구단 출력하기\n",
    "\n",
    "try :\n",
    "    num = int(input(\"몇단을 출력하시겠습니까?\"))\n",
    "    if num < 20 :\n",
    "        for j in range(1,20):\n",
    "            print(f\"{num} x {j} = {num*j}\")\n",
    "    else :\n",
    "        print(\"19단까지 가능합니다. 2s~19사이의 숫자를 입력해주세요.\")\n",
    "except ValueError :\n",
    "    print(\"숫자를 입력해주세요\")"
   ]
  },
  {
   "cell_type": "code",
   "execution_count": 12,
   "id": "bcb5e0ba-108e-4efe-b150-223d7352050d",
   "metadata": {},
   "outputs": [
    {
     "name": "stdout",
     "output_type": "stream",
     "text": [
      "2 x 1 = 2\n",
      "2 x 2 = 4\n",
      "2 x 3 = 6\n",
      "2 x 4 = 8\n",
      "2 x 5 = 10\n",
      "2 x 6 = 12\n",
      "2 x 7 = 14\n",
      "2 x 8 = 16\n",
      "2 x 9 = 18\n",
      "2 x 10 = 20\n",
      "2 x 11 = 22\n",
      "2 x 12 = 24\n",
      "2 x 13 = 26\n",
      "2 x 14 = 28\n",
      "2 x 15 = 30\n",
      "2 x 16 = 32\n",
      "2 x 17 = 34\n",
      "2 x 18 = 36\n",
      "2 x 19 = 38\n",
      "3 x 1 = 3\n",
      "3 x 2 = 6\n",
      "3 x 3 = 9\n",
      "3 x 4 = 12\n",
      "3 x 5 = 15\n",
      "3 x 6 = 18\n",
      "3 x 7 = 21\n",
      "3 x 8 = 24\n",
      "3 x 9 = 27\n",
      "3 x 10 = 30\n",
      "3 x 11 = 33\n",
      "3 x 12 = 36\n",
      "3 x 13 = 39\n",
      "3 x 14 = 42\n",
      "3 x 15 = 45\n",
      "3 x 16 = 48\n",
      "3 x 17 = 51\n",
      "3 x 18 = 54\n",
      "3 x 19 = 57\n",
      "4 x 1 = 4\n",
      "4 x 2 = 8\n",
      "4 x 3 = 12\n",
      "4 x 4 = 16\n",
      "4 x 5 = 20\n",
      "4 x 6 = 24\n",
      "4 x 7 = 28\n",
      "4 x 8 = 32\n",
      "4 x 9 = 36\n",
      "4 x 10 = 40\n",
      "4 x 11 = 44\n",
      "4 x 12 = 48\n",
      "4 x 13 = 52\n",
      "4 x 14 = 56\n",
      "4 x 15 = 60\n",
      "4 x 16 = 64\n",
      "4 x 17 = 68\n",
      "4 x 18 = 72\n",
      "4 x 19 = 76\n",
      "5 x 1 = 5\n",
      "5 x 2 = 10\n",
      "5 x 3 = 15\n",
      "5 x 4 = 20\n",
      "5 x 5 = 25\n",
      "5 x 6 = 30\n",
      "5 x 7 = 35\n",
      "5 x 8 = 40\n",
      "5 x 9 = 45\n",
      "5 x 10 = 50\n",
      "5 x 11 = 55\n",
      "5 x 12 = 60\n",
      "5 x 13 = 65\n",
      "5 x 14 = 70\n",
      "5 x 15 = 75\n",
      "5 x 16 = 80\n",
      "5 x 17 = 85\n",
      "5 x 18 = 90\n",
      "5 x 19 = 95\n",
      "6 x 1 = 6\n",
      "6 x 2 = 12\n",
      "6 x 3 = 18\n",
      "6 x 4 = 24\n",
      "6 x 5 = 30\n",
      "6 x 6 = 36\n",
      "6 x 7 = 42\n",
      "6 x 8 = 48\n",
      "6 x 9 = 54\n",
      "6 x 10 = 60\n",
      "6 x 11 = 66\n",
      "6 x 12 = 72\n",
      "6 x 13 = 78\n",
      "6 x 14 = 84\n",
      "6 x 15 = 90\n",
      "6 x 16 = 96\n",
      "6 x 17 = 102\n",
      "6 x 18 = 108\n",
      "6 x 19 = 114\n",
      "7 x 1 = 7\n",
      "7 x 2 = 14\n",
      "7 x 3 = 21\n",
      "7 x 4 = 28\n",
      "7 x 5 = 35\n",
      "7 x 6 = 42\n",
      "7 x 7 = 49\n",
      "7 x 8 = 56\n",
      "7 x 9 = 63\n",
      "7 x 10 = 70\n",
      "7 x 11 = 77\n",
      "7 x 12 = 84\n",
      "7 x 13 = 91\n",
      "7 x 14 = 98\n",
      "7 x 15 = 105\n",
      "7 x 16 = 112\n",
      "7 x 17 = 119\n",
      "7 x 18 = 126\n",
      "7 x 19 = 133\n",
      "8 x 1 = 8\n",
      "8 x 2 = 16\n",
      "8 x 3 = 24\n",
      "8 x 4 = 32\n",
      "8 x 5 = 40\n",
      "8 x 6 = 48\n",
      "8 x 7 = 56\n",
      "8 x 8 = 64\n",
      "8 x 9 = 72\n",
      "8 x 10 = 80\n",
      "8 x 11 = 88\n",
      "8 x 12 = 96\n",
      "8 x 13 = 104\n",
      "8 x 14 = 112\n",
      "8 x 15 = 120\n",
      "8 x 16 = 128\n",
      "8 x 17 = 136\n",
      "8 x 18 = 144\n",
      "8 x 19 = 152\n",
      "9 x 1 = 9\n",
      "9 x 2 = 18\n",
      "9 x 3 = 27\n",
      "9 x 4 = 36\n",
      "9 x 5 = 45\n",
      "9 x 6 = 54\n",
      "9 x 7 = 63\n",
      "9 x 8 = 72\n",
      "9 x 9 = 81\n",
      "9 x 10 = 90\n",
      "9 x 11 = 99\n",
      "9 x 12 = 108\n",
      "9 x 13 = 117\n",
      "9 x 14 = 126\n",
      "9 x 15 = 135\n",
      "9 x 16 = 144\n",
      "9 x 17 = 153\n",
      "9 x 18 = 162\n",
      "9 x 19 = 171\n",
      "10 x 1 = 10\n",
      "10 x 2 = 20\n",
      "10 x 3 = 30\n",
      "10 x 4 = 40\n",
      "10 x 5 = 50\n",
      "10 x 6 = 60\n",
      "10 x 7 = 70\n",
      "10 x 8 = 80\n",
      "10 x 9 = 90\n",
      "10 x 10 = 100\n",
      "10 x 11 = 110\n",
      "10 x 12 = 120\n",
      "10 x 13 = 130\n",
      "10 x 14 = 140\n",
      "10 x 15 = 150\n",
      "10 x 16 = 160\n",
      "10 x 17 = 170\n",
      "10 x 18 = 180\n",
      "10 x 19 = 190\n",
      "11 x 1 = 11\n",
      "11 x 2 = 22\n",
      "11 x 3 = 33\n",
      "11 x 4 = 44\n",
      "11 x 5 = 55\n",
      "11 x 6 = 66\n",
      "11 x 7 = 77\n",
      "11 x 8 = 88\n",
      "11 x 9 = 99\n",
      "11 x 10 = 110\n",
      "11 x 11 = 121\n",
      "11 x 12 = 132\n",
      "11 x 13 = 143\n",
      "11 x 14 = 154\n",
      "11 x 15 = 165\n",
      "11 x 16 = 176\n",
      "11 x 17 = 187\n",
      "11 x 18 = 198\n",
      "11 x 19 = 209\n",
      "12 x 1 = 12\n",
      "12 x 2 = 24\n",
      "12 x 3 = 36\n",
      "12 x 4 = 48\n",
      "12 x 5 = 60\n",
      "12 x 6 = 72\n",
      "12 x 7 = 84\n",
      "12 x 8 = 96\n",
      "12 x 9 = 108\n",
      "12 x 10 = 120\n",
      "12 x 11 = 132\n",
      "12 x 12 = 144\n",
      "12 x 13 = 156\n",
      "12 x 14 = 168\n",
      "12 x 15 = 180\n",
      "12 x 16 = 192\n",
      "12 x 17 = 204\n",
      "12 x 18 = 216\n",
      "12 x 19 = 228\n",
      "13 x 1 = 13\n",
      "13 x 2 = 26\n",
      "13 x 3 = 39\n",
      "13 x 4 = 52\n",
      "13 x 5 = 65\n",
      "13 x 6 = 78\n",
      "13 x 7 = 91\n",
      "13 x 8 = 104\n",
      "13 x 9 = 117\n",
      "13 x 10 = 130\n",
      "13 x 11 = 143\n",
      "13 x 12 = 156\n",
      "13 x 13 = 169\n",
      "13 x 14 = 182\n",
      "13 x 15 = 195\n",
      "13 x 16 = 208\n",
      "13 x 17 = 221\n",
      "13 x 18 = 234\n",
      "13 x 19 = 247\n",
      "14 x 1 = 14\n",
      "14 x 2 = 28\n",
      "14 x 3 = 42\n",
      "14 x 4 = 56\n",
      "14 x 5 = 70\n",
      "14 x 6 = 84\n",
      "14 x 7 = 98\n",
      "14 x 8 = 112\n",
      "14 x 9 = 126\n",
      "14 x 10 = 140\n",
      "14 x 11 = 154\n",
      "14 x 12 = 168\n",
      "14 x 13 = 182\n",
      "14 x 14 = 196\n",
      "14 x 15 = 210\n",
      "14 x 16 = 224\n",
      "14 x 17 = 238\n",
      "14 x 18 = 252\n",
      "14 x 19 = 266\n",
      "15 x 1 = 15\n",
      "15 x 2 = 30\n",
      "15 x 3 = 45\n",
      "15 x 4 = 60\n",
      "15 x 5 = 75\n",
      "15 x 6 = 90\n",
      "15 x 7 = 105\n",
      "15 x 8 = 120\n",
      "15 x 9 = 135\n",
      "15 x 10 = 150\n",
      "15 x 11 = 165\n",
      "15 x 12 = 180\n",
      "15 x 13 = 195\n",
      "15 x 14 = 210\n",
      "15 x 15 = 225\n",
      "15 x 16 = 240\n",
      "15 x 17 = 255\n",
      "15 x 18 = 270\n",
      "15 x 19 = 285\n",
      "16 x 1 = 16\n",
      "16 x 2 = 32\n",
      "16 x 3 = 48\n",
      "16 x 4 = 64\n",
      "16 x 5 = 80\n",
      "16 x 6 = 96\n",
      "16 x 7 = 112\n",
      "16 x 8 = 128\n",
      "16 x 9 = 144\n",
      "16 x 10 = 160\n",
      "16 x 11 = 176\n",
      "16 x 12 = 192\n",
      "16 x 13 = 208\n",
      "16 x 14 = 224\n",
      "16 x 15 = 240\n",
      "16 x 16 = 256\n",
      "16 x 17 = 272\n",
      "16 x 18 = 288\n",
      "16 x 19 = 304\n",
      "17 x 1 = 17\n",
      "17 x 2 = 34\n",
      "17 x 3 = 51\n",
      "17 x 4 = 68\n",
      "17 x 5 = 85\n",
      "17 x 6 = 102\n",
      "17 x 7 = 119\n",
      "17 x 8 = 136\n",
      "17 x 9 = 153\n",
      "17 x 10 = 170\n",
      "17 x 11 = 187\n",
      "17 x 12 = 204\n",
      "17 x 13 = 221\n",
      "17 x 14 = 238\n",
      "17 x 15 = 255\n",
      "17 x 16 = 272\n",
      "17 x 17 = 289\n",
      "17 x 18 = 306\n",
      "17 x 19 = 323\n",
      "18 x 1 = 18\n",
      "18 x 2 = 36\n",
      "18 x 3 = 54\n",
      "18 x 4 = 72\n",
      "18 x 5 = 90\n",
      "18 x 6 = 108\n",
      "18 x 7 = 126\n",
      "18 x 8 = 144\n",
      "18 x 9 = 162\n",
      "18 x 10 = 180\n",
      "18 x 11 = 198\n",
      "18 x 12 = 216\n",
      "18 x 13 = 234\n",
      "18 x 14 = 252\n",
      "18 x 15 = 270\n",
      "18 x 16 = 288\n",
      "18 x 17 = 306\n",
      "18 x 18 = 324\n",
      "18 x 19 = 342\n",
      "19 x 1 = 19\n",
      "19 x 2 = 38\n",
      "19 x 3 = 57\n",
      "19 x 4 = 76\n",
      "19 x 5 = 95\n",
      "19 x 6 = 114\n",
      "19 x 7 = 133\n",
      "19 x 8 = 152\n",
      "19 x 9 = 171\n",
      "19 x 10 = 190\n",
      "19 x 11 = 209\n",
      "19 x 12 = 228\n",
      "19 x 13 = 247\n",
      "19 x 14 = 266\n",
      "19 x 15 = 285\n",
      "19 x 16 = 304\n",
      "19 x 17 = 323\n",
      "19 x 18 = 342\n",
      "19 x 19 = 361\n"
     ]
    }
   ],
   "source": [
    "#2단 - 19단 모두 출력\n",
    "\n",
    "for i in range(2,20):\n",
    "    for j in range(1,20):\n",
    "        print(f\"{i} x {j} = {i*j}\")"
   ]
  },
  {
   "cell_type": "code",
   "execution_count": null,
   "id": "086a5178-832c-40dc-a3fd-dd7308cc7dee",
   "metadata": {},
   "outputs": [],
   "source": []
  },
  {
   "cell_type": "code",
   "execution_count": null,
   "id": "d3f8a1d1-9e55-4647-95a4-d6f4ce654bf3",
   "metadata": {},
   "outputs": [],
   "source": []
  },
  {
   "cell_type": "code",
   "execution_count": null,
   "id": "daec3d26-ff52-4a46-b4d2-57f84e415706",
   "metadata": {},
   "outputs": [],
   "source": []
  },
  {
   "cell_type": "code",
   "execution_count": null,
   "id": "85adfb2e-5dc4-4a35-82de-a5190384fdff",
   "metadata": {},
   "outputs": [],
   "source": []
  },
  {
   "cell_type": "code",
   "execution_count": null,
   "id": "685bd08a-dc22-4730-9684-e4a786870ce7",
   "metadata": {},
   "outputs": [],
   "source": []
  },
  {
   "cell_type": "code",
   "execution_count": null,
   "id": "3ad330a4-1ef2-44ab-ba5e-8f08feb7e390",
   "metadata": {},
   "outputs": [],
   "source": []
  },
  {
   "cell_type": "code",
   "execution_count": null,
   "id": "c6509c0a-eebf-4db1-879a-744314d7670c",
   "metadata": {},
   "outputs": [],
   "source": []
  },
  {
   "cell_type": "code",
   "execution_count": null,
   "id": "7ae2222f-0dc4-4db3-97fc-bd59d370fbaf",
   "metadata": {},
   "outputs": [],
   "source": []
  }
 ],
 "metadata": {
  "kernelspec": {
   "display_name": "Python 3 (ipykernel)",
   "language": "python",
   "name": "python3"
  },
  "language_info": {
   "codemirror_mode": {
    "name": "ipython",
    "version": 3
   },
   "file_extension": ".py",
   "mimetype": "text/x-python",
   "name": "python",
   "nbconvert_exporter": "python",
   "pygments_lexer": "ipython3",
   "version": "3.12.9"
  }
 },
 "nbformat": 4,
 "nbformat_minor": 5
}
