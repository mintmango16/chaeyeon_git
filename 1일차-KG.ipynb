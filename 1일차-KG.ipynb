{
 "cells": [
  {
   "cell_type": "markdown",
   "id": "0d837afc-f648-441b-ae7b-31616a8de98e",
   "metadata": {},
   "source": [
    "# 기본 연산"
   ]
  },
  {
   "cell_type": "code",
   "execution_count": 12,
   "id": "f60a5f64-de11-4f4f-8514-a08ae483d15b",
   "metadata": {},
   "outputs": [
    {
     "name": "stdout",
     "output_type": "stream",
     "text": [
      "0.5\n"
     ]
    }
   ],
   "source": [
    "print(100 / 200)   # +, -, //, * , %"
   ]
  },
  {
   "cell_type": "code",
   "execution_count": 5,
   "id": "38d1855c-86ae-43fb-ab93-5321709a9510",
   "metadata": {},
   "outputs": [
    {
     "name": "stdout",
     "output_type": "stream",
     "text": [
      "200\n"
     ]
    }
   ],
   "source": [
    "print() # 정수는 표현에 제한이 없음 "
   ]
  },
  {
   "cell_type": "code",
   "execution_count": 16,
   "id": "b0e4e6ed-cb9c-4bce-ad33-69c11d57fbf6",
   "metadata": {},
   "outputs": [
    {
     "data": {
      "text/plain": [
       "281474976710656"
      ]
     },
     "execution_count": 16,
     "metadata": {},
     "output_type": "execute_result"
    }
   ],
   "source": [
    "2 ** 48   # 표현의 한계  ( 4 byte )   - C, C++. JAVA "
   ]
  },
  {
   "cell_type": "code",
   "execution_count": 1,
   "id": "bc6a5a32-4a34-48f5-956b-a1bc9edea671",
   "metadata": {},
   "outputs": [
    {
     "data": {
      "text/plain": [
       "1234567890123456789012345678901234567891"
      ]
     },
     "execution_count": 1,
     "metadata": {},
     "output_type": "execute_result"
    }
   ],
   "source": [
    "1234567890123456789012345678901234567890 + 1"
   ]
  },
  {
   "cell_type": "code",
   "execution_count": 18,
   "id": "5df84962-82cf-4578-b6f8-49c469fff012",
   "metadata": {},
   "outputs": [
    {
     "data": {
      "text/plain": [
       "int"
      ]
     },
     "execution_count": 18,
     "metadata": {},
     "output_type": "execute_result"
    }
   ],
   "source": [
    "a = 1\n",
    "type(a)"
   ]
  },
  {
   "cell_type": "code",
   "execution_count": 19,
   "id": "ce405f4c-58eb-4b37-9b91-eacee6355d0b",
   "metadata": {},
   "outputs": [
    {
     "data": {
      "text/plain": [
       "str"
      ]
     },
     "execution_count": 19,
     "metadata": {},
     "output_type": "execute_result"
    }
   ],
   "source": [
    "a = \"a\"\n",
    "type(a)"
   ]
  },
  {
   "cell_type": "code",
   "execution_count": 20,
   "id": "847819a7-6ae8-41a4-8c4d-17fd3b104034",
   "metadata": {},
   "outputs": [
    {
     "data": {
      "text/plain": [
       "float"
      ]
     },
     "execution_count": 20,
     "metadata": {},
     "output_type": "execute_result"
    }
   ],
   "source": [
    "a = 1.1 \n",
    "type(a)"
   ]
  },
  {
   "cell_type": "code",
   "execution_count": 21,
   "id": "b95becef-bce9-41f8-8523-7b188c26286d",
   "metadata": {},
   "outputs": [
    {
     "data": {
      "text/plain": [
       "bool"
      ]
     },
     "execution_count": 21,
     "metadata": {},
     "output_type": "execute_result"
    }
   ],
   "source": [
    "a = True\n",
    "type(a)"
   ]
  },
  {
   "cell_type": "code",
   "execution_count": 22,
   "id": "8a190a53-cf00-4bc4-83a5-81d2b5c293ad",
   "metadata": {},
   "outputs": [
    {
     "name": "stdout",
     "output_type": "stream",
     "text": [
      "110\n"
     ]
    }
   ],
   "source": [
    "print( 100 + 10 )"
   ]
  },
  {
   "cell_type": "code",
   "execution_count": 23,
   "id": "386bba07-348f-4746-a663-ae01fba44d99",
   "metadata": {},
   "outputs": [
    {
     "name": "stdout",
     "output_type": "stream",
     "text": [
      "90\n"
     ]
    }
   ],
   "source": [
    "print( 100 - 10 )"
   ]
  },
  {
   "cell_type": "code",
   "execution_count": 24,
   "id": "12c9c496-6719-474d-865d-4e7703976fcc",
   "metadata": {},
   "outputs": [
    {
     "name": "stdout",
     "output_type": "stream",
     "text": [
      "10.0\n"
     ]
    }
   ],
   "source": [
    "print( 100 / 10 )"
   ]
  },
  {
   "cell_type": "code",
   "execution_count": 25,
   "id": "605530bf-e306-40d8-a594-02658dca7651",
   "metadata": {},
   "outputs": [
    {
     "name": "stdout",
     "output_type": "stream",
     "text": [
      "1000\n"
     ]
    }
   ],
   "source": [
    "print( 100 * 10 )"
   ]
  },
  {
   "cell_type": "code",
   "execution_count": 27,
   "id": "cc215b3e-24da-4d08-9b31-9f32e572bead",
   "metadata": {},
   "outputs": [
    {
     "name": "stdout",
     "output_type": "stream",
     "text": [
      "33\n"
     ]
    }
   ],
   "source": [
    "print( 100 // 3 )   # 몫"
   ]
  },
  {
   "cell_type": "code",
   "execution_count": 28,
   "id": "90d03930-2b60-476e-b1f3-9138db646f28",
   "metadata": {},
   "outputs": [
    {
     "name": "stdout",
     "output_type": "stream",
     "text": [
      "1\n"
     ]
    }
   ],
   "source": [
    "print( 100 % 3 )    # 나머지"
   ]
  },
  {
   "cell_type": "code",
   "execution_count": 29,
   "id": "ae0989b2-a86e-4734-bc8e-9166200bedef",
   "metadata": {},
   "outputs": [
    {
     "name": "stdout",
     "output_type": "stream",
     "text": [
      "100000000000000000000\n"
     ]
    }
   ],
   "source": [
    "print( 100 ** 10 )  # 제곱"
   ]
  },
  {
   "cell_type": "code",
   "execution_count": 30,
   "id": "b710f41c-32c9-4d78-8167-90c36ef0240b",
   "metadata": {},
   "outputs": [
    {
     "data": {
      "text/plain": [
       "110"
      ]
     },
     "execution_count": 30,
     "metadata": {},
     "output_type": "execute_result"
    }
   ],
   "source": [
    "a = 100 + 10\n",
    "a"
   ]
  },
  {
   "cell_type": "code",
   "execution_count": 31,
   "id": "1d6c846d-e2fe-486c-9cc4-04670ee9229e",
   "metadata": {},
   "outputs": [
    {
     "name": "stdout",
     "output_type": "stream",
     "text": [
      "True\n",
      "False\n",
      "False\n",
      "False\n"
     ]
    }
   ],
   "source": [
    "# 논리 연산( and, or )\n",
    "print( True and True )        #   a == 1\n",
    "print( True and False )\n",
    "print( False and True )\n",
    "print( False and False )"
   ]
  },
  {
   "cell_type": "code",
   "execution_count": 32,
   "id": "04f7409c-d10b-4370-a09a-6e02f11c7e01",
   "metadata": {},
   "outputs": [
    {
     "name": "stdout",
     "output_type": "stream",
     "text": [
      "True\n",
      "True\n",
      "True\n",
      "False\n"
     ]
    }
   ],
   "source": [
    "print( True or True )\n",
    "print( True or False )\n",
    "print( False or True )\n",
    "print( False or False )"
   ]
  },
  {
   "cell_type": "code",
   "execution_count": 33,
   "id": "c2632e0b-26d9-4425-86c2-9bfd0eb8493a",
   "metadata": {},
   "outputs": [
    {
     "name": "stdout",
     "output_type": "stream",
     "text": [
      "False\n",
      "True\n"
     ]
    }
   ],
   "source": [
    "print(not True)\n",
    "print(not False)"
   ]
  },
  {
   "cell_type": "markdown",
   "id": "a098bf7f-9365-4a13-a09c-8fb4545e5e93",
   "metadata": {},
   "source": [
    "# 비교 연산 "
   ]
  },
  {
   "cell_type": "code",
   "execution_count": 34,
   "id": "ddd71bf4-49d4-46e0-94ba-23d3dc3f0ae2",
   "metadata": {},
   "outputs": [
    {
     "name": "stdout",
     "output_type": "stream",
     "text": [
      "True\n"
     ]
    }
   ],
   "source": [
    "# 비교 판단\n",
    "print( 5 > 3 )"
   ]
  },
  {
   "cell_type": "code",
   "execution_count": 35,
   "id": "da3c1171-f2f0-4d9e-849e-9947145e8059",
   "metadata": {},
   "outputs": [
    {
     "name": "stdout",
     "output_type": "stream",
     "text": [
      "True\n"
     ]
    }
   ],
   "source": [
    "# 숫자 비교 \n",
    "print( 7 == 7 )"
   ]
  },
  {
   "cell_type": "code",
   "execution_count": 36,
   "id": "a9e995eb-a3c8-428c-b3e7-86e2dc310020",
   "metadata": {},
   "outputs": [
    {
     "name": "stdout",
     "output_type": "stream",
     "text": [
      "True\n"
     ]
    }
   ],
   "source": [
    "a = 7\n",
    "b = 7\n",
    "print( a == b )"
   ]
  },
  {
   "cell_type": "code",
   "execution_count": 37,
   "id": "8d5e6763-5778-4fd4-9c32-855910f2dcfc",
   "metadata": {},
   "outputs": [
    {
     "name": "stdout",
     "output_type": "stream",
     "text": [
      "False\n"
     ]
    }
   ],
   "source": [
    "print( 7 != 7 )   # 7과 7은 다른가 ?"
   ]
  },
  {
   "cell_type": "code",
   "execution_count": 38,
   "id": "979663f1-d92f-46ec-8a43-9cbc6a88d6a6",
   "metadata": {},
   "outputs": [
    {
     "name": "stdout",
     "output_type": "stream",
     "text": [
      "True\n",
      "False\n",
      "True\n"
     ]
    }
   ],
   "source": [
    "# 문자 비교\n",
    "print('Hello' == 'Hello')\n",
    "print('Hello' == 'hello')\n",
    "print('Hello' != 'hello')"
   ]
  },
  {
   "cell_type": "code",
   "execution_count": 39,
   "id": "2a09a1e7-509c-44ab-ab2a-537894aeb567",
   "metadata": {},
   "outputs": [
    {
     "name": "stdout",
     "output_type": "stream",
     "text": [
      "False\n",
      "False\n",
      "False\n",
      "True\n"
     ]
    }
   ],
   "source": [
    "# 부동호 비교 \n",
    "print( 1 > 2 )\n",
    "print( 1 > 2 )\n",
    "print( 1 >= 2 )\n",
    "print( 1 <= 2 )"
   ]
  },
  {
   "cell_type": "code",
   "execution_count": 41,
   "id": "7e47849c-d108-4d58-aefc-60b4bd99d827",
   "metadata": {},
   "outputs": [
    {
     "name": "stdout",
     "output_type": "stream",
     "text": [
      "True\n",
      "False\n",
      "True\n"
     ]
    },
    {
     "name": "stderr",
     "output_type": "stream",
     "text": [
      "<>:3: SyntaxWarning: \"is\" with 'int' literal. Did you mean \"==\"?\n",
      "<>:4: SyntaxWarning: \"is not\" with 'int' literal. Did you mean \"!=\"?\n",
      "<>:3: SyntaxWarning: \"is\" with 'int' literal. Did you mean \"==\"?\n",
      "<>:4: SyntaxWarning: \"is not\" with 'int' literal. Did you mean \"!=\"?\n",
      "C:\\Users\\KGITBANK.DESKTOP-9ITP31A\\AppData\\Local\\Temp\\ipykernel_7808\\3465238908.py:3: SyntaxWarning: \"is\" with 'int' literal. Did you mean \"==\"?\n",
      "  print(1 is 1.0)\n",
      "C:\\Users\\KGITBANK.DESKTOP-9ITP31A\\AppData\\Local\\Temp\\ipykernel_7808\\3465238908.py:4: SyntaxWarning: \"is not\" with 'int' literal. Did you mean \"!=\"?\n",
      "  print(1 is not 1.0)\n"
     ]
    }
   ],
   "source": [
    "# 개체의 비교\n",
    "print(1 == 1.0)\n",
    "print(1 is 1.0)\n",
    "print(1 is not 1.0)"
   ]
  },
  {
   "cell_type": "markdown",
   "id": "4f09e93b-d8d7-4b73-ac88-5b0af7c5c552",
   "metadata": {},
   "source": [
    "# 2. 변수와 자료형\n"
   ]
  },
  {
   "cell_type": "markdown",
   "id": "d1fbcfe0-83a0-417f-822e-8bec221c14b0",
   "metadata": {},
   "source": [
    "## 변수"
   ]
  },
  {
   "cell_type": "code",
   "execution_count": 42,
   "id": "a26052a0-4430-4382-a6b7-82bdb5bad62a",
   "metadata": {},
   "outputs": [
    {
     "name": "stdout",
     "output_type": "stream",
     "text": [
      "100\n"
     ]
    }
   ],
   "source": [
    "# 변수 만들기\n",
    "x = 100\n",
    "print(x)"
   ]
  },
  {
   "cell_type": "code",
   "execution_count": 43,
   "id": "4e73a66e-f97e-4b70-a549-9352b45cae99",
   "metadata": {},
   "outputs": [
    {
     "name": "stdout",
     "output_type": "stream",
     "text": [
      "Hello, world\n"
     ]
    }
   ],
   "source": [
    "x = 'Hello, world'\n",
    "print(x)"
   ]
  },
  {
   "cell_type": "code",
   "execution_count": 44,
   "id": "51695e66-0cbe-462d-a565-8824e6eb5d3b",
   "metadata": {},
   "outputs": [
    {
     "name": "stdout",
     "output_type": "stream",
     "text": [
      "100\n",
      "200\n",
      "300\n"
     ]
    }
   ],
   "source": [
    "# 여러개의 변수를 차리 가능\n",
    "x, y, z = 100, 200, 300\n",
    "print(x)\n",
    "print(y)\n",
    "print(z)"
   ]
  },
  {
   "cell_type": "code",
   "execution_count": 45,
   "id": "726c3d15-04ff-410d-b37f-8519e24a1ea9",
   "metadata": {},
   "outputs": [
    {
     "name": "stdout",
     "output_type": "stream",
     "text": [
      "1 10\n"
     ]
    },
    {
     "ename": "NameError",
     "evalue": "name 'x' is not defined",
     "output_type": "error",
     "traceback": [
      "\u001b[1;31m---------------------------------------------------------------------------\u001b[0m",
      "\u001b[1;31mNameError\u001b[0m                                 Traceback (most recent call last)",
      "Cell \u001b[1;32mIn[45], line 5\u001b[0m\n\u001b[0;32m      3\u001b[0m \u001b[38;5;28mprint\u001b[39m(\u001b[38;5;124m'\u001b[39m\u001b[38;5;124m1\u001b[39m\u001b[38;5;124m'\u001b[39m, x)\n\u001b[0;32m      4\u001b[0m \u001b[38;5;28;01mdel\u001b[39;00m x\n\u001b[1;32m----> 5\u001b[0m \u001b[38;5;28mprint\u001b[39m(\u001b[38;5;124m'\u001b[39m\u001b[38;5;124m2\u001b[39m\u001b[38;5;124m'\u001b[39m, \u001b[43mx\u001b[49m)\n",
      "\u001b[1;31mNameError\u001b[0m: name 'x' is not defined"
     ]
    }
   ],
   "source": [
    "# 변수를 생성, 삭제 가능\n",
    "x = 10\n",
    "print('1', x)\n",
    "del x\n",
    "print('2', x)"
   ]
  },
  {
   "cell_type": "code",
   "execution_count": 46,
   "id": "954dadb7-1544-47c6-9f3c-4db8a96ed2b0",
   "metadata": {},
   "outputs": [
    {
     "ename": "SyntaxError",
     "evalue": "invalid decimal literal (482919702.py, line 1)",
     "output_type": "error",
     "traceback": [
      "\u001b[1;36m  Cell \u001b[1;32mIn[46], line 1\u001b[1;36m\u001b[0m\n\u001b[1;33m    1a = 10\u001b[0m\n\u001b[1;37m    ^\u001b[0m\n\u001b[1;31mSyntaxError\u001b[0m\u001b[1;31m:\u001b[0m invalid decimal literal\n"
     ]
    }
   ],
   "source": [
    "1a = 10  # 변수는 영문으로 시작 , 특정한 특수문자"
   ]
  },
  {
   "cell_type": "markdown",
   "id": "dd892fd3-9cec-47e9-b655-7be8b417790e",
   "metadata": {},
   "source": [
    "## 자료형 \n",
    "\n",
    "1) Numbers"
   ]
  },
  {
   "cell_type": "code",
   "execution_count": 47,
   "id": "5023523e-4d5b-4fef-bf12-b290b5244e0b",
   "metadata": {},
   "outputs": [
    {
     "name": "stdout",
     "output_type": "stream",
     "text": [
      "1\n"
     ]
    }
   ],
   "source": [
    "int_val = 1\n",
    "print(int_val)"
   ]
  },
  {
   "cell_type": "code",
   "execution_count": 48,
   "id": "ace2faf4-7261-40d1-aa1c-0a6410274145",
   "metadata": {},
   "outputs": [
    {
     "name": "stdout",
     "output_type": "stream",
     "text": [
      "-10\n"
     ]
    }
   ],
   "source": [
    "int_val2 = -10\n",
    "print(int_val2)"
   ]
  },
  {
   "cell_type": "code",
   "execution_count": 49,
   "id": "057068c5-77e4-40fc-b891-f40ddf26054a",
   "metadata": {},
   "outputs": [
    {
     "name": "stdout",
     "output_type": "stream",
     "text": [
      "11.1\n"
     ]
    }
   ],
   "source": [
    "float_val1 = 11.1 \n",
    "print(float_val1)"
   ]
  },
  {
   "cell_type": "code",
   "execution_count": 51,
   "id": "f7b65baa-4fa3-41a2-b073-85bd0dc72744",
   "metadata": {},
   "outputs": [
    {
     "name": "stdout",
     "output_type": "stream",
     "text": [
      "1000000000010.5\n"
     ]
    }
   ],
   "source": [
    "float_val2 = 10.5 + 1E12   # 1000000000000 ( 0 * 12 )\n",
    "print(float_val2)"
   ]
  },
  {
   "cell_type": "code",
   "execution_count": 52,
   "id": "27a16787-15e8-4e65-a489-314b4f6ee023",
   "metadata": {},
   "outputs": [
    {
     "name": "stdout",
     "output_type": "stream",
     "text": [
      "3.14j\n"
     ]
    }
   ],
   "source": [
    "complex_val1 = 3.14j\n",
    "print(complex_val1)"
   ]
  },
  {
   "cell_type": "code",
   "execution_count": 53,
   "id": "05d2ebe9-7f12-41a2-bd38-7c5103254d01",
   "metadata": {},
   "outputs": [
    {
     "name": "stdout",
     "output_type": "stream",
     "text": [
      "(21.2-7j)\n"
     ]
    }
   ],
   "source": [
    "complex_val2 = 2.12e1 - 7j\n",
    "print(complex_val2)"
   ]
  },
  {
   "cell_type": "markdown",
   "id": "659a7db6-d02a-49d7-999f-f75f5542778c",
   "metadata": {},
   "source": [
    "2) String"
   ]
  },
  {
   "cell_type": "code",
   "execution_count": 55,
   "id": "dfcdc9ee-1bbc-46eb-8138-3c646ad418ed",
   "metadata": {},
   "outputs": [
    {
     "name": "stdout",
     "output_type": "stream",
     "text": [
      "Hello world\n"
     ]
    }
   ],
   "source": [
    "str = 'Hello world'\n",
    "print(str)"
   ]
  },
  {
   "cell_type": "code",
   "execution_count": 56,
   "id": "c18ac003-b2cb-483d-8f21-02033beac134",
   "metadata": {},
   "outputs": [
    {
     "name": "stdout",
     "output_type": "stream",
     "text": [
      "H\n"
     ]
    }
   ],
   "source": [
    "print(str[0])"
   ]
  },
  {
   "cell_type": "code",
   "execution_count": 57,
   "id": "54cf24f1-f5e1-4a71-ab37-a1b5177ac5be",
   "metadata": {},
   "outputs": [
    {
     "name": "stdout",
     "output_type": "stream",
     "text": [
      "llo\n"
     ]
    }
   ],
   "source": [
    "print(str[2:5])"
   ]
  },
  {
   "cell_type": "code",
   "execution_count": 58,
   "id": "071d5ba0-6f33-45b8-84a2-1b74cfbdc27e",
   "metadata": {},
   "outputs": [
    {
     "name": "stdout",
     "output_type": "stream",
     "text": [
      "llo world\n"
     ]
    }
   ],
   "source": [
    "print(str[2:])"
   ]
  },
  {
   "cell_type": "code",
   "execution_count": 59,
   "id": "ecdf3076-4962-4225-a123-f1e156ac953c",
   "metadata": {},
   "outputs": [
    {
     "name": "stdout",
     "output_type": "stream",
     "text": [
      "Hello worldHello worldHello worldHello worldHello world\n"
     ]
    }
   ],
   "source": [
    "print(str * 5)"
   ]
  },
  {
   "cell_type": "code",
   "execution_count": 60,
   "id": "5886aff0-6954-4331-95ed-730af7c652df",
   "metadata": {},
   "outputs": [
    {
     "name": "stdout",
     "output_type": "stream",
     "text": [
      "Hello world text add \n"
     ]
    }
   ],
   "source": [
    "print(str + ' text add ')"
   ]
  },
  {
   "cell_type": "markdown",
   "id": "ef98fd32-539b-4a4d-ba9e-c0dd405d0864",
   "metadata": {},
   "source": [
    "3) List"
   ]
  },
  {
   "cell_type": "code",
   "execution_count": 61,
   "id": "f14a73d1-5fc5-4fab-9333-a98950f73cd5",
   "metadata": {},
   "outputs": [
    {
     "name": "stdout",
     "output_type": "stream",
     "text": [
      "['abcd', 567, 2.34, 'kim', 70.5]\n"
     ]
    }
   ],
   "source": [
    "list = [ 'abcd', 567, 2.34, 'kim', 70.5 ]\n",
    "print(list)"
   ]
  },
  {
   "cell_type": "code",
   "execution_count": 64,
   "id": "8a52531c-97b5-4968-a7a8-74d94cb6ff3c",
   "metadata": {},
   "outputs": [
    {
     "name": "stdout",
     "output_type": "stream",
     "text": [
      "b\n"
     ]
    }
   ],
   "source": [
    "print(list[0][1])"
   ]
  },
  {
   "cell_type": "code",
   "execution_count": 63,
   "id": "5a16b342-3265-40be-8c93-775da77594a2",
   "metadata": {},
   "outputs": [
    {
     "name": "stdout",
     "output_type": "stream",
     "text": [
      "[567, 2.34]\n"
     ]
    }
   ],
   "source": [
    "print(list[1:3])"
   ]
  },
  {
   "cell_type": "code",
   "execution_count": 66,
   "id": "91d7c421-35f1-4297-b0d1-22a5416e7604",
   "metadata": {},
   "outputs": [
    {
     "name": "stdout",
     "output_type": "stream",
     "text": [
      "['abcd', 'xxx', 2.34, 'kim', 70.5]\n"
     ]
    }
   ],
   "source": [
    "list[1] = 'xxx'\n",
    "print(list)"
   ]
  },
  {
   "cell_type": "markdown",
   "id": "bf3a2358-dcb2-4e8e-8b77-4e414767b3fb",
   "metadata": {},
   "source": [
    "4) Tupple"
   ]
  },
  {
   "cell_type": "code",
   "execution_count": 67,
   "id": "c68c27c4-ae25-4d74-8e76-05e127330d3a",
   "metadata": {},
   "outputs": [
    {
     "name": "stdout",
     "output_type": "stream",
     "text": [
      "(1, 'abvc', 2.5)\n"
     ]
    }
   ],
   "source": [
    "tup = (1, 'abvc', 2.5)  # 개인정보 보안 사용\n",
    "print(tup)"
   ]
  },
  {
   "cell_type": "code",
   "execution_count": 69,
   "id": "fdb688ff-40b0-490a-858b-f2c1ed567e77",
   "metadata": {},
   "outputs": [
    {
     "name": "stdout",
     "output_type": "stream",
     "text": [
      "abvc\n"
     ]
    }
   ],
   "source": [
    "print(tup[1])"
   ]
  },
  {
   "cell_type": "code",
   "execution_count": 70,
   "id": "01458d8a-85e8-4761-8e2e-5a00602cfe78",
   "metadata": {},
   "outputs": [
    {
     "ename": "TypeError",
     "evalue": "'tuple' object does not support item assignment",
     "output_type": "error",
     "traceback": [
      "\u001b[1;31m---------------------------------------------------------------------------\u001b[0m",
      "\u001b[1;31mTypeError\u001b[0m                                 Traceback (most recent call last)",
      "Cell \u001b[1;32mIn[70], line 1\u001b[0m\n\u001b[1;32m----> 1\u001b[0m \u001b[43mtup\u001b[49m\u001b[43m[\u001b[49m\u001b[38;5;241;43m1\u001b[39;49m\u001b[43m]\u001b[49m \u001b[38;5;241m=\u001b[39m \u001b[38;5;124m'\u001b[39m\u001b[38;5;124mxyz\u001b[39m\u001b[38;5;124m'\u001b[39m\n",
      "\u001b[1;31mTypeError\u001b[0m: 'tuple' object does not support item assignment"
     ]
    }
   ],
   "source": [
    "tup[1] = 'xyz'"
   ]
  },
  {
   "cell_type": "markdown",
   "id": "33ed9337-72fe-4c26-aa97-809b149483c7",
   "metadata": {},
   "source": [
    "5) 함수"
   ]
  },
  {
   "cell_type": "code",
   "execution_count": 72,
   "id": "5c6a5d00-ab78-4562-8118-70322b4eb87b",
   "metadata": {},
   "outputs": [
    {
     "data": {
      "text/plain": [
       "5"
      ]
     },
     "execution_count": 72,
     "metadata": {},
     "output_type": "execute_result"
    }
   ],
   "source": [
    "max(1, 2, 3, 5, 4)"
   ]
  },
  {
   "cell_type": "code",
   "execution_count": 73,
   "id": "5c0be2a1-c6a9-4fce-855a-1d771a5e42ab",
   "metadata": {},
   "outputs": [
    {
     "data": {
      "text/plain": [
       "5"
      ]
     },
     "execution_count": 73,
     "metadata": {},
     "output_type": "execute_result"
    }
   ],
   "source": [
    "a = (1, 2, 3, 5, 4)\n",
    "max(a)"
   ]
  },
  {
   "cell_type": "code",
   "execution_count": 74,
   "id": "859305d2-1f24-4110-b2ac-eb4d44f457b0",
   "metadata": {},
   "outputs": [
    {
     "name": "stdout",
     "output_type": "stream",
     "text": [
      "8\n"
     ]
    }
   ],
   "source": [
    "def add(a, b):\n",
    "    return a + b\n",
    "\n",
    "a = 3\n",
    "b = 5\n",
    "\n",
    "c = add(a, b)\n",
    "print(c)"
   ]
  },
  {
   "cell_type": "markdown",
   "id": "44453e1f-54f8-4210-921c-025aee572d68",
   "metadata": {},
   "source": [
    "6. 모듈"
   ]
  },
  {
   "cell_type": "raw",
   "id": "46562a01-673b-4175-9b7e-b9e95bb81185",
   "metadata": {},
   "source": [
    "$ mo1.py  모듈 생성 \n",
    "\n",
    "def add(a, b):\n",
    "    return a + b\n",
    "\n",
    "def sub(a, b):\n",
    "    return a + b"
   ]
  },
  {
   "cell_type": "code",
   "execution_count": 78,
   "id": "574ec1c0-da66-4b65-a54a-c294b73d4d8d",
   "metadata": {},
   "outputs": [
    {
     "data": {
      "text/plain": [
       "7"
      ]
     },
     "execution_count": 78,
     "metadata": {},
     "output_type": "execute_result"
    }
   ],
   "source": [
    "from mo1 import add, sub\n",
    "add(5, 2)"
   ]
  },
  {
   "cell_type": "markdown",
   "id": "c8716f52-e4b5-4946-a1b0-184eea715932",
   "metadata": {},
   "source": [
    "# 데이터 이해"
   ]
  },
  {
   "cell_type": "markdown",
   "id": "71d79ba1-3fdd-41b1-a138-9eb064c0a7cd",
   "metadata": {},
   "source": [
    "## CSV 불러오기"
   ]
  },
  {
   "cell_type": "code",
   "execution_count": 5,
   "id": "de8d06a3-8e68-444b-9dfb-eaee91b5d0ae",
   "metadata": {},
   "outputs": [
    {
     "data": {
      "text/plain": [
       "'D:\\\\python-workspace\\\\데이터분석'"
      ]
     },
     "execution_count": 5,
     "metadata": {},
     "output_type": "execute_result"
    }
   ],
   "source": [
    "import os\n",
    "os.getcwd()     # 현재 나의 위치"
   ]
  },
  {
   "cell_type": "code",
   "execution_count": 6,
   "id": "3e3a2941-b244-4e6f-a7a6-433cd9ba2783",
   "metadata": {},
   "outputs": [
    {
     "name": "stdout",
     "output_type": "stream",
     "text": [
      " D 드라이브의 볼륨에는 이름이 없습니다.\n",
      " 볼륨 일련 번호: 4A4C-1398\n",
      "\n",
      " D:\\python-workspace\\데이터분석 디렉터리\n",
      "\n",
      "2025-04-22  오전 10:09    <DIR>          .\n",
      "2025-04-22  오전 10:09    <DIR>          ..\n",
      "2025-04-21  오전 11:41    <DIR>          .ipynb_checkpoints\n",
      "2025-04-22  오전 09:49            90,749 1일차-KG.ipynb\n",
      "2025-04-21  오후 12:12           861,991 2. 웹 크롤링.ipynb\n",
      "2025-04-22  오전 09:15           369,969 2일차-KG.ipynb\n",
      "2025-03-15  오후 08:54           872,397 2일차.ipynb\n",
      "2025-03-21  오후 11:06         1,700,161 3일차-KG.ipynb\n",
      "2025-04-21  오전 11:43         1,597,551 3일차.ipynb\n",
      "2025-03-21  오후 11:10           689,165 4일차-KG.ipynb\n",
      "2025-04-21  오전 11:43           222,577 4일차.ipynb\n",
      "2025-03-23  오전 09:01           590,283 5일차-KG.ipynb\n",
      "2025-04-21  오전 11:43           733,881 5일차.ipynb\n",
      "2025-04-21  오전 11:42         1,569,061 6일차.ipynb\n",
      "2025-03-29  오후 01:49         1,625,443 7일차-KG.ipynb\n",
      "2025-04-21  오전 11:42         2,280,630 7일차.ipynb\n",
      "2025-03-29  오후 10:07         4,061,860 8일자-보험 사기자 분류 예측.ipynb\n",
      "2025-04-21  오전 11:42         3,547,008 8일자.ipynb\n",
      "2025-04-21  오전 08:43    <DIR>          bookings.csv\n",
      "2024-12-15  오후 06:01           347,470 bookings.csv.zip\n",
      "2016-07-26  오전 10:37        46,835,340 CLAIM_DATA.csv\n",
      "2025-03-22  오후 11:50            18,832 confusion_matrix.csv\n",
      "2016-07-26  오전 09:14         4,088,118 CUST_DATA.csv\n",
      "2025-04-22  오전 10:05    <DIR>          data\n",
      "2025-03-18  오전 12:21           152,263 dbscan_image.png\n",
      "2025-03-08  오후 06:50               138 example.csv\n",
      "2025-03-15  오후 07:33           602,499 Hotel Booking.pdf\n",
      "2024-12-15  오후 06:28           602,499 hotel_booking.pdf\n",
      "2025-04-21  오전 08:43    <DIR>          hotel_bookings.csv\n",
      "2024-12-15  오후 06:08         1,308,365 hotel_bookings.csv.zip\n",
      "2024-12-15  오후 06:21         5,262,846 hotel_bookings2.csv\n",
      "2025-03-17  오후 11:46            92,207 k-means_images.png\n",
      "2025-03-15  오후 07:20           134,355 OutputFile.png\n",
      "2025-03-16  오후 08:59           977,501 Telco-Customer-Churn.csv\n",
      "2024-12-04  오후 12:47                58 test.csv\n",
      "2024-12-29  오후 10:16           601,254 test1_modify.csv\n",
      "2025-04-21  오전 08:53         6,524,974 test2_modify.csv\n",
      "2025-03-17  오후 10:13           506,405 test3_modify.csv\n",
      "2024-12-04  오후 04:18             9,729 tips.csv\n",
      "2024-12-15  오후 02:15           648,353 train.csv\n",
      "2025-03-15  오후 07:18             2,122 tree.dot\n",
      "2024-12-30  오전 12:31             2,111 tree.txt\n",
      "2025-03-22  오후 11:51            26,402 분류모형 성능평가.ipynb\n",
      "              37개 파일          89,556,567 바이트\n",
      "               6개 디렉터리  877,552,254,976 바이트 남음\n"
     ]
    }
   ],
   "source": [
    "!dir"
   ]
  },
  {
   "cell_type": "code",
   "execution_count": 7,
   "id": "e10bda3f-c149-4a89-a124-725d88887893",
   "metadata": {},
   "outputs": [
    {
     "name": "stdout",
     "output_type": "stream",
     "text": [
      " D 드라이브의 볼륨에는 이름이 없습니다.\n",
      " 볼륨 일련 번호: 4A4C-1398\n",
      "\n",
      " D:\\python-workspace\\데이터분석\\data 디렉터리\n",
      "\n",
      "2025-04-22  오전 10:05    <DIR>          .\n",
      "2025-04-22  오전 10:09    <DIR>          ..\n",
      "2022-02-17  오후 01:20        75,594,357 서울특별시 공공자전거 이용정보(시간대별)_21.01.csv\n",
      "2025-04-22  오전 10:05        46,919,793 서울특별시 공공자전거 이용정보(시간대별)_21.01.xlsx\n",
      "               2개 파일         122,514,150 바이트\n",
      "               2개 디렉터리  877,552,254,976 바이트 남음\n"
     ]
    }
   ],
   "source": [
    "!dir data"
   ]
  },
  {
   "cell_type": "code",
   "execution_count": 14,
   "id": "b267c5cb-9e81-477f-8398-23458c42f18b",
   "metadata": {},
   "outputs": [],
   "source": [
    "import pandas as pd"
   ]
  },
  {
   "cell_type": "code",
   "execution_count": 18,
   "id": "88c26ce5-07b8-4561-8912-cf11f06ff927",
   "metadata": {},
   "outputs": [
    {
     "name": "stdout",
     "output_type": "stream",
     "text": [
      "./data/서울특별시 공공자전거 이용정보(시간대별)_21.01.csv\n"
     ]
    }
   ],
   "source": [
    "# 파일 경로를 찾고 변수 file_path에 파일명을 저장\n",
    "file_path = './data/서울특별시 공공자전거 이용정보(시간대별)_21.01.csv'\n",
    "print(file_path)"
   ]
  },
  {
   "cell_type": "code",
   "execution_count": 19,
   "id": "05ed6285-75d1-4fe4-9be1-fc39a91d09bc",
   "metadata": {},
   "outputs": [],
   "source": [
    "import time"
   ]
  },
  {
   "cell_type": "code",
   "execution_count": 20,
   "id": "b9bbb51f-49c5-4f6d-abd7-65365af04a95",
   "metadata": {},
   "outputs": [
    {
     "name": "stdout",
     "output_type": "stream",
     "text": [
      "0.9329736232757568\n"
     ]
    },
    {
     "data": {
      "text/html": [
       "<div>\n",
       "<style scoped>\n",
       "    .dataframe tbody tr th:only-of-type {\n",
       "        vertical-align: middle;\n",
       "    }\n",
       "\n",
       "    .dataframe tbody tr th {\n",
       "        vertical-align: top;\n",
       "    }\n",
       "\n",
       "    .dataframe thead th {\n",
       "        text-align: right;\n",
       "    }\n",
       "</style>\n",
       "<table border=\"1\" class=\"dataframe\">\n",
       "  <thead>\n",
       "    <tr style=\"text-align: right;\">\n",
       "      <th></th>\n",
       "      <th>대여일자</th>\n",
       "      <th>대여시간</th>\n",
       "      <th>대여소번호</th>\n",
       "      <th>대여소명</th>\n",
       "      <th>대여구분코드</th>\n",
       "      <th>성별</th>\n",
       "      <th>연령대코드</th>\n",
       "      <th>이용건수</th>\n",
       "      <th>운동량</th>\n",
       "      <th>탄소량</th>\n",
       "      <th>이동거리</th>\n",
       "      <th>사용시간</th>\n",
       "    </tr>\n",
       "  </thead>\n",
       "  <tbody>\n",
       "    <tr>\n",
       "      <th>0</th>\n",
       "      <td>2021-01-01</td>\n",
       "      <td>0</td>\n",
       "      <td>1347</td>\n",
       "      <td>1347. 길음래미안아파트817동 상가 앞</td>\n",
       "      <td>정기권</td>\n",
       "      <td>NaN</td>\n",
       "      <td>~10대</td>\n",
       "      <td>2</td>\n",
       "      <td>28.90</td>\n",
       "      <td>0.23</td>\n",
       "      <td>992.78</td>\n",
       "      <td>13</td>\n",
       "    </tr>\n",
       "    <tr>\n",
       "      <th>1</th>\n",
       "      <td>2021-01-01</td>\n",
       "      <td>0</td>\n",
       "      <td>1349</td>\n",
       "      <td>1349. 월계2교 버스정류장 앞</td>\n",
       "      <td>정기권</td>\n",
       "      <td>NaN</td>\n",
       "      <td>~10대</td>\n",
       "      <td>1</td>\n",
       "      <td>34.38</td>\n",
       "      <td>0.26</td>\n",
       "      <td>1127.50</td>\n",
       "      <td>10</td>\n",
       "    </tr>\n",
       "    <tr>\n",
       "      <th>2</th>\n",
       "      <td>2021-01-01</td>\n",
       "      <td>0</td>\n",
       "      <td>1168</td>\n",
       "      <td>1168. 마곡엠밸리10단지 앞</td>\n",
       "      <td>정기권</td>\n",
       "      <td>NaN</td>\n",
       "      <td>~10대</td>\n",
       "      <td>1</td>\n",
       "      <td>0.00</td>\n",
       "      <td>0.00</td>\n",
       "      <td>0.00</td>\n",
       "      <td>7</td>\n",
       "    </tr>\n",
       "    <tr>\n",
       "      <th>3</th>\n",
       "      <td>2021-01-01</td>\n",
       "      <td>0</td>\n",
       "      <td>2619</td>\n",
       "      <td>2619. 석촌고분역 4번출구</td>\n",
       "      <td>정기권</td>\n",
       "      <td>NaN</td>\n",
       "      <td>~10대</td>\n",
       "      <td>1</td>\n",
       "      <td>38.75</td>\n",
       "      <td>0.38</td>\n",
       "      <td>1658.34</td>\n",
       "      <td>14</td>\n",
       "    </tr>\n",
       "    <tr>\n",
       "      <th>4</th>\n",
       "      <td>2021-01-01</td>\n",
       "      <td>0</td>\n",
       "      <td>536</td>\n",
       "      <td>536. 행당역 2번출구 앞</td>\n",
       "      <td>정기권</td>\n",
       "      <td>NaN</td>\n",
       "      <td>~10대</td>\n",
       "      <td>1</td>\n",
       "      <td>12.96</td>\n",
       "      <td>0.17</td>\n",
       "      <td>743.88</td>\n",
       "      <td>5</td>\n",
       "    </tr>\n",
       "    <tr>\n",
       "      <th>...</th>\n",
       "      <td>...</td>\n",
       "      <td>...</td>\n",
       "      <td>...</td>\n",
       "      <td>...</td>\n",
       "      <td>...</td>\n",
       "      <td>...</td>\n",
       "      <td>...</td>\n",
       "      <td>...</td>\n",
       "      <td>...</td>\n",
       "      <td>...</td>\n",
       "      <td>...</td>\n",
       "      <td>...</td>\n",
       "    </tr>\n",
       "    <tr>\n",
       "      <th>718852</th>\n",
       "      <td>2021-01-31</td>\n",
       "      <td>23</td>\n",
       "      <td>207</td>\n",
       "      <td>207. 여의나루역 1번출구 앞</td>\n",
       "      <td>단체권</td>\n",
       "      <td>NaN</td>\n",
       "      <td>~10대</td>\n",
       "      <td>5</td>\n",
       "      <td>916.66</td>\n",
       "      <td>8.66</td>\n",
       "      <td>37335.95</td>\n",
       "      <td>219</td>\n",
       "    </tr>\n",
       "    <tr>\n",
       "      <th>718853</th>\n",
       "      <td>2021-01-31</td>\n",
       "      <td>23</td>\n",
       "      <td>3549</td>\n",
       "      <td>3549.건영아파트 앞</td>\n",
       "      <td>단체권</td>\n",
       "      <td>NaN</td>\n",
       "      <td>20대</td>\n",
       "      <td>2</td>\n",
       "      <td>492.87</td>\n",
       "      <td>4.51</td>\n",
       "      <td>19447.10</td>\n",
       "      <td>133</td>\n",
       "    </tr>\n",
       "    <tr>\n",
       "      <th>718854</th>\n",
       "      <td>2021-01-31</td>\n",
       "      <td>23</td>\n",
       "      <td>248</td>\n",
       "      <td>248. 초원아파트 앞</td>\n",
       "      <td>단체권</td>\n",
       "      <td>NaN</td>\n",
       "      <td>20대</td>\n",
       "      <td>2</td>\n",
       "      <td>348.43</td>\n",
       "      <td>2.91</td>\n",
       "      <td>12569.64</td>\n",
       "      <td>90</td>\n",
       "    </tr>\n",
       "    <tr>\n",
       "      <th>718855</th>\n",
       "      <td>2021-01-31</td>\n",
       "      <td>23</td>\n",
       "      <td>131</td>\n",
       "      <td>131. 증산2교</td>\n",
       "      <td>단체권</td>\n",
       "      <td>NaN</td>\n",
       "      <td>20대</td>\n",
       "      <td>2</td>\n",
       "      <td>98.10</td>\n",
       "      <td>0.77</td>\n",
       "      <td>3302.87</td>\n",
       "      <td>20</td>\n",
       "    </tr>\n",
       "    <tr>\n",
       "      <th>718856</th>\n",
       "      <td>2021-01-31</td>\n",
       "      <td>23</td>\n",
       "      <td>247</td>\n",
       "      <td>247. 당산역 10번출구 앞</td>\n",
       "      <td>단체권</td>\n",
       "      <td>M</td>\n",
       "      <td>40대</td>\n",
       "      <td>1</td>\n",
       "      <td>223.71</td>\n",
       "      <td>2.02</td>\n",
       "      <td>8691.10</td>\n",
       "      <td>52</td>\n",
       "    </tr>\n",
       "  </tbody>\n",
       "</table>\n",
       "<p>718857 rows × 12 columns</p>\n",
       "</div>"
      ],
      "text/plain": [
       "              대여일자  대여시간  대여소번호                     대여소명 대여구분코드   성별 연령대코드  \\\n",
       "0       2021-01-01     0   1347  1347. 길음래미안아파트817동 상가 앞    정기권  NaN  ~10대   \n",
       "1       2021-01-01     0   1349       1349. 월계2교 버스정류장 앞    정기권  NaN  ~10대   \n",
       "2       2021-01-01     0   1168        1168. 마곡엠밸리10단지 앞    정기권  NaN  ~10대   \n",
       "3       2021-01-01     0   2619         2619. 석촌고분역 4번출구    정기권  NaN  ~10대   \n",
       "4       2021-01-01     0    536          536. 행당역 2번출구 앞    정기권  NaN  ~10대   \n",
       "...            ...   ...    ...                      ...    ...  ...   ...   \n",
       "718852  2021-01-31    23    207        207. 여의나루역 1번출구 앞    단체권  NaN  ~10대   \n",
       "718853  2021-01-31    23   3549             3549.건영아파트 앞    단체권  NaN   20대   \n",
       "718854  2021-01-31    23    248             248. 초원아파트 앞    단체권  NaN   20대   \n",
       "718855  2021-01-31    23    131                131. 증산2교    단체권  NaN   20대   \n",
       "718856  2021-01-31    23    247         247. 당산역 10번출구 앞    단체권    M   40대   \n",
       "\n",
       "        이용건수     운동량   탄소량      이동거리  사용시간  \n",
       "0          2   28.90  0.23    992.78    13  \n",
       "1          1   34.38  0.26   1127.50    10  \n",
       "2          1    0.00  0.00      0.00     7  \n",
       "3          1   38.75  0.38   1658.34    14  \n",
       "4          1   12.96  0.17    743.88     5  \n",
       "...      ...     ...   ...       ...   ...  \n",
       "718852     5  916.66  8.66  37335.95   219  \n",
       "718853     2  492.87  4.51  19447.10   133  \n",
       "718854     2  348.43  2.91  12569.64    90  \n",
       "718855     2   98.10  0.77   3302.87    20  \n",
       "718856     1  223.71  2.02   8691.10    52  \n",
       "\n",
       "[718857 rows x 12 columns]"
      ]
     },
     "execution_count": 20,
     "metadata": {},
     "output_type": "execute_result"
    }
   ],
   "source": [
    "# read CSV()함수로 데이터프레임 변환\n",
    "start_time = time.time()\n",
    "df1 = pd.read_csv(file_path, encoding='cp949')\n",
    "\n",
    "end_time = time.time()\n",
    "print(end_time - start_time)\n",
    "df1"
   ]
  },
  {
   "cell_type": "markdown",
   "id": "28bd95d7-f87d-498f-b67a-551b4ffd425e",
   "metadata": {},
   "source": [
    "## excel 불러오기"
   ]
  },
  {
   "cell_type": "code",
   "execution_count": 21,
   "id": "93e9bcaf-2a56-4565-93c9-8e3f454c5e56",
   "metadata": {},
   "outputs": [
    {
     "name": "stdout",
     "output_type": "stream",
     "text": [
      "./data/서울특별시 공공자전거 이용정보(시간대별)_21.01.xlsx\n"
     ]
    }
   ],
   "source": [
    "# 파일 경로를 찾고 변수 file_path에 파일명을 저장\n",
    "file_path = './data/서울특별시 공공자전거 이용정보(시간대별)_21.01.xlsx'\n",
    "print(file_path)"
   ]
  },
  {
   "cell_type": "code",
   "execution_count": 22,
   "id": "34da73a3-0baf-4608-9f25-50ebd681d719",
   "metadata": {},
   "outputs": [
    {
     "data": {
      "text/plain": [
       "66.21016023959797"
      ]
     },
     "execution_count": 22,
     "metadata": {},
     "output_type": "execute_result"
    }
   ],
   "source": [
    "46.6460497379303 / 0.7045149803161621"
   ]
  },
  {
   "cell_type": "code",
   "execution_count": 23,
   "id": "31c1e23b-4cc3-481a-a108-c57ba6ef4c2e",
   "metadata": {},
   "outputs": [
    {
     "name": "stdout",
     "output_type": "stream",
     "text": [
      "59.029343366622925\n"
     ]
    },
    {
     "data": {
      "text/html": [
       "<div>\n",
       "<style scoped>\n",
       "    .dataframe tbody tr th:only-of-type {\n",
       "        vertical-align: middle;\n",
       "    }\n",
       "\n",
       "    .dataframe tbody tr th {\n",
       "        vertical-align: top;\n",
       "    }\n",
       "\n",
       "    .dataframe thead th {\n",
       "        text-align: right;\n",
       "    }\n",
       "</style>\n",
       "<table border=\"1\" class=\"dataframe\">\n",
       "  <thead>\n",
       "    <tr style=\"text-align: right;\">\n",
       "      <th></th>\n",
       "      <th>대여일자</th>\n",
       "      <th>대여시간</th>\n",
       "      <th>대여소번호</th>\n",
       "      <th>대여소명</th>\n",
       "      <th>대여구분코드</th>\n",
       "      <th>성별</th>\n",
       "      <th>연령대코드</th>\n",
       "      <th>이용건수</th>\n",
       "      <th>운동량</th>\n",
       "      <th>탄소량</th>\n",
       "      <th>이동거리</th>\n",
       "      <th>사용시간</th>\n",
       "    </tr>\n",
       "  </thead>\n",
       "  <tbody>\n",
       "    <tr>\n",
       "      <th>0</th>\n",
       "      <td>2021-01-01</td>\n",
       "      <td>0</td>\n",
       "      <td>1347</td>\n",
       "      <td>1347. 길음래미안아파트817동 상가 앞</td>\n",
       "      <td>정기권</td>\n",
       "      <td>NaN</td>\n",
       "      <td>~10대</td>\n",
       "      <td>2</td>\n",
       "      <td>28.9</td>\n",
       "      <td>0.23</td>\n",
       "      <td>992.78</td>\n",
       "      <td>13</td>\n",
       "    </tr>\n",
       "    <tr>\n",
       "      <th>1</th>\n",
       "      <td>2021-01-01</td>\n",
       "      <td>0</td>\n",
       "      <td>1349</td>\n",
       "      <td>1349. 월계2교 버스정류장 앞</td>\n",
       "      <td>정기권</td>\n",
       "      <td>NaN</td>\n",
       "      <td>~10대</td>\n",
       "      <td>1</td>\n",
       "      <td>34.38</td>\n",
       "      <td>0.26</td>\n",
       "      <td>1127.50</td>\n",
       "      <td>10</td>\n",
       "    </tr>\n",
       "    <tr>\n",
       "      <th>2</th>\n",
       "      <td>2021-01-01</td>\n",
       "      <td>0</td>\n",
       "      <td>1168</td>\n",
       "      <td>1168. 마곡엠밸리10단지 앞</td>\n",
       "      <td>정기권</td>\n",
       "      <td>NaN</td>\n",
       "      <td>~10대</td>\n",
       "      <td>1</td>\n",
       "      <td>0</td>\n",
       "      <td>0</td>\n",
       "      <td>0.00</td>\n",
       "      <td>7</td>\n",
       "    </tr>\n",
       "    <tr>\n",
       "      <th>3</th>\n",
       "      <td>2021-01-01</td>\n",
       "      <td>0</td>\n",
       "      <td>2619</td>\n",
       "      <td>2619. 석촌고분역 4번출구</td>\n",
       "      <td>정기권</td>\n",
       "      <td>NaN</td>\n",
       "      <td>~10대</td>\n",
       "      <td>1</td>\n",
       "      <td>38.75</td>\n",
       "      <td>0.38</td>\n",
       "      <td>1658.34</td>\n",
       "      <td>14</td>\n",
       "    </tr>\n",
       "    <tr>\n",
       "      <th>4</th>\n",
       "      <td>2021-01-01</td>\n",
       "      <td>0</td>\n",
       "      <td>536</td>\n",
       "      <td>536. 행당역 2번출구 앞</td>\n",
       "      <td>정기권</td>\n",
       "      <td>NaN</td>\n",
       "      <td>~10대</td>\n",
       "      <td>1</td>\n",
       "      <td>12.96</td>\n",
       "      <td>0.17</td>\n",
       "      <td>743.88</td>\n",
       "      <td>5</td>\n",
       "    </tr>\n",
       "    <tr>\n",
       "      <th>...</th>\n",
       "      <td>...</td>\n",
       "      <td>...</td>\n",
       "      <td>...</td>\n",
       "      <td>...</td>\n",
       "      <td>...</td>\n",
       "      <td>...</td>\n",
       "      <td>...</td>\n",
       "      <td>...</td>\n",
       "      <td>...</td>\n",
       "      <td>...</td>\n",
       "      <td>...</td>\n",
       "      <td>...</td>\n",
       "    </tr>\n",
       "    <tr>\n",
       "      <th>718852</th>\n",
       "      <td>2021-01-31</td>\n",
       "      <td>23</td>\n",
       "      <td>207</td>\n",
       "      <td>207. 여의나루역 1번출구 앞</td>\n",
       "      <td>단체권</td>\n",
       "      <td>NaN</td>\n",
       "      <td>~10대</td>\n",
       "      <td>5</td>\n",
       "      <td>916.66</td>\n",
       "      <td>8.66</td>\n",
       "      <td>37335.95</td>\n",
       "      <td>219</td>\n",
       "    </tr>\n",
       "    <tr>\n",
       "      <th>718853</th>\n",
       "      <td>2021-01-31</td>\n",
       "      <td>23</td>\n",
       "      <td>3549</td>\n",
       "      <td>3549.건영아파트 앞</td>\n",
       "      <td>단체권</td>\n",
       "      <td>NaN</td>\n",
       "      <td>20대</td>\n",
       "      <td>2</td>\n",
       "      <td>492.87</td>\n",
       "      <td>4.51</td>\n",
       "      <td>19447.10</td>\n",
       "      <td>133</td>\n",
       "    </tr>\n",
       "    <tr>\n",
       "      <th>718854</th>\n",
       "      <td>2021-01-31</td>\n",
       "      <td>23</td>\n",
       "      <td>248</td>\n",
       "      <td>248. 초원아파트 앞</td>\n",
       "      <td>단체권</td>\n",
       "      <td>NaN</td>\n",
       "      <td>20대</td>\n",
       "      <td>2</td>\n",
       "      <td>348.43</td>\n",
       "      <td>2.91</td>\n",
       "      <td>12569.64</td>\n",
       "      <td>90</td>\n",
       "    </tr>\n",
       "    <tr>\n",
       "      <th>718855</th>\n",
       "      <td>2021-01-31</td>\n",
       "      <td>23</td>\n",
       "      <td>131</td>\n",
       "      <td>131. 증산2교</td>\n",
       "      <td>단체권</td>\n",
       "      <td>NaN</td>\n",
       "      <td>20대</td>\n",
       "      <td>2</td>\n",
       "      <td>98.1</td>\n",
       "      <td>0.77</td>\n",
       "      <td>3302.87</td>\n",
       "      <td>20</td>\n",
       "    </tr>\n",
       "    <tr>\n",
       "      <th>718856</th>\n",
       "      <td>2021-01-31</td>\n",
       "      <td>23</td>\n",
       "      <td>247</td>\n",
       "      <td>247. 당산역 10번출구 앞</td>\n",
       "      <td>단체권</td>\n",
       "      <td>M</td>\n",
       "      <td>40대</td>\n",
       "      <td>1</td>\n",
       "      <td>223.71</td>\n",
       "      <td>2.02</td>\n",
       "      <td>8691.10</td>\n",
       "      <td>52</td>\n",
       "    </tr>\n",
       "  </tbody>\n",
       "</table>\n",
       "<p>718857 rows × 12 columns</p>\n",
       "</div>"
      ],
      "text/plain": [
       "             대여일자  대여시간  대여소번호                     대여소명 대여구분코드   성별 연령대코드  \\\n",
       "0      2021-01-01     0   1347  1347. 길음래미안아파트817동 상가 앞    정기권  NaN  ~10대   \n",
       "1      2021-01-01     0   1349       1349. 월계2교 버스정류장 앞    정기권  NaN  ~10대   \n",
       "2      2021-01-01     0   1168        1168. 마곡엠밸리10단지 앞    정기권  NaN  ~10대   \n",
       "3      2021-01-01     0   2619         2619. 석촌고분역 4번출구    정기권  NaN  ~10대   \n",
       "4      2021-01-01     0    536          536. 행당역 2번출구 앞    정기권  NaN  ~10대   \n",
       "...           ...   ...    ...                      ...    ...  ...   ...   \n",
       "718852 2021-01-31    23    207        207. 여의나루역 1번출구 앞    단체권  NaN  ~10대   \n",
       "718853 2021-01-31    23   3549             3549.건영아파트 앞    단체권  NaN   20대   \n",
       "718854 2021-01-31    23    248             248. 초원아파트 앞    단체권  NaN   20대   \n",
       "718855 2021-01-31    23    131                131. 증산2교    단체권  NaN   20대   \n",
       "718856 2021-01-31    23    247         247. 당산역 10번출구 앞    단체권    M   40대   \n",
       "\n",
       "        이용건수     운동량   탄소량      이동거리  사용시간  \n",
       "0          2    28.9  0.23    992.78    13  \n",
       "1          1   34.38  0.26   1127.50    10  \n",
       "2          1       0     0      0.00     7  \n",
       "3          1   38.75  0.38   1658.34    14  \n",
       "4          1   12.96  0.17    743.88     5  \n",
       "...      ...     ...   ...       ...   ...  \n",
       "718852     5  916.66  8.66  37335.95   219  \n",
       "718853     2  492.87  4.51  19447.10   133  \n",
       "718854     2  348.43  2.91  12569.64    90  \n",
       "718855     2    98.1  0.77   3302.87    20  \n",
       "718856     1  223.71  2.02   8691.10    52  \n",
       "\n",
       "[718857 rows x 12 columns]"
      ]
     },
     "execution_count": 23,
     "metadata": {},
     "output_type": "execute_result"
    }
   ],
   "source": [
    "# read CSV()함수로 데이터프레임 변환\n",
    "start_time = time.time()\n",
    "df2 = pd.read_excel(file_path)\n",
    "end_time = time.time()\n",
    "print(end_time - start_time)\n",
    "df2"
   ]
  },
  {
   "cell_type": "markdown",
   "id": "5b0f154c-b09a-4192-9a57-5cbbd7103286",
   "metadata": {},
   "source": [
    "## JSON 불러오기"
   ]
  },
  {
   "cell_type": "code",
   "execution_count": 24,
   "id": "5069178c-f732-4ef2-98bb-383eed8adcc7",
   "metadata": {},
   "outputs": [
    {
     "name": "stdout",
     "output_type": "stream",
     "text": [
      "./data/read.json\n"
     ]
    }
   ],
   "source": [
    "# 파일 경로를 찾고 변수 file_path에 파일명을 저장\n",
    "file_path = './data/read.json'\n",
    "print(file_path)"
   ]
  },
  {
   "cell_type": "code",
   "execution_count": 25,
   "id": "58dfc47d-0719-4ef4-b9d7-06fff0809d8a",
   "metadata": {},
   "outputs": [
    {
     "ename": "FileNotFoundError",
     "evalue": "File ./data/read.json does not exist",
     "output_type": "error",
     "traceback": [
      "\u001b[1;31m---------------------------------------------------------------------------\u001b[0m",
      "\u001b[1;31mFileNotFoundError\u001b[0m                         Traceback (most recent call last)",
      "Cell \u001b[1;32mIn[25], line 3\u001b[0m\n\u001b[0;32m      1\u001b[0m \u001b[38;5;66;03m# read json()함수로 데이터프레임 변환\u001b[39;00m\n\u001b[0;32m      2\u001b[0m start_time \u001b[38;5;241m=\u001b[39m time\u001b[38;5;241m.\u001b[39mtime()\n\u001b[1;32m----> 3\u001b[0m df3 \u001b[38;5;241m=\u001b[39m pd\u001b[38;5;241m.\u001b[39mread_json(file_path)\n\u001b[0;32m      4\u001b[0m end_time \u001b[38;5;241m=\u001b[39m time\u001b[38;5;241m.\u001b[39mtime()\n\u001b[0;32m      5\u001b[0m \u001b[38;5;28mprint\u001b[39m(end_time \u001b[38;5;241m-\u001b[39m start_time)\n",
      "File \u001b[1;32m~\\AppData\\Roaming\\Python\\Python312\\site-packages\\pandas\\io\\json\\_json.py:791\u001b[0m, in \u001b[0;36mread_json\u001b[1;34m(path_or_buf, orient, typ, dtype, convert_axes, convert_dates, keep_default_dates, precise_float, date_unit, encoding, encoding_errors, lines, chunksize, compression, nrows, storage_options, dtype_backend, engine)\u001b[0m\n\u001b[0;32m    788\u001b[0m \u001b[38;5;28;01mif\u001b[39;00m convert_axes \u001b[38;5;129;01mis\u001b[39;00m \u001b[38;5;28;01mNone\u001b[39;00m \u001b[38;5;129;01mand\u001b[39;00m orient \u001b[38;5;241m!=\u001b[39m \u001b[38;5;124m\"\u001b[39m\u001b[38;5;124mtable\u001b[39m\u001b[38;5;124m\"\u001b[39m:\n\u001b[0;32m    789\u001b[0m     convert_axes \u001b[38;5;241m=\u001b[39m \u001b[38;5;28;01mTrue\u001b[39;00m\n\u001b[1;32m--> 791\u001b[0m json_reader \u001b[38;5;241m=\u001b[39m JsonReader(\n\u001b[0;32m    792\u001b[0m     path_or_buf,\n\u001b[0;32m    793\u001b[0m     orient\u001b[38;5;241m=\u001b[39morient,\n\u001b[0;32m    794\u001b[0m     typ\u001b[38;5;241m=\u001b[39mtyp,\n\u001b[0;32m    795\u001b[0m     dtype\u001b[38;5;241m=\u001b[39mdtype,\n\u001b[0;32m    796\u001b[0m     convert_axes\u001b[38;5;241m=\u001b[39mconvert_axes,\n\u001b[0;32m    797\u001b[0m     convert_dates\u001b[38;5;241m=\u001b[39mconvert_dates,\n\u001b[0;32m    798\u001b[0m     keep_default_dates\u001b[38;5;241m=\u001b[39mkeep_default_dates,\n\u001b[0;32m    799\u001b[0m     precise_float\u001b[38;5;241m=\u001b[39mprecise_float,\n\u001b[0;32m    800\u001b[0m     date_unit\u001b[38;5;241m=\u001b[39mdate_unit,\n\u001b[0;32m    801\u001b[0m     encoding\u001b[38;5;241m=\u001b[39mencoding,\n\u001b[0;32m    802\u001b[0m     lines\u001b[38;5;241m=\u001b[39mlines,\n\u001b[0;32m    803\u001b[0m     chunksize\u001b[38;5;241m=\u001b[39mchunksize,\n\u001b[0;32m    804\u001b[0m     compression\u001b[38;5;241m=\u001b[39mcompression,\n\u001b[0;32m    805\u001b[0m     nrows\u001b[38;5;241m=\u001b[39mnrows,\n\u001b[0;32m    806\u001b[0m     storage_options\u001b[38;5;241m=\u001b[39mstorage_options,\n\u001b[0;32m    807\u001b[0m     encoding_errors\u001b[38;5;241m=\u001b[39mencoding_errors,\n\u001b[0;32m    808\u001b[0m     dtype_backend\u001b[38;5;241m=\u001b[39mdtype_backend,\n\u001b[0;32m    809\u001b[0m     engine\u001b[38;5;241m=\u001b[39mengine,\n\u001b[0;32m    810\u001b[0m )\n\u001b[0;32m    812\u001b[0m \u001b[38;5;28;01mif\u001b[39;00m chunksize:\n\u001b[0;32m    813\u001b[0m     \u001b[38;5;28;01mreturn\u001b[39;00m json_reader\n",
      "File \u001b[1;32m~\\AppData\\Roaming\\Python\\Python312\\site-packages\\pandas\\io\\json\\_json.py:904\u001b[0m, in \u001b[0;36mJsonReader.__init__\u001b[1;34m(self, filepath_or_buffer, orient, typ, dtype, convert_axes, convert_dates, keep_default_dates, precise_float, date_unit, encoding, lines, chunksize, compression, nrows, storage_options, encoding_errors, dtype_backend, engine)\u001b[0m\n\u001b[0;32m    902\u001b[0m     \u001b[38;5;28mself\u001b[39m\u001b[38;5;241m.\u001b[39mdata \u001b[38;5;241m=\u001b[39m filepath_or_buffer\n\u001b[0;32m    903\u001b[0m \u001b[38;5;28;01melif\u001b[39;00m \u001b[38;5;28mself\u001b[39m\u001b[38;5;241m.\u001b[39mengine \u001b[38;5;241m==\u001b[39m \u001b[38;5;124m\"\u001b[39m\u001b[38;5;124mujson\u001b[39m\u001b[38;5;124m\"\u001b[39m:\n\u001b[1;32m--> 904\u001b[0m     data \u001b[38;5;241m=\u001b[39m \u001b[38;5;28mself\u001b[39m\u001b[38;5;241m.\u001b[39m_get_data_from_filepath(filepath_or_buffer)\n\u001b[0;32m    905\u001b[0m     \u001b[38;5;28mself\u001b[39m\u001b[38;5;241m.\u001b[39mdata \u001b[38;5;241m=\u001b[39m \u001b[38;5;28mself\u001b[39m\u001b[38;5;241m.\u001b[39m_preprocess_data(data)\n",
      "File \u001b[1;32m~\\AppData\\Roaming\\Python\\Python312\\site-packages\\pandas\\io\\json\\_json.py:960\u001b[0m, in \u001b[0;36mJsonReader._get_data_from_filepath\u001b[1;34m(self, filepath_or_buffer)\u001b[0m\n\u001b[0;32m    952\u001b[0m     filepath_or_buffer \u001b[38;5;241m=\u001b[39m \u001b[38;5;28mself\u001b[39m\u001b[38;5;241m.\u001b[39mhandles\u001b[38;5;241m.\u001b[39mhandle\n\u001b[0;32m    953\u001b[0m \u001b[38;5;28;01melif\u001b[39;00m (\n\u001b[0;32m    954\u001b[0m     \u001b[38;5;28misinstance\u001b[39m(filepath_or_buffer, \u001b[38;5;28mstr\u001b[39m)\n\u001b[0;32m    955\u001b[0m     \u001b[38;5;129;01mand\u001b[39;00m filepath_or_buffer\u001b[38;5;241m.\u001b[39mlower()\u001b[38;5;241m.\u001b[39mendswith(\n\u001b[1;32m   (...)\u001b[0m\n\u001b[0;32m    958\u001b[0m     \u001b[38;5;129;01mand\u001b[39;00m \u001b[38;5;129;01mnot\u001b[39;00m file_exists(filepath_or_buffer)\n\u001b[0;32m    959\u001b[0m ):\n\u001b[1;32m--> 960\u001b[0m     \u001b[38;5;28;01mraise\u001b[39;00m \u001b[38;5;167;01mFileNotFoundError\u001b[39;00m(\u001b[38;5;124mf\u001b[39m\u001b[38;5;124m\"\u001b[39m\u001b[38;5;124mFile \u001b[39m\u001b[38;5;132;01m{\u001b[39;00mfilepath_or_buffer\u001b[38;5;132;01m}\u001b[39;00m\u001b[38;5;124m does not exist\u001b[39m\u001b[38;5;124m\"\u001b[39m)\n\u001b[0;32m    961\u001b[0m \u001b[38;5;28;01melse\u001b[39;00m:\n\u001b[0;32m    962\u001b[0m     warnings\u001b[38;5;241m.\u001b[39mwarn(\n\u001b[0;32m    963\u001b[0m         \u001b[38;5;124m\"\u001b[39m\u001b[38;5;124mPassing literal json to \u001b[39m\u001b[38;5;124m'\u001b[39m\u001b[38;5;124mread_json\u001b[39m\u001b[38;5;124m'\u001b[39m\u001b[38;5;124m is deprecated and \u001b[39m\u001b[38;5;124m\"\u001b[39m\n\u001b[0;32m    964\u001b[0m         \u001b[38;5;124m\"\u001b[39m\u001b[38;5;124mwill be removed in a future version. To read from a \u001b[39m\u001b[38;5;124m\"\u001b[39m\n\u001b[1;32m   (...)\u001b[0m\n\u001b[0;32m    967\u001b[0m         stacklevel\u001b[38;5;241m=\u001b[39mfind_stack_level(),\n\u001b[0;32m    968\u001b[0m     )\n",
      "\u001b[1;31mFileNotFoundError\u001b[0m: File ./data/read.json does not exist"
     ]
    }
   ],
   "source": [
    "# read json()함수로 데이터프레임 변환\n",
    "start_time = time.time()\n",
    "df3 = pd.read_json(file_path)\n",
    "end_time = time.time()\n",
    "print(end_time - start_time)\n",
    "df3"
   ]
  },
  {
   "cell_type": "markdown",
   "id": "204b97a0-9011-4a50-b107-0d12732a694f",
   "metadata": {},
   "source": [
    "# 데이터 저장하기"
   ]
  },
  {
   "cell_type": "markdown",
   "id": "78c3f2d3-c510-4cbf-9c2c-8041af2ef2dc",
   "metadata": {},
   "source": [
    "##  CSV 파일 저장하기"
   ]
  },
  {
   "cell_type": "code",
   "execution_count": null,
   "id": "320873e6-25dc-4e61-a835-2ad5d45f8a6a",
   "metadata": {},
   "outputs": [],
   "source": [
    "# 파일 경로를 찾고 변수 file_path에 파일명을 저장\n",
    "file_path = './data/bicycle.csv'\n",
    "\n",
    "# read CSV()함수로 데이터프레임 변환\n",
    "df1 = pd.read_csv(file_path, encoding='cp949')\n",
    "print(df1)\n",
    "print('=' * 50)\n",
    "\n",
    "# to_CSV 함수를 사용해서 CSV 파일 저장하기 ( 중요 : index=False 반드시 사용 할 것 )\n",
    "df1.to_csv('./data/example_data.csv', index=False)\n",
    "\n",
    "# 저장 파일 확인\n",
    "file_path = './data/example_data.csv'\n",
    "df2 = pd.read_csv(file_path)\n",
    "print(df2)"
   ]
  },
  {
   "cell_type": "markdown",
   "id": "2fccf318-9ef3-4dca-9ead-3c7fbb4b7d8d",
   "metadata": {},
   "source": [
    "## EXCEL 파일 저장하기"
   ]
  },
  {
   "cell_type": "code",
   "execution_count": null,
   "id": "b33b0cb8-1cac-4d30-b4c6-d7e69c4abee5",
   "metadata": {},
   "outputs": [],
   "source": [
    "# 파일 경로를 찾고 변수 file_path에 파일명을 저장\n",
    "file_path = './data/bicycle.xlsx'\n",
    "\n",
    "# read excel()함수로 데이터프레임 변환\n",
    "df1 = pd.read_excel(file_path)\n",
    "print(df1)\n",
    "print('=' * 50)\n",
    "\n",
    "# to_excel 함수를 사용해서 excel 파일 저장하기\n",
    "df1.to_excel('./data/example_data.xlsx', index=False)\n",
    "\n",
    "# 저장 파일 확인\n",
    "file_path = './data/example_data.xlsx'\n",
    "df2 = pd.read_excel(file_path)\n",
    "print(df2)"
   ]
  },
  {
   "cell_type": "markdown",
   "id": "123dd6a3-7976-4a57-bccb-5c95e8d05f08",
   "metadata": {},
   "source": [
    "## JSON 파일 저장하기"
   ]
  },
  {
   "cell_type": "code",
   "execution_count": null,
   "id": "af67e682-cd2b-42f8-b609-a7f0248dcdd0",
   "metadata": {},
   "outputs": [],
   "source": [
    "# 파일 경로를 찾고 변수 file_path에 파일명을 저장\n",
    "file_path = './data/read.json'\n",
    "\n",
    "# read json()함수로 데이터프레임 변환\n",
    "df1 = pd.read_json(file_path)\n",
    "print(df1)\n",
    "print('=' * 50)\n",
    "\n",
    "# to_json 함수를 사용해서 excel 파일 저장하기\n",
    "df1.to_json('./data/example_data.json')\n",
    "\n",
    "# 저장 파일 확인\n",
    "file_path = './data/example_data.json'\n",
    "df2 = pd.read_json(file_path)\n",
    "print(df2)"
   ]
  },
  {
   "cell_type": "markdown",
   "id": "c4c9c71f-ed27-462f-bccf-2c02e2e3ab80",
   "metadata": {},
   "source": [
    "# PANDAS"
   ]
  },
  {
   "cell_type": "markdown",
   "id": "55adab4d-f4ed-4b29-9189-d62c8f460df0",
   "metadata": {},
   "source": [
    "## 시리즈와 데이터 프레임"
   ]
  },
  {
   "cell_type": "code",
   "execution_count": 16,
   "id": "46261590-5cdb-4c02-a818-be62d32c4cbf",
   "metadata": {},
   "outputs": [],
   "source": [
    "import pandas as pd"
   ]
  },
  {
   "cell_type": "code",
   "execution_count": 17,
   "id": "f4cb5557-0e8f-4b0b-b6fb-d55049c2ca70",
   "metadata": {},
   "outputs": [
    {
     "data": {
      "text/plain": [
       "0    멍멍이\n",
       "1    냐옹이\n",
       "2    호랑이\n",
       "3     사자\n",
       "4    원숭이\n",
       "dtype: object"
      ]
     },
     "execution_count": 17,
     "metadata": {},
     "output_type": "execute_result"
    }
   ],
   "source": [
    "sd1 = pd.Series(['멍멍이', '냐옹이', '호랑이', '사자', '원숭이'],\n",
    "         index=['0', '1', '2', '3', '4'])\n",
    "sd1"
   ]
  },
  {
   "cell_type": "code",
   "execution_count": 18,
   "id": "19d8f109-24f1-4f0e-a046-a23f15330cbd",
   "metadata": {},
   "outputs": [
    {
     "data": {
      "text/plain": [
       "a    멍멍이\n",
       "b    냐옹이\n",
       "c    호랑이\n",
       "d     사자\n",
       "e    원숭이\n",
       "dtype: object"
      ]
     },
     "execution_count": 18,
     "metadata": {},
     "output_type": "execute_result"
    }
   ],
   "source": [
    "sd1 = pd.Series(['멍멍이', '냐옹이', '호랑이', '사자', '원숭이'],\n",
    "         index=['a', 'b', 'c', 'd', 'e'])\n",
    "sd1"
   ]
  },
  {
   "cell_type": "code",
   "execution_count": 118,
   "id": "7527aeff-d2e3-49f8-abaf-361f77004a0e",
   "metadata": {},
   "outputs": [],
   "source": [
    "## 시리즈 - 1) 딕셔너리"
   ]
  },
  {
   "cell_type": "code",
   "execution_count": 19,
   "id": "a4592746-08b1-4085-86b7-91dbab06fae7",
   "metadata": {},
   "outputs": [
    {
     "data": {
      "text/plain": [
       "a    멍멍이\n",
       "b    냐옹이\n",
       "c    호랑이\n",
       "d     사자\n",
       "e    원숭이\n",
       "dtype: object"
      ]
     },
     "execution_count": 19,
     "metadata": {},
     "output_type": "execute_result"
    }
   ],
   "source": [
    "dict_data = {'a' : '멍멍이', 'b' : '냐옹이', 'c' : '호랑이', 'd' : '사자', 'e' : '원숭이'}\n",
    "sd2 = pd.Series(dict_data)\n",
    "sd2"
   ]
  },
  {
   "cell_type": "code",
   "execution_count": 20,
   "id": "7653a709-14e3-409c-b860-754f8b1e0933",
   "metadata": {},
   "outputs": [
    {
     "name": "stdout",
     "output_type": "stream",
     "text": [
      "<class 'pandas.core.series.Series'>\n",
      "<class 'pandas.core.series.Series'>\n"
     ]
    }
   ],
   "source": [
    "print(type(sd1))\n",
    "print(type(sd2))"
   ]
  },
  {
   "cell_type": "markdown",
   "id": "99a9200d-b80d-45ac-bb4d-cb84ca47ceef",
   "metadata": {},
   "source": [
    "## 시리즈 - 2) 리스트"
   ]
  },
  {
   "cell_type": "code",
   "execution_count": 21,
   "id": "4c73de8f-74e8-4e7f-8cd8-a98e2689e4ef",
   "metadata": {},
   "outputs": [
    {
     "data": {
      "text/plain": [
       "0    멍멍이\n",
       "1    냐옹이\n",
       "2    호랑이\n",
       "3     사자\n",
       "4    원숭이\n",
       "dtype: object"
      ]
     },
     "execution_count": 21,
     "metadata": {},
     "output_type": "execute_result"
    }
   ],
   "source": [
    "sd1 = pd.Series(['멍멍이', '냐옹이', '호랑이', '사자', '원숭이'],\n",
    "         index=['0', '1', '2', '3', '4'])\n",
    "sd1"
   ]
  },
  {
   "cell_type": "markdown",
   "id": "44d70b6a-0af4-4b4c-9051-e5652a70d80e",
   "metadata": {},
   "source": [
    "## 시리즈 - 3) 튜플"
   ]
  },
  {
   "cell_type": "code",
   "execution_count": 22,
   "id": "6d9c99b2-38d3-49bd-933f-591d869d31c5",
   "metadata": {},
   "outputs": [
    {
     "data": {
      "text/plain": [
       "0    멍멍이\n",
       "1    냐옹이\n",
       "2    호랑이\n",
       "3     사자\n",
       "4    원숭이\n",
       "dtype: object"
      ]
     },
     "execution_count": 22,
     "metadata": {},
     "output_type": "execute_result"
    }
   ],
   "source": [
    "sd2 = pd.Series(('멍멍이', '냐옹이', '호랑이', '사자', '원숭이'),\n",
    "         index=['0', '1', '2', '3', '4'])\n",
    "sd2"
   ]
  },
  {
   "cell_type": "code",
   "execution_count": 131,
   "id": "c556585b-9b0b-4a48-8e00-1028fc05e22c",
   "metadata": {},
   "outputs": [
    {
     "data": {
      "text/plain": [
       "0    물고기\n",
       "1    냐옹이\n",
       "2    호랑이\n",
       "3     사자\n",
       "4    원숭이\n",
       "dtype: object"
      ]
     },
     "execution_count": 131,
     "metadata": {},
     "output_type": "execute_result"
    }
   ],
   "source": [
    "sd2.iloc[0] = '물고기'\n",
    "sd2"
   ]
  },
  {
   "cell_type": "code",
   "execution_count": 133,
   "id": "bc146e5d-c86e-42f9-b3b9-4c3c22c59656",
   "metadata": {},
   "outputs": [
    {
     "data": {
      "text/plain": [
       "0    멍멍이\n",
       "1    냐옹이\n",
       "2    호랑이\n",
       "3     사자\n",
       "4    원숭이\n",
       "dtype: object"
      ]
     },
     "execution_count": 133,
     "metadata": {},
     "output_type": "execute_result"
    }
   ],
   "source": [
    "tup_data = ('멍멍이', '냐옹이', '호랑이', '사자', '원숭이')\n",
    "sd2 = pd.Series(tup_data,index=['0', '1', '2', '3', '4'])\n",
    "sd2"
   ]
  },
  {
   "cell_type": "code",
   "execution_count": 134,
   "id": "cd29c5bc-eeaf-4490-bda1-a6e72ba9d125",
   "metadata": {},
   "outputs": [
    {
     "data": {
      "text/plain": [
       "0    물고기\n",
       "1    냐옹이\n",
       "2    호랑이\n",
       "3     사자\n",
       "4    원숭이\n",
       "dtype: object"
      ]
     },
     "execution_count": 134,
     "metadata": {},
     "output_type": "execute_result"
    }
   ],
   "source": [
    "sd2.iloc[0] = '물고기'\n",
    "sd2"
   ]
  },
  {
   "cell_type": "markdown",
   "id": "89d147bb-53f0-4fdf-ab36-767731381a62",
   "metadata": {},
   "source": [
    "### 데이터 프레임  - 1) 딕셔너리"
   ]
  },
  {
   "cell_type": "code",
   "execution_count": 136,
   "id": "4e50cd36-1207-4563-b6aa-9c957f9a8c98",
   "metadata": {},
   "outputs": [
    {
     "name": "stdout",
     "output_type": "stream",
     "text": [
      "{'동물': ['멍멍이', '냐옹이', '호랑이', '사자', '원숭이'], '나이': [7, 9, 2, 3, 1]}\n"
     ]
    }
   ],
   "source": [
    "dict_data = {'동물' : ['멍멍이', '냐옹이', '호랑이', '사자', '원숭이'], \n",
    "             '나이' : [7, 9, 2, 3, 1]}\n",
    "print(dict_data)"
   ]
  },
  {
   "cell_type": "code",
   "execution_count": 137,
   "id": "739ca417-d176-41bf-9ed1-476ec0588b25",
   "metadata": {},
   "outputs": [
    {
     "data": {
      "text/html": [
       "<div>\n",
       "<style scoped>\n",
       "    .dataframe tbody tr th:only-of-type {\n",
       "        vertical-align: middle;\n",
       "    }\n",
       "\n",
       "    .dataframe tbody tr th {\n",
       "        vertical-align: top;\n",
       "    }\n",
       "\n",
       "    .dataframe thead th {\n",
       "        text-align: right;\n",
       "    }\n",
       "</style>\n",
       "<table border=\"1\" class=\"dataframe\">\n",
       "  <thead>\n",
       "    <tr style=\"text-align: right;\">\n",
       "      <th></th>\n",
       "      <th>동물</th>\n",
       "      <th>나이</th>\n",
       "    </tr>\n",
       "  </thead>\n",
       "  <tbody>\n",
       "    <tr>\n",
       "      <th>0</th>\n",
       "      <td>멍멍이</td>\n",
       "      <td>7</td>\n",
       "    </tr>\n",
       "    <tr>\n",
       "      <th>1</th>\n",
       "      <td>냐옹이</td>\n",
       "      <td>9</td>\n",
       "    </tr>\n",
       "    <tr>\n",
       "      <th>2</th>\n",
       "      <td>호랑이</td>\n",
       "      <td>2</td>\n",
       "    </tr>\n",
       "    <tr>\n",
       "      <th>3</th>\n",
       "      <td>사자</td>\n",
       "      <td>3</td>\n",
       "    </tr>\n",
       "    <tr>\n",
       "      <th>4</th>\n",
       "      <td>원숭이</td>\n",
       "      <td>1</td>\n",
       "    </tr>\n",
       "  </tbody>\n",
       "</table>\n",
       "</div>"
      ],
      "text/plain": [
       "    동물  나이\n",
       "0  멍멍이   7\n",
       "1  냐옹이   9\n",
       "2  호랑이   2\n",
       "3   사자   3\n",
       "4  원숭이   1"
      ]
     },
     "execution_count": 137,
     "metadata": {},
     "output_type": "execute_result"
    }
   ],
   "source": [
    "df1 = pd.DataFrame(dict_data)\n",
    "df1"
   ]
  },
  {
   "cell_type": "markdown",
   "id": "8cfd2d60-dd48-495e-a6dd-9ebf9a42237c",
   "metadata": {},
   "source": [
    "### 데이터 프레임  - 2) 리스트"
   ]
  },
  {
   "cell_type": "code",
   "execution_count": 142,
   "id": "c65a6ade-0d60-40d1-ab6c-cb95863385f3",
   "metadata": {},
   "outputs": [
    {
     "data": {
      "text/html": [
       "<div>\n",
       "<style scoped>\n",
       "    .dataframe tbody tr th:only-of-type {\n",
       "        vertical-align: middle;\n",
       "    }\n",
       "\n",
       "    .dataframe tbody tr th {\n",
       "        vertical-align: top;\n",
       "    }\n",
       "\n",
       "    .dataframe thead th {\n",
       "        text-align: right;\n",
       "    }\n",
       "</style>\n",
       "<table border=\"1\" class=\"dataframe\">\n",
       "  <thead>\n",
       "    <tr style=\"text-align: right;\">\n",
       "      <th></th>\n",
       "      <th>동물</th>\n",
       "      <th>나이</th>\n",
       "    </tr>\n",
       "  </thead>\n",
       "  <tbody>\n",
       "    <tr>\n",
       "      <th>0</th>\n",
       "      <td>멍멍이</td>\n",
       "      <td>7</td>\n",
       "    </tr>\n",
       "    <tr>\n",
       "      <th>1</th>\n",
       "      <td>냐옹이</td>\n",
       "      <td>9</td>\n",
       "    </tr>\n",
       "    <tr>\n",
       "      <th>2</th>\n",
       "      <td>호랑이</td>\n",
       "      <td>2</td>\n",
       "    </tr>\n",
       "    <tr>\n",
       "      <th>3</th>\n",
       "      <td>사자</td>\n",
       "      <td>3</td>\n",
       "    </tr>\n",
       "    <tr>\n",
       "      <th>4</th>\n",
       "      <td>원숭이</td>\n",
       "      <td>1</td>\n",
       "    </tr>\n",
       "  </tbody>\n",
       "</table>\n",
       "</div>"
      ],
      "text/plain": [
       "    동물 나이\n",
       "0  멍멍이  7\n",
       "1  냐옹이  9\n",
       "2  호랑이  2\n",
       "3   사자  3\n",
       "4  원숭이  1"
      ]
     },
     "execution_count": 142,
     "metadata": {},
     "output_type": "execute_result"
    }
   ],
   "source": [
    "data = [ ['멍멍이', '7'], ['냐옹이', '9'], ['호랑이', '2'], ['사자', '3'], ['원숭이', '1']]\n",
    "indexed = ['0', '1', '2', '3', '4']\n",
    "columned = ['동물', '나이']\n",
    "\n",
    "df2 = pd.DataFrame(data, index=indexed, columns=columned)\n",
    "df2"
   ]
  },
  {
   "cell_type": "markdown",
   "id": "ba587070-a512-4931-a3f4-3a0fc91768a4",
   "metadata": {},
   "source": [
    "# 데이터 프레임 조작"
   ]
  },
  {
   "cell_type": "code",
   "execution_count": 143,
   "id": "67452d02-8623-43f5-a550-202de3cf44a0",
   "metadata": {},
   "outputs": [],
   "source": [
    "import pandas as pd\n",
    "import matplotlib as mpl\n",
    "import matplotlib.pyplot as plt\n",
    "import seaborn as sns\n",
    "import numpy as np"
   ]
  },
  {
   "cell_type": "code",
   "execution_count": 144,
   "id": "8daf89b3-ffd2-4626-a9ea-e16975199930",
   "metadata": {},
   "outputs": [
    {
     "data": {
      "text/html": [
       "<div>\n",
       "<style scoped>\n",
       "    .dataframe tbody tr th:only-of-type {\n",
       "        vertical-align: middle;\n",
       "    }\n",
       "\n",
       "    .dataframe tbody tr th {\n",
       "        vertical-align: top;\n",
       "    }\n",
       "\n",
       "    .dataframe thead th {\n",
       "        text-align: right;\n",
       "    }\n",
       "</style>\n",
       "<table border=\"1\" class=\"dataframe\">\n",
       "  <thead>\n",
       "    <tr style=\"text-align: right;\">\n",
       "      <th></th>\n",
       "      <th>total_bill</th>\n",
       "      <th>tip</th>\n",
       "      <th>sex</th>\n",
       "      <th>smoker</th>\n",
       "      <th>day</th>\n",
       "      <th>time</th>\n",
       "      <th>size</th>\n",
       "    </tr>\n",
       "  </thead>\n",
       "  <tbody>\n",
       "    <tr>\n",
       "      <th>0</th>\n",
       "      <td>16.99</td>\n",
       "      <td>1.01</td>\n",
       "      <td>Female</td>\n",
       "      <td>No</td>\n",
       "      <td>Sun</td>\n",
       "      <td>Dinner</td>\n",
       "      <td>2</td>\n",
       "    </tr>\n",
       "    <tr>\n",
       "      <th>1</th>\n",
       "      <td>10.34</td>\n",
       "      <td>1.66</td>\n",
       "      <td>Male</td>\n",
       "      <td>No</td>\n",
       "      <td>Sun</td>\n",
       "      <td>Dinner</td>\n",
       "      <td>3</td>\n",
       "    </tr>\n",
       "    <tr>\n",
       "      <th>2</th>\n",
       "      <td>21.01</td>\n",
       "      <td>3.50</td>\n",
       "      <td>Male</td>\n",
       "      <td>No</td>\n",
       "      <td>Sun</td>\n",
       "      <td>Dinner</td>\n",
       "      <td>3</td>\n",
       "    </tr>\n",
       "    <tr>\n",
       "      <th>3</th>\n",
       "      <td>23.68</td>\n",
       "      <td>3.31</td>\n",
       "      <td>Male</td>\n",
       "      <td>No</td>\n",
       "      <td>Sun</td>\n",
       "      <td>Dinner</td>\n",
       "      <td>2</td>\n",
       "    </tr>\n",
       "    <tr>\n",
       "      <th>4</th>\n",
       "      <td>24.59</td>\n",
       "      <td>3.61</td>\n",
       "      <td>Female</td>\n",
       "      <td>No</td>\n",
       "      <td>Sun</td>\n",
       "      <td>Dinner</td>\n",
       "      <td>4</td>\n",
       "    </tr>\n",
       "    <tr>\n",
       "      <th>...</th>\n",
       "      <td>...</td>\n",
       "      <td>...</td>\n",
       "      <td>...</td>\n",
       "      <td>...</td>\n",
       "      <td>...</td>\n",
       "      <td>...</td>\n",
       "      <td>...</td>\n",
       "    </tr>\n",
       "    <tr>\n",
       "      <th>239</th>\n",
       "      <td>29.03</td>\n",
       "      <td>5.92</td>\n",
       "      <td>Male</td>\n",
       "      <td>No</td>\n",
       "      <td>Sat</td>\n",
       "      <td>Dinner</td>\n",
       "      <td>3</td>\n",
       "    </tr>\n",
       "    <tr>\n",
       "      <th>240</th>\n",
       "      <td>27.18</td>\n",
       "      <td>2.00</td>\n",
       "      <td>Female</td>\n",
       "      <td>Yes</td>\n",
       "      <td>Sat</td>\n",
       "      <td>Dinner</td>\n",
       "      <td>2</td>\n",
       "    </tr>\n",
       "    <tr>\n",
       "      <th>241</th>\n",
       "      <td>22.67</td>\n",
       "      <td>2.00</td>\n",
       "      <td>Male</td>\n",
       "      <td>Yes</td>\n",
       "      <td>Sat</td>\n",
       "      <td>Dinner</td>\n",
       "      <td>2</td>\n",
       "    </tr>\n",
       "    <tr>\n",
       "      <th>242</th>\n",
       "      <td>17.82</td>\n",
       "      <td>1.75</td>\n",
       "      <td>Male</td>\n",
       "      <td>No</td>\n",
       "      <td>Sat</td>\n",
       "      <td>Dinner</td>\n",
       "      <td>2</td>\n",
       "    </tr>\n",
       "    <tr>\n",
       "      <th>243</th>\n",
       "      <td>18.78</td>\n",
       "      <td>3.00</td>\n",
       "      <td>Female</td>\n",
       "      <td>No</td>\n",
       "      <td>Thur</td>\n",
       "      <td>Dinner</td>\n",
       "      <td>2</td>\n",
       "    </tr>\n",
       "  </tbody>\n",
       "</table>\n",
       "<p>244 rows × 7 columns</p>\n",
       "</div>"
      ],
      "text/plain": [
       "     total_bill   tip     sex smoker   day    time  size\n",
       "0         16.99  1.01  Female     No   Sun  Dinner     2\n",
       "1         10.34  1.66    Male     No   Sun  Dinner     3\n",
       "2         21.01  3.50    Male     No   Sun  Dinner     3\n",
       "3         23.68  3.31    Male     No   Sun  Dinner     2\n",
       "4         24.59  3.61  Female     No   Sun  Dinner     4\n",
       "..          ...   ...     ...    ...   ...     ...   ...\n",
       "239       29.03  5.92    Male     No   Sat  Dinner     3\n",
       "240       27.18  2.00  Female    Yes   Sat  Dinner     2\n",
       "241       22.67  2.00    Male    Yes   Sat  Dinner     2\n",
       "242       17.82  1.75    Male     No   Sat  Dinner     2\n",
       "243       18.78  3.00  Female     No  Thur  Dinner     2\n",
       "\n",
       "[244 rows x 7 columns]"
      ]
     },
     "execution_count": 144,
     "metadata": {},
     "output_type": "execute_result"
    }
   ],
   "source": [
    "tips = sns.load_dataset('tips')\n",
    "tips"
   ]
  },
  {
   "cell_type": "code",
   "execution_count": 145,
   "id": "2610d8a5-6aec-46ab-a763-426b03f73a32",
   "metadata": {},
   "outputs": [
    {
     "name": "stdout",
     "output_type": "stream",
     "text": [
      "<class 'pandas.core.frame.DataFrame'>\n",
      "RangeIndex: 244 entries, 0 to 243\n",
      "Data columns (total 7 columns):\n",
      " #   Column      Non-Null Count  Dtype   \n",
      "---  ------      --------------  -----   \n",
      " 0   total_bill  244 non-null    float64 \n",
      " 1   tip         244 non-null    float64 \n",
      " 2   sex         244 non-null    category\n",
      " 3   smoker      244 non-null    category\n",
      " 4   day         244 non-null    category\n",
      " 5   time        244 non-null    category\n",
      " 6   size        244 non-null    int64   \n",
      "dtypes: category(4), float64(2), int64(1)\n",
      "memory usage: 7.4 KB\n"
     ]
    }
   ],
   "source": [
    "tips.info()"
   ]
  },
  {
   "cell_type": "code",
   "execution_count": 146,
   "id": "dbb9cea3-049f-45b7-9c3a-1b57cdfdcc4b",
   "metadata": {},
   "outputs": [
    {
     "data": {
      "text/html": [
       "<div>\n",
       "<style scoped>\n",
       "    .dataframe tbody tr th:only-of-type {\n",
       "        vertical-align: middle;\n",
       "    }\n",
       "\n",
       "    .dataframe tbody tr th {\n",
       "        vertical-align: top;\n",
       "    }\n",
       "\n",
       "    .dataframe thead th {\n",
       "        text-align: right;\n",
       "    }\n",
       "</style>\n",
       "<table border=\"1\" class=\"dataframe\">\n",
       "  <thead>\n",
       "    <tr style=\"text-align: right;\">\n",
       "      <th></th>\n",
       "      <th>total_bill</th>\n",
       "      <th>tip</th>\n",
       "      <th>sex</th>\n",
       "      <th>smoker</th>\n",
       "      <th>day</th>\n",
       "      <th>time</th>\n",
       "      <th>size</th>\n",
       "    </tr>\n",
       "  </thead>\n",
       "  <tbody>\n",
       "    <tr>\n",
       "      <th>0</th>\n",
       "      <td>16.99</td>\n",
       "      <td>1.01</td>\n",
       "      <td>Female</td>\n",
       "      <td>No</td>\n",
       "      <td>Sun</td>\n",
       "      <td>Dinner</td>\n",
       "      <td>2</td>\n",
       "    </tr>\n",
       "    <tr>\n",
       "      <th>1</th>\n",
       "      <td>10.34</td>\n",
       "      <td>1.66</td>\n",
       "      <td>Male</td>\n",
       "      <td>No</td>\n",
       "      <td>Sun</td>\n",
       "      <td>Dinner</td>\n",
       "      <td>3</td>\n",
       "    </tr>\n",
       "    <tr>\n",
       "      <th>2</th>\n",
       "      <td>21.01</td>\n",
       "      <td>3.50</td>\n",
       "      <td>Male</td>\n",
       "      <td>No</td>\n",
       "      <td>Sun</td>\n",
       "      <td>Dinner</td>\n",
       "      <td>3</td>\n",
       "    </tr>\n",
       "    <tr>\n",
       "      <th>3</th>\n",
       "      <td>23.68</td>\n",
       "      <td>3.31</td>\n",
       "      <td>Male</td>\n",
       "      <td>No</td>\n",
       "      <td>Sun</td>\n",
       "      <td>Dinner</td>\n",
       "      <td>2</td>\n",
       "    </tr>\n",
       "    <tr>\n",
       "      <th>4</th>\n",
       "      <td>24.59</td>\n",
       "      <td>3.61</td>\n",
       "      <td>Female</td>\n",
       "      <td>No</td>\n",
       "      <td>Sun</td>\n",
       "      <td>Dinner</td>\n",
       "      <td>4</td>\n",
       "    </tr>\n",
       "  </tbody>\n",
       "</table>\n",
       "</div>"
      ],
      "text/plain": [
       "   total_bill   tip     sex smoker  day    time  size\n",
       "0       16.99  1.01  Female     No  Sun  Dinner     2\n",
       "1       10.34  1.66    Male     No  Sun  Dinner     3\n",
       "2       21.01  3.50    Male     No  Sun  Dinner     3\n",
       "3       23.68  3.31    Male     No  Sun  Dinner     2\n",
       "4       24.59  3.61  Female     No  Sun  Dinner     4"
      ]
     },
     "execution_count": 146,
     "metadata": {},
     "output_type": "execute_result"
    }
   ],
   "source": [
    "tips.head()"
   ]
  },
  {
   "cell_type": "code",
   "execution_count": 147,
   "id": "793927bb-093b-4824-bf32-0dcf06b9e9a2",
   "metadata": {},
   "outputs": [
    {
     "data": {
      "text/html": [
       "<div>\n",
       "<style scoped>\n",
       "    .dataframe tbody tr th:only-of-type {\n",
       "        vertical-align: middle;\n",
       "    }\n",
       "\n",
       "    .dataframe tbody tr th {\n",
       "        vertical-align: top;\n",
       "    }\n",
       "\n",
       "    .dataframe thead th {\n",
       "        text-align: right;\n",
       "    }\n",
       "</style>\n",
       "<table border=\"1\" class=\"dataframe\">\n",
       "  <thead>\n",
       "    <tr style=\"text-align: right;\">\n",
       "      <th></th>\n",
       "      <th>total_bill</th>\n",
       "      <th>tip</th>\n",
       "      <th>sex</th>\n",
       "      <th>smoker</th>\n",
       "      <th>day</th>\n",
       "      <th>time</th>\n",
       "      <th>size</th>\n",
       "    </tr>\n",
       "  </thead>\n",
       "  <tbody>\n",
       "    <tr>\n",
       "      <th>239</th>\n",
       "      <td>29.03</td>\n",
       "      <td>5.92</td>\n",
       "      <td>Male</td>\n",
       "      <td>No</td>\n",
       "      <td>Sat</td>\n",
       "      <td>Dinner</td>\n",
       "      <td>3</td>\n",
       "    </tr>\n",
       "    <tr>\n",
       "      <th>240</th>\n",
       "      <td>27.18</td>\n",
       "      <td>2.00</td>\n",
       "      <td>Female</td>\n",
       "      <td>Yes</td>\n",
       "      <td>Sat</td>\n",
       "      <td>Dinner</td>\n",
       "      <td>2</td>\n",
       "    </tr>\n",
       "    <tr>\n",
       "      <th>241</th>\n",
       "      <td>22.67</td>\n",
       "      <td>2.00</td>\n",
       "      <td>Male</td>\n",
       "      <td>Yes</td>\n",
       "      <td>Sat</td>\n",
       "      <td>Dinner</td>\n",
       "      <td>2</td>\n",
       "    </tr>\n",
       "    <tr>\n",
       "      <th>242</th>\n",
       "      <td>17.82</td>\n",
       "      <td>1.75</td>\n",
       "      <td>Male</td>\n",
       "      <td>No</td>\n",
       "      <td>Sat</td>\n",
       "      <td>Dinner</td>\n",
       "      <td>2</td>\n",
       "    </tr>\n",
       "    <tr>\n",
       "      <th>243</th>\n",
       "      <td>18.78</td>\n",
       "      <td>3.00</td>\n",
       "      <td>Female</td>\n",
       "      <td>No</td>\n",
       "      <td>Thur</td>\n",
       "      <td>Dinner</td>\n",
       "      <td>2</td>\n",
       "    </tr>\n",
       "  </tbody>\n",
       "</table>\n",
       "</div>"
      ],
      "text/plain": [
       "     total_bill   tip     sex smoker   day    time  size\n",
       "239       29.03  5.92    Male     No   Sat  Dinner     3\n",
       "240       27.18  2.00  Female    Yes   Sat  Dinner     2\n",
       "241       22.67  2.00    Male    Yes   Sat  Dinner     2\n",
       "242       17.82  1.75    Male     No   Sat  Dinner     2\n",
       "243       18.78  3.00  Female     No  Thur  Dinner     2"
      ]
     },
     "execution_count": 147,
     "metadata": {},
     "output_type": "execute_result"
    }
   ],
   "source": [
    "tips.tail()"
   ]
  },
  {
   "cell_type": "code",
   "execution_count": 148,
   "id": "5e5ee4f4-8ef6-4268-811e-57455dc16f20",
   "metadata": {},
   "outputs": [
    {
     "data": {
      "text/plain": [
       "{'Female', 'Male'}"
      ]
     },
     "execution_count": 148,
     "metadata": {},
     "output_type": "execute_result"
    }
   ],
   "source": [
    "set(tips['sex'])"
   ]
  },
  {
   "cell_type": "code",
   "execution_count": 149,
   "id": "4e251dd3-10be-4313-86a1-a9aa17770a6c",
   "metadata": {},
   "outputs": [
    {
     "data": {
      "text/plain": [
       "{'Fri', 'Sat', 'Sun', 'Thur'}"
      ]
     },
     "execution_count": 149,
     "metadata": {},
     "output_type": "execute_result"
    }
   ],
   "source": [
    "set(tips['day'])"
   ]
  },
  {
   "cell_type": "code",
   "execution_count": 150,
   "id": "ba5d65ac-8383-4cfa-9dc5-77a1257ef709",
   "metadata": {},
   "outputs": [
    {
     "data": {
      "text/plain": [
       "{'No', 'Yes'}"
      ]
     },
     "execution_count": 150,
     "metadata": {},
     "output_type": "execute_result"
    }
   ],
   "source": [
    "set(tips['smoker'])"
   ]
  },
  {
   "cell_type": "code",
   "execution_count": 151,
   "id": "05cb7bca-3d06-41d4-a809-9f7efd549ac1",
   "metadata": {},
   "outputs": [
    {
     "data": {
      "text/plain": [
       "{'Dinner', 'Lunch'}"
      ]
     },
     "execution_count": 151,
     "metadata": {},
     "output_type": "execute_result"
    }
   ],
   "source": [
    "set(tips['time'])"
   ]
  },
  {
   "cell_type": "code",
   "execution_count": null,
   "id": "0bd08266-14ba-47b0-bbce-6379b891661b",
   "metadata": {},
   "outputs": [],
   "source": []
  }
 ],
 "metadata": {
  "kernelspec": {
   "display_name": "Python 3 (ipykernel)",
   "language": "python",
   "name": "python3"
  },
  "language_info": {
   "codemirror_mode": {
    "name": "ipython",
    "version": 3
   },
   "file_extension": ".py",
   "mimetype": "text/x-python",
   "name": "python",
   "nbconvert_exporter": "python",
   "pygments_lexer": "ipython3",
   "version": "3.12.9"
  }
 },
 "nbformat": 4,
 "nbformat_minor": 5
}
