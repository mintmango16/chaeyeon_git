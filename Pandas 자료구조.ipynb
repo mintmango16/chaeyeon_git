{
 "cells": [
  {
   "cell_type": "markdown",
   "id": "c8f147c1-43de-4904-8ff8-5f75413c384d",
   "metadata": {},
   "source": [
    "## **Pandas** 자료구조\n",
    " - 판다스의 시리즈는 파이썬의 리스트와 비슷한 1차원 자료구조\n",
    " - 시리즈는 데이터 프레임의 각 열을 나타내는 자료형임\n",
    " - 한 열에 있는 모든 값은 자료형(dtype)이 같아야 함\n",
    " - 시리즈는 인덱스, 벨류와 같은 다양한 속성과 메서드를 제공함\n",
    "\n",
    " - 데이터프레임은 각 키가 열의 이름이고 값이 시리즈인 딕셔너리로 해석가능함\n",
    " - column에 해당하는 각 열에 자동으로 인덱스가 매겨짐\n",
    " - 데이터프레임은 시리즈 객체를 모은 딕셔너리 형태임"
   ]
  },
  {
   "cell_type": "code",
   "execution_count": 1,
   "id": "241f1103-89ee-4fd3-823b-5103149d83c3",
   "metadata": {},
   "outputs": [],
   "source": [
    "import pandas as pd"
   ]
  },
  {
   "cell_type": "code",
   "execution_count": 5,
   "id": "f2076cc3-175c-4b26-9755-214efa43aabd",
   "metadata": {},
   "outputs": [
    {
     "name": "stdout",
     "output_type": "stream",
     "text": [
      "0    Banana\n",
      "1        42\n",
      "dtype: object\n"
     ]
    }
   ],
   "source": [
    "s = pd.Series([\"Banana\", 42])\n",
    "print(s)"
   ]
  },
  {
   "cell_type": "code",
   "execution_count": 6,
   "id": "b4e09ada-75d9-4353-9bb0-7f31bc001ead",
   "metadata": {},
   "outputs": [
    {
     "name": "stdout",
     "output_type": "stream",
     "text": [
      "person    박채연\n",
      "who       취준생\n",
      "dtype: object\n"
     ]
    }
   ],
   "source": [
    "s1 = pd.Series(data = [\"박채연\", \"취준생\"], index = ['person', 'who'])\n",
    "print(s1)"
   ]
  },
  {
   "cell_type": "code",
   "execution_count": 11,
   "id": "1e5e342a-2a61-4bce-95b4-66a5e313d06b",
   "metadata": {},
   "outputs": [
    {
     "name": "stdout",
     "output_type": "stream",
     "text": [
      "  name          생일        사망날짜  나이\n",
      "0  홍길동  1950-08-02  2002-05-15  52\n",
      "1  김인정  1995-04-08  2012-06-05  17\n"
     ]
    }
   ],
   "source": [
    "df1 = pd.DataFrame({\n",
    "    \"name\" : ['홍길동', \"김인정\"],\n",
    "    \"생일\": [\"1950-08-02\", \"1995-04-08\"],\n",
    "    \"사망날짜\" : [\"2002-05-15\",\"2012-06-05\"],\n",
    "    \"나이\": [52, 17]\n",
    "})\n",
    "\n",
    "print(df1)"
   ]
  },
  {
   "cell_type": "code",
   "execution_count": 122,
   "id": "caac1d27-37fd-4c33-8ccd-d125a8b232ad",
   "metadata": {},
   "outputs": [
    {
     "name": "stdout",
     "output_type": "stream",
     "text": [
      "                     Occupation        Born        Died  Age\n",
      "Rosaline Franklin       Chemist  1920-07-25  1958-04-16   37\n",
      "William Gosset     Statistician  1876-06-13  1937-10-16   61\n"
     ]
    }
   ],
   "source": [
    "#인덱스 지정하기\n",
    "\n",
    "df2 = pd.DataFrame(\n",
    "    data={\n",
    "        \"Occupation\": [\"Chemist\", \"Statistician\"],\n",
    "        \"Born\": [\"1920-07-25\", \"1876-06-13\"],\n",
    "        \"Died\": [\"1958-04-16\", \"1937-10-16\"],\n",
    "        \"Age\": [37, 61],\n",
    "    },\n",
    "    index=[\"Rosaline Franklin\", \"William Gosset\"],\n",
    "    columns=[\"Occupation\", \"Born\", \"Died\", \"Age\"],\n",
    ")\n",
    "\n",
    "print(df2)"
   ]
  },
  {
   "cell_type": "markdown",
   "id": "3648ef95-09f0-4d89-a939-de3cb4dbb3f9",
   "metadata": {},
   "source": [
    "---\n",
    "### **시리즈 다루기**"
   ]
  },
  {
   "cell_type": "code",
   "execution_count": 125,
   "id": "4869bee7-f71c-457a-b966-7d009847a537",
   "metadata": {},
   "outputs": [],
   "source": [
    "first_row = df2.loc[\"Rosaline Franklin\"]"
   ]
  },
  {
   "cell_type": "code",
   "execution_count": 126,
   "id": "a79ce2cc-3c02-4226-a75a-85b984cf4874",
   "metadata": {},
   "outputs": [
    {
     "name": "stdout",
     "output_type": "stream",
     "text": [
      "Index(['Occupation', 'Born', 'Died', 'Age'], dtype='object')\n",
      "['Chemist' '1920-07-25' '1958-04-16' np.int64(37)]\n"
     ]
    }
   ],
   "source": [
    "print(first_row.index)\n",
    "print(first_row.values)"
   ]
  },
  {
   "cell_type": "code",
   "execution_count": 24,
   "id": "bbd0f9ee-dd6a-4728-a054-6ab8f64de905",
   "metadata": {},
   "outputs": [
    {
     "data": {
      "text/plain": [
       "'name'"
      ]
     },
     "execution_count": 24,
     "metadata": {},
     "output_type": "execute_result"
    }
   ],
   "source": [
    "first_row.index[0]"
   ]
  },
  {
   "cell_type": "code",
   "execution_count": 25,
   "id": "0468dd72-36c7-476b-b01a-a5c21c9d6d43",
   "metadata": {},
   "outputs": [
    {
     "data": {
      "text/plain": [
       "Index(['name', 'birth', 'death', 'age'], dtype='object')"
      ]
     },
     "execution_count": 25,
     "metadata": {},
     "output_type": "execute_result"
    }
   ],
   "source": [
    "first_row.keys() #열의 이름 모두 확인 가능"
   ]
  },
  {
   "cell_type": "code",
   "execution_count": 26,
   "id": "6b74ad74-91df-4e91-9fa0-7bfbc5e1e416",
   "metadata": {},
   "outputs": [
    {
     "data": {
      "text/plain": [
       "'name'"
      ]
     },
     "execution_count": 26,
     "metadata": {},
     "output_type": "execute_result"
    }
   ],
   "source": [
    "first_row.keys()[0] #열 이름의 인덱스 지정"
   ]
  },
  {
   "cell_type": "markdown",
   "id": "16ffd423-a9eb-4c3d-aa0f-3c03b21ed021",
   "metadata": {},
   "source": [
    " - loc : 열 이름으로 데이터 추출\n",
    " - iloc : 열 위치로 데이터 추출\n",
    " - dtype 또는 dtypes : 시리즈에 저장된 값의 자료형 \n",
    " - T : 시리즈의 전치, 행과 열 전환 (transpose)\n",
    " - shape : 데이터의 차원\n",
    " - size : 시리즈 요소의 개수\n",
    " - values : 시리즈의 ndarray 또는 ndarray와 같은 형태"
   ]
  },
  {
   "cell_type": "markdown",
   "id": "2ddfabe5-bc01-48dc-9fcb-c09310eb7798",
   "metadata": {},
   "source": [
    "\n",
    "### **시리즈와 ndarray**\n",
    " - 판다스의 시리즈 자료구조는 넘파이의 ndarray와 매우 닮음\n",
    " - ndarray에서 사용가능한 메서드/함수는 시리즈에도 대부분 사용 가능\n",
    " - 한 특성에 대한 여러가지 값이므로 시리즈를 벡터라고도 함\n",
    "\n",
    " - 넘파이는 숫자 벡터를 다루는 과학 계산 라이브러리\n",
    " - 시리즈는 넘파이의 ndarray를 확장한 개념 -> 많은 속성과 메서드 그대로 사용 가능\n",
    " - .mean()   .min()   .max()   .std()\n",
    " - https://numpy.org/doc/stable/reference/arrays.ndarray.html"
   ]
  },
  {
   "cell_type": "code",
   "execution_count": 31,
   "id": "31e73979-a575-4637-a8e1-fd4a5bb0a6f2",
   "metadata": {},
   "outputs": [
    {
     "name": "stdout",
     "output_type": "stream",
     "text": [
      "                   Name        Born        Died  Age          Occupation\n",
      "0     Rosaline Franklin  1920-07-25  1958-04-16   37             Chemist\n",
      "1        William Gosset  1876-06-13  1937-10-16   61        Statistician\n",
      "2  Florence Nightingale  1820-05-12  1910-08-13   90               Nurse\n",
      "3           Marie Curie  1867-11-07  1934-07-04   66             Chemist\n",
      "4         Rachel Carson  1907-05-27  1964-04-14   56           Biologist\n",
      "5             John Snow  1813-03-15  1858-06-16   45           Physician\n",
      "6           Alan Turing  1912-06-23  1954-06-07   41  Computer Scientist\n",
      "7          Johann Gauss  1777-04-30  1855-02-23   77       Mathematician\n"
     ]
    }
   ],
   "source": [
    "scientists = pd.read_csv('codes/data/scientists.csv', sep=',')\n",
    "print(scientists)"
   ]
  },
  {
   "cell_type": "code",
   "execution_count": 131,
   "id": "166c4fd5-8bdb-4211-898c-e31bc77f2eaf",
   "metadata": {},
   "outputs": [
    {
     "name": "stdout",
     "output_type": "stream",
     "text": [
      "0    61\n",
      "1    45\n",
      "2    37\n",
      "3    77\n",
      "4    90\n",
      "5    56\n",
      "6    66\n",
      "7    41\n",
      "Name: Age, dtype: int64\n"
     ]
    }
   ],
   "source": [
    "ages = scientists[\"Age\"]  # 나이 열만 추출\n",
    "print(ages)"
   ]
  },
  {
   "cell_type": "code",
   "execution_count": 136,
   "id": "d546ca7f-3f08-4c45-a77d-e83aee329b68",
   "metadata": {},
   "outputs": [
    {
     "name": "stdout",
     "output_type": "stream",
     "text": [
      "count     8.000000\n",
      "mean     59.125000\n",
      "std      18.325918\n",
      "min      37.000000\n",
      "25%      44.000000\n",
      "50%      58.500000\n",
      "75%      68.750000\n",
      "max      90.000000\n",
      "Name: Age, dtype: float64\n"
     ]
    }
   ],
   "source": [
    "print(ages.describe()) #기술 통계량 확인"
   ]
  },
  {
   "cell_type": "code",
   "execution_count": 37,
   "id": "0953beeb-684c-46b1-8c47-52fc18bc0580",
   "metadata": {},
   "outputs": [
    {
     "data": {
      "text/plain": [
       "1    61\n",
       "2    90\n",
       "3    66\n",
       "7    77\n",
       "Name: Age, dtype: int64"
      ]
     },
     "execution_count": 37,
     "metadata": {},
     "output_type": "execute_result"
    }
   ],
   "source": [
    "ages[ages > ages.mean()] # 평균값보다 큰 age값만 출력"
   ]
  },
  {
   "cell_type": "code",
   "execution_count": 39,
   "id": "9b719cb4-5c3f-4029-b339-29749cd79a1e",
   "metadata": {},
   "outputs": [
    {
     "name": "stdout",
     "output_type": "stream",
     "text": [
      "0    False\n",
      "1     True\n",
      "2     True\n",
      "3     True\n",
      "4    False\n",
      "5    False\n",
      "6    False\n",
      "7     True\n",
      "Name: Age, dtype: bool\n"
     ]
    }
   ],
   "source": [
    "print(ages > ages.mean()) #비교문이라서 불린값 반환"
   ]
  },
  {
   "cell_type": "markdown",
   "id": "340db4bc-607e-4692-8357-288ec324e412",
   "metadata": {},
   "source": [
    "- 불린값으로 구성된 시리즈(벡터)로도 데이터를 추출 가능함"
   ]
  },
  {
   "cell_type": "code",
   "execution_count": 44,
   "id": "b8046abf-bb55-44f5-aa6c-9069589d040b",
   "metadata": {},
   "outputs": [
    {
     "data": {
      "text/plain": [
       "0    False\n",
       "1     True\n",
       "2     True\n",
       "3     True\n",
       "4    False\n",
       "5    False\n",
       "6    False\n",
       "7     True\n",
       "Name: Age, dtype: bool"
      ]
     },
     "execution_count": 44,
     "metadata": {},
     "output_type": "execute_result"
    }
   ],
   "source": [
    "manual_bool_type = ages > ages.mean()\n",
    "manual_bool_type #불린 값 저장"
   ]
  },
  {
   "cell_type": "code",
   "execution_count": 45,
   "id": "ebb068ce-34da-43d1-a4ef-9eeff14e7e2d",
   "metadata": {},
   "outputs": [
    {
     "name": "stdout",
     "output_type": "stream",
     "text": [
      "1    61\n",
      "2    90\n",
      "3    66\n",
      "7    77\n",
      "Name: Age, dtype: int64\n"
     ]
    }
   ],
   "source": [
    "print(ages[manual_bool_type]) #불린값이 T인 것만 리턴"
   ]
  },
  {
   "cell_type": "markdown",
   "id": "63a7107c-1f0c-4a06-a066-3cdb86543579",
   "metadata": {},
   "source": [
    "### **브로드 캐스팅** \n",
    " - for문 없이 ages > ages.mean()로 모든 데이터를 반환 가능한 이유\n",
    " - 시리즈/데이터프레임을 대상으로 하는 메서드는 모든 데이터를 대상으로 연산하는 **브로드 캐스팅**하기 때문\n",
    "   -> 코드의 가독성 증가와  최적화 효과\n",
    "---\n",
    " - 벡터와 벡터, 벡터와 스칼라 계산하기\n",
    " -  길이가 같은 두 시리즈를 대상으로 계산하기\n",
    " - **null값은 계산되지 않으므로** 계산 전 null 값 처리가 중요 !"
   ]
  },
  {
   "cell_type": "code",
   "execution_count": 46,
   "id": "42ed62eb-e4db-4872-8fcb-1504af3c6124",
   "metadata": {},
   "outputs": [
    {
     "data": {
      "text/plain": [
       "0     74\n",
       "1    122\n",
       "2    180\n",
       "3    132\n",
       "4    112\n",
       "5     90\n",
       "6     82\n",
       "7    154\n",
       "Name: Age, dtype: int64"
      ]
     },
     "execution_count": 46,
     "metadata": {},
     "output_type": "execute_result"
    }
   ],
   "source": [
    "ages + ages"
   ]
  },
  {
   "cell_type": "code",
   "execution_count": 48,
   "id": "e8f4f2b5-e274-4cfe-924e-9dfb25c3f6d3",
   "metadata": {},
   "outputs": [
    {
     "data": {
      "text/plain": [
       "0    1369\n",
       "1    3721\n",
       "2    8100\n",
       "3    4356\n",
       "4    3136\n",
       "5    2025\n",
       "6    1681\n",
       "7    5929\n",
       "Name: Age, dtype: int64"
      ]
     },
     "execution_count": 48,
     "metadata": {},
     "output_type": "execute_result"
    }
   ],
   "source": [
    "ages * ages"
   ]
  },
  {
   "cell_type": "code",
   "execution_count": 49,
   "id": "408cba0b-af4d-48e9-8fca-492afe469f17",
   "metadata": {},
   "outputs": [
    {
     "data": {
      "text/plain": [
       "0    137\n",
       "1    161\n",
       "2    190\n",
       "3    166\n",
       "4    156\n",
       "5    145\n",
       "6    141\n",
       "7    177\n",
       "Name: Age, dtype: int64"
      ]
     },
     "execution_count": 49,
     "metadata": {},
     "output_type": "execute_result"
    }
   ],
   "source": [
    "ages + 100"
   ]
  },
  {
   "cell_type": "code",
   "execution_count": 50,
   "id": "111568df-e56e-486e-be56-6e8ea217fcad",
   "metadata": {},
   "outputs": [
    {
     "data": {
      "text/plain": [
       "0     74\n",
       "1    122\n",
       "2    180\n",
       "3    132\n",
       "4    112\n",
       "5     90\n",
       "6     82\n",
       "7    154\n",
       "Name: Age, dtype: int64"
      ]
     },
     "execution_count": 50,
     "metadata": {},
     "output_type": "execute_result"
    }
   ],
   "source": [
    "ages*2"
   ]
  },
  {
   "cell_type": "code",
   "execution_count": 51,
   "id": "ee6648d0-fd4c-440f-9c02-f3658cc99000",
   "metadata": {},
   "outputs": [],
   "source": [
    "import numpy as np"
   ]
  },
  {
   "cell_type": "markdown",
   "id": "845dfc5f-fe52-47de-ab37-c7fa70f405e5",
   "metadata": {},
   "source": [
    "판다스의 데이터는 자동으로 정렬됨"
   ]
  },
  {
   "cell_type": "code",
   "execution_count": 58,
   "id": "efdf3ec0-cc48-43c0-888d-e2644665c81d",
   "metadata": {},
   "outputs": [
    {
     "name": "stdout",
     "output_type": "stream",
     "text": [
      "7    77\n",
      "6    41\n",
      "5    45\n",
      "4    56\n",
      "3    66\n",
      "2    90\n",
      "1    61\n",
      "0    37\n",
      "Name: Age, dtype: int64\n"
     ]
    }
   ],
   "source": [
    "rev_ages = ages.sort_index(ascending = False)  #내림차순 정렬\n",
    "print(rev_ages)"
   ]
  },
  {
   "cell_type": "code",
   "execution_count": 59,
   "id": "c994dd00-7415-4326-ae3b-69b64a81a076",
   "metadata": {},
   "outputs": [
    {
     "name": "stdout",
     "output_type": "stream",
     "text": [
      "0     74\n",
      "1    122\n",
      "2    180\n",
      "3    132\n",
      "4    112\n",
      "5     90\n",
      "6     82\n",
      "7    154\n",
      "Name: Age, dtype: int64\n"
     ]
    }
   ],
   "source": [
    "print(ages + rev_ages) # 행 순서대로 더해진게 아니고 인덱스 기준으로 더해짐 !!"
   ]
  },
  {
   "cell_type": "markdown",
   "id": "0b9ee1ea-87f1-413f-825d-4b7d58293f75",
   "metadata": {},
   "source": [
    "---\n",
    "- 데이터 프레임의 요소에는 index, column, value가 존재함"
   ]
  },
  {
   "cell_type": "code",
   "execution_count": 60,
   "id": "67961389-91ee-4cd9-ad4b-68cd23d69761",
   "metadata": {},
   "outputs": [
    {
     "data": {
      "text/plain": [
       "RangeIndex(start=0, stop=8, step=1)"
      ]
     },
     "execution_count": 60,
     "metadata": {},
     "output_type": "execute_result"
    }
   ],
   "source": [
    "scientists.index"
   ]
  },
  {
   "cell_type": "code",
   "execution_count": 61,
   "id": "3aa27b2f-2182-4b0e-8cb7-a78c78a50094",
   "metadata": {},
   "outputs": [
    {
     "data": {
      "text/plain": [
       "Index(['Name', 'Born', 'Died', 'Age', 'Occupation'], dtype='object')"
      ]
     },
     "execution_count": 61,
     "metadata": {},
     "output_type": "execute_result"
    }
   ],
   "source": [
    "scientists.columns"
   ]
  },
  {
   "cell_type": "code",
   "execution_count": 62,
   "id": "d16a6746-dd03-4542-b34f-e2265481187e",
   "metadata": {},
   "outputs": [
    {
     "data": {
      "text/plain": [
       "array([['Rosaline Franklin', '1920-07-25', '1958-04-16', 37, 'Chemist'],\n",
       "       ['William Gosset', '1876-06-13', '1937-10-16', 61, 'Statistician'],\n",
       "       ['Florence Nightingale', '1820-05-12', '1910-08-13', 90, 'Nurse'],\n",
       "       ['Marie Curie', '1867-11-07', '1934-07-04', 66, 'Chemist'],\n",
       "       ['Rachel Carson', '1907-05-27', '1964-04-14', 56, 'Biologist'],\n",
       "       ['John Snow', '1813-03-15', '1858-06-16', 45, 'Physician'],\n",
       "       ['Alan Turing', '1912-06-23', '1954-06-07', 41,\n",
       "        'Computer Scientist'],\n",
       "       ['Johann Gauss', '1777-04-30', '1855-02-23', 77, 'Mathematician']],\n",
       "      dtype=object)"
      ]
     },
     "execution_count": 62,
     "metadata": {},
     "output_type": "execute_result"
    }
   ],
   "source": [
    "scientists.values"
   ]
  },
  {
   "cell_type": "markdown",
   "id": "dc071c2f-348b-4319-88f5-17023fbeb133",
   "metadata": {},
   "source": [
    "데이터프레임과 불리언 추출"
   ]
  },
  {
   "cell_type": "code",
   "execution_count": 63,
   "id": "4862a589-eac4-4fb8-823a-7946f5869234",
   "metadata": {},
   "outputs": [
    {
     "name": "stdout",
     "output_type": "stream",
     "text": [
      "                   Name        Born        Died  Age     Occupation\n",
      "1        William Gosset  1876-06-13  1937-10-16   61   Statistician\n",
      "2  Florence Nightingale  1820-05-12  1910-08-13   90          Nurse\n",
      "3           Marie Curie  1867-11-07  1934-07-04   66        Chemist\n",
      "7          Johann Gauss  1777-04-30  1855-02-23   77  Mathematician\n"
     ]
    }
   ],
   "source": [
    "print(scientists.loc[scientists[\"Age\"]> scientists[\"Age\"].mean()])"
   ]
  },
  {
   "cell_type": "code",
   "execution_count": 64,
   "id": "d52318cd-ec67-4061-ac3d-d24cca108436",
   "metadata": {},
   "outputs": [],
   "source": [
    "df = pd.read_csv('codes/data/gapminder.tsv', sep='\\t')"
   ]
  },
  {
   "cell_type": "code",
   "execution_count": 66,
   "id": "e2bc3ecd-5e2c-449d-ad40-eed99cebdc7e",
   "metadata": {},
   "outputs": [
    {
     "data": {
      "text/html": [
       "<div>\n",
       "<style scoped>\n",
       "    .dataframe tbody tr th:only-of-type {\n",
       "        vertical-align: middle;\n",
       "    }\n",
       "\n",
       "    .dataframe tbody tr th {\n",
       "        vertical-align: top;\n",
       "    }\n",
       "\n",
       "    .dataframe thead th {\n",
       "        text-align: right;\n",
       "    }\n",
       "</style>\n",
       "<table border=\"1\" class=\"dataframe\">\n",
       "  <thead>\n",
       "    <tr style=\"text-align: right;\">\n",
       "      <th></th>\n",
       "      <th>country</th>\n",
       "      <th>continent</th>\n",
       "      <th>year</th>\n",
       "      <th>lifeExp</th>\n",
       "      <th>pop</th>\n",
       "      <th>gdpPercap</th>\n",
       "    </tr>\n",
       "  </thead>\n",
       "  <tbody>\n",
       "    <tr>\n",
       "      <th>5</th>\n",
       "      <td>Afghanistan</td>\n",
       "      <td>Asia</td>\n",
       "      <td>1977</td>\n",
       "      <td>38.438</td>\n",
       "      <td>14880372</td>\n",
       "      <td>786.113360</td>\n",
       "    </tr>\n",
       "    <tr>\n",
       "      <th>7</th>\n",
       "      <td>Afghanistan</td>\n",
       "      <td>Asia</td>\n",
       "      <td>1987</td>\n",
       "      <td>40.822</td>\n",
       "      <td>13867957</td>\n",
       "      <td>852.395945</td>\n",
       "    </tr>\n",
       "    <tr>\n",
       "      <th>9</th>\n",
       "      <td>Afghanistan</td>\n",
       "      <td>Asia</td>\n",
       "      <td>1997</td>\n",
       "      <td>41.763</td>\n",
       "      <td>22227415</td>\n",
       "      <td>635.341351</td>\n",
       "    </tr>\n",
       "    <tr>\n",
       "      <th>11</th>\n",
       "      <td>Afghanistan</td>\n",
       "      <td>Asia</td>\n",
       "      <td>2007</td>\n",
       "      <td>43.828</td>\n",
       "      <td>31889923</td>\n",
       "      <td>974.580338</td>\n",
       "    </tr>\n",
       "    <tr>\n",
       "      <th>13</th>\n",
       "      <td>Albania</td>\n",
       "      <td>Europe</td>\n",
       "      <td>1957</td>\n",
       "      <td>59.280</td>\n",
       "      <td>1476505</td>\n",
       "      <td>1942.284244</td>\n",
       "    </tr>\n",
       "    <tr>\n",
       "      <th>15</th>\n",
       "      <td>Albania</td>\n",
       "      <td>Europe</td>\n",
       "      <td>1967</td>\n",
       "      <td>66.220</td>\n",
       "      <td>1984060</td>\n",
       "      <td>2760.196931</td>\n",
       "    </tr>\n",
       "    <tr>\n",
       "      <th>17</th>\n",
       "      <td>Albania</td>\n",
       "      <td>Europe</td>\n",
       "      <td>1977</td>\n",
       "      <td>68.930</td>\n",
       "      <td>2509048</td>\n",
       "      <td>3533.003910</td>\n",
       "    </tr>\n",
       "    <tr>\n",
       "      <th>19</th>\n",
       "      <td>Albania</td>\n",
       "      <td>Europe</td>\n",
       "      <td>1987</td>\n",
       "      <td>72.000</td>\n",
       "      <td>3075321</td>\n",
       "      <td>3738.932735</td>\n",
       "    </tr>\n",
       "  </tbody>\n",
       "</table>\n",
       "</div>"
      ],
      "text/plain": [
       "        country continent  year  lifeExp       pop    gdpPercap\n",
       "5   Afghanistan      Asia  1977   38.438  14880372   786.113360\n",
       "7   Afghanistan      Asia  1987   40.822  13867957   852.395945\n",
       "9   Afghanistan      Asia  1997   41.763  22227415   635.341351\n",
       "11  Afghanistan      Asia  2007   43.828  31889923   974.580338\n",
       "13      Albania    Europe  1957   59.280   1476505  1942.284244\n",
       "15      Albania    Europe  1967   66.220   1984060  2760.196931\n",
       "17      Albania    Europe  1977   68.930   2509048  3533.003910\n",
       "19      Albania    Europe  1987   72.000   3075321  3738.932735"
      ]
     },
     "execution_count": 66,
     "metadata": {},
     "output_type": "execute_result"
    }
   ],
   "source": [
    "df[5:20:2] #슬라이싱"
   ]
  },
  {
   "cell_type": "code",
   "execution_count": 72,
   "id": "b1a0ff1d-3355-4646-b916-5f2dfaba1fb1",
   "metadata": {},
   "outputs": [
    {
     "name": "stdout",
     "output_type": "stream",
     "text": [
      "                   Name        Born        Died  Age    Occupation\n",
      "0     Rosaline Franklin  1920-07-25  1958-04-16   37       Chemist\n",
      "1        William Gosset  1876-06-13  1937-10-16   61  Statistician\n",
      "2  Florence Nightingale  1820-05-12  1910-08-13   90         Nurse\n",
      "3           Marie Curie  1867-11-07  1934-07-04   66       Chemist\n",
      "----------------------------------------------------------------------------------------------------\n",
      "            Name        Born        Died  Age          Occupation\n",
      "4  Rachel Carson  1907-05-27  1964-04-14   56           Biologist\n",
      "5      John Snow  1813-03-15  1858-06-16   45           Physician\n",
      "6    Alan Turing  1912-06-23  1954-06-07   41  Computer Scientist\n",
      "7   Johann Gauss  1777-04-30  1855-02-23   77       Mathematician\n"
     ]
    }
   ],
   "source": [
    "first_half = scientists[:4]\n",
    "second_half = scientists[4:]\n",
    "\n",
    "print(first_half)\n",
    "print(\"-\" * 100)\n",
    "print(second_half)"
   ]
  },
  {
   "cell_type": "code",
   "execution_count": 70,
   "id": "2f717f4b-5c02-44a1-aecc-7de402749493",
   "metadata": {},
   "outputs": [
    {
     "name": "stdout",
     "output_type": "stream",
     "text": [
      "                                       Name                  Born  \\\n",
      "0        Rosaline FranklinRosaline Franklin  1920-07-251920-07-25   \n",
      "1              William GossetWilliam Gosset  1876-06-131876-06-13   \n",
      "2  Florence NightingaleFlorence Nightingale  1820-05-121820-05-12   \n",
      "3                    Marie CurieMarie Curie  1867-11-071867-11-07   \n",
      "4                Rachel CarsonRachel Carson  1907-05-271907-05-27   \n",
      "5                        John SnowJohn Snow  1813-03-151813-03-15   \n",
      "6                    Alan TuringAlan Turing  1912-06-231912-06-23   \n",
      "7                  Johann GaussJohann Gauss  1777-04-301777-04-30   \n",
      "\n",
      "                   Died  Age                            Occupation  \n",
      "0  1958-04-161958-04-16   74                        ChemistChemist  \n",
      "1  1937-10-161937-10-16  122              StatisticianStatistician  \n",
      "2  1910-08-131910-08-13  180                            NurseNurse  \n",
      "3  1934-07-041934-07-04  132                        ChemistChemist  \n",
      "4  1964-04-141964-04-14  112                    BiologistBiologist  \n",
      "5  1858-06-161858-06-16   90                    PhysicianPhysician  \n",
      "6  1954-06-071954-06-07   82  Computer ScientistComputer Scientist  \n",
      "7  1855-02-231855-02-23  154            MathematicianMathematician  \n"
     ]
    }
   ],
   "source": [
    "print(scientists * 2) #문자열의 경우 두번 출력, int형의 경우 곱하기 연산\n"
   ]
  },
  {
   "cell_type": "code",
   "execution_count": 80,
   "id": "dfef1eb6-cbbf-4b11-b8b9-e38292302595",
   "metadata": {},
   "outputs": [
    {
     "data": {
      "text/html": [
       "<div>\n",
       "<style scoped>\n",
       "    .dataframe tbody tr th:only-of-type {\n",
       "        vertical-align: middle;\n",
       "    }\n",
       "\n",
       "    .dataframe tbody tr th {\n",
       "        vertical-align: top;\n",
       "    }\n",
       "\n",
       "    .dataframe thead th {\n",
       "        text-align: right;\n",
       "    }\n",
       "</style>\n",
       "<table border=\"1\" class=\"dataframe\">\n",
       "  <thead>\n",
       "    <tr style=\"text-align: right;\">\n",
       "      <th></th>\n",
       "      <th>0</th>\n",
       "      <th>1</th>\n",
       "      <th>2</th>\n",
       "    </tr>\n",
       "  </thead>\n",
       "  <tbody>\n",
       "    <tr>\n",
       "      <th>0</th>\n",
       "      <td>1</td>\n",
       "      <td>2</td>\n",
       "      <td>3</td>\n",
       "    </tr>\n",
       "    <tr>\n",
       "      <th>1</th>\n",
       "      <td>4</td>\n",
       "      <td>5</td>\n",
       "      <td>6</td>\n",
       "    </tr>\n",
       "    <tr>\n",
       "      <th>2</th>\n",
       "      <td>7</td>\n",
       "      <td>8</td>\n",
       "      <td>9</td>\n",
       "    </tr>\n",
       "  </tbody>\n",
       "</table>\n",
       "</div>"
      ],
      "text/plain": [
       "   0  1  2\n",
       "0  1  2  3\n",
       "1  4  5  6\n",
       "2  7  8  9"
      ]
     },
     "execution_count": 80,
     "metadata": {},
     "output_type": "execute_result"
    }
   ],
   "source": [
    "df1 = df2 = pd.DataFrame(data = [[1,2,3], [4,5,6], [7,8,9]]) # 3행 3열\n",
    "df1"
   ]
  },
  {
   "cell_type": "code",
   "execution_count": 81,
   "id": "6d50b672-3e78-42e7-ac5f-ccef1fc1862e",
   "metadata": {},
   "outputs": [
    {
     "data": {
      "text/html": [
       "<div>\n",
       "<style scoped>\n",
       "    .dataframe tbody tr th:only-of-type {\n",
       "        vertical-align: middle;\n",
       "    }\n",
       "\n",
       "    .dataframe tbody tr th {\n",
       "        vertical-align: top;\n",
       "    }\n",
       "\n",
       "    .dataframe thead th {\n",
       "        text-align: right;\n",
       "    }\n",
       "</style>\n",
       "<table border=\"1\" class=\"dataframe\">\n",
       "  <thead>\n",
       "    <tr style=\"text-align: right;\">\n",
       "      <th></th>\n",
       "      <th>0</th>\n",
       "      <th>1</th>\n",
       "      <th>2</th>\n",
       "    </tr>\n",
       "  </thead>\n",
       "  <tbody>\n",
       "    <tr>\n",
       "      <th>0</th>\n",
       "      <td>2</td>\n",
       "      <td>4</td>\n",
       "      <td>6</td>\n",
       "    </tr>\n",
       "    <tr>\n",
       "      <th>1</th>\n",
       "      <td>8</td>\n",
       "      <td>10</td>\n",
       "      <td>12</td>\n",
       "    </tr>\n",
       "    <tr>\n",
       "      <th>2</th>\n",
       "      <td>14</td>\n",
       "      <td>16</td>\n",
       "      <td>18</td>\n",
       "    </tr>\n",
       "  </tbody>\n",
       "</table>\n",
       "</div>"
      ],
      "text/plain": [
       "    0   1   2\n",
       "0   2   4   6\n",
       "1   8  10  12\n",
       "2  14  16  18"
      ]
     },
     "execution_count": 81,
     "metadata": {},
     "output_type": "execute_result"
    }
   ],
   "source": [
    "df_added = df1.add(df2) #행렬의 구조가 같으니 더하기가 가능함\n",
    "df_added"
   ]
  },
  {
   "cell_type": "code",
   "execution_count": 83,
   "id": "b54155c4-1458-426b-8bda-8a960d790b78",
   "metadata": {},
   "outputs": [
    {
     "data": {
      "text/html": [
       "<div>\n",
       "<style scoped>\n",
       "    .dataframe tbody tr th:only-of-type {\n",
       "        vertical-align: middle;\n",
       "    }\n",
       "\n",
       "    .dataframe tbody tr th {\n",
       "        vertical-align: top;\n",
       "    }\n",
       "\n",
       "    .dataframe thead th {\n",
       "        text-align: right;\n",
       "    }\n",
       "</style>\n",
       "<table border=\"1\" class=\"dataframe\">\n",
       "  <thead>\n",
       "    <tr style=\"text-align: right;\">\n",
       "      <th></th>\n",
       "      <th>0</th>\n",
       "      <th>1</th>\n",
       "      <th>2</th>\n",
       "    </tr>\n",
       "  </thead>\n",
       "  <tbody>\n",
       "    <tr>\n",
       "      <th>0</th>\n",
       "      <td>0</td>\n",
       "      <td>0</td>\n",
       "      <td>0</td>\n",
       "    </tr>\n",
       "    <tr>\n",
       "      <th>1</th>\n",
       "      <td>0</td>\n",
       "      <td>0</td>\n",
       "      <td>0</td>\n",
       "    </tr>\n",
       "    <tr>\n",
       "      <th>2</th>\n",
       "      <td>0</td>\n",
       "      <td>0</td>\n",
       "      <td>0</td>\n",
       "    </tr>\n",
       "  </tbody>\n",
       "</table>\n",
       "</div>"
      ],
      "text/plain": [
       "   0  1  2\n",
       "0  0  0  0\n",
       "1  0  0  0\n",
       "2  0  0  0"
      ]
     },
     "execution_count": 83,
     "metadata": {},
     "output_type": "execute_result"
    }
   ],
   "source": [
    "df_sub = df1.sub(df2)\n",
    "df_sub"
   ]
  },
  {
   "cell_type": "markdown",
   "id": "327007e1-8e70-4d76-bd80-4b7f0a7f1fad",
   "metadata": {},
   "source": [
    "---\n",
    "시리즈와 데이터프레임 데이터 변환하기"
   ]
  },
  {
   "cell_type": "code",
   "execution_count": 84,
   "id": "3591a3d7-bdfe-491c-b3bf-9d6bd65cc1cc",
   "metadata": {},
   "outputs": [
    {
     "data": {
      "text/plain": [
       "Name          object\n",
       "Born          object\n",
       "Died          object\n",
       "Age            int64\n",
       "Occupation    object\n",
       "dtype: object"
      ]
     },
     "execution_count": 84,
     "metadata": {},
     "output_type": "execute_result"
    }
   ],
   "source": [
    "scientists.dtypes"
   ]
  },
  {
   "cell_type": "code",
   "execution_count": 88,
   "id": "10ff803d-9c23-4e5f-b6c0-9160f9e2e6c8",
   "metadata": {},
   "outputs": [
    {
     "name": "stdout",
     "output_type": "stream",
     "text": [
      "0   1920-07-25\n",
      "1   1876-06-13\n",
      "2   1820-05-12\n",
      "3   1867-11-07\n",
      "4   1907-05-27\n",
      "5   1813-03-15\n",
      "6   1912-06-23\n",
      "7   1777-04-30\n",
      "Name: Born, dtype: datetime64[ns]\n"
     ]
    }
   ],
   "source": [
    "born_datetime = pd.to_datetime(scientists[\"Born\"], format = \"%Y-%m-%d\")\n",
    "print(born_datetime)"
   ]
  },
  {
   "cell_type": "code",
   "execution_count": 90,
   "id": "ea3ef9eb-6a8e-4350-9a1f-762f494ffd3c",
   "metadata": {},
   "outputs": [
    {
     "name": "stdout",
     "output_type": "stream",
     "text": [
      "0   1958-04-16\n",
      "1   1937-10-16\n",
      "2   1910-08-13\n",
      "3   1934-07-04\n",
      "4   1964-04-14\n",
      "5   1858-06-16\n",
      "6   1954-06-07\n",
      "7   1855-02-23\n",
      "Name: Died, dtype: datetime64[ns]\n"
     ]
    }
   ],
   "source": [
    "died_datetime = pd.to_datetime(scientists[\"Died\"], format = \"%Y-%m-%d\")\n",
    "print(died_datetime)"
   ]
  },
  {
   "cell_type": "code",
   "execution_count": 100,
   "id": "3418ae4a-9f8d-45ac-aef7-c87ef264bf66",
   "metadata": {},
   "outputs": [],
   "source": [
    "scientists[\"born_dt\"], scientists[\"died_dt\"] =born_datetime, died_datetime"
   ]
  },
  {
   "cell_type": "code",
   "execution_count": 137,
   "id": "412b37c4-1755-427e-b491-1276d27512dd",
   "metadata": {},
   "outputs": [
    {
     "name": "stdout",
     "output_type": "stream",
     "text": [
      "                   Name        Born        Died  Age    Occupation    born_dt  \\\n",
      "0     Rosaline Franklin  1920-07-25  1958-04-16   61       Chemist 1920-07-25   \n",
      "1        William Gosset  1876-06-13  1937-10-16   45  Statistician 1876-06-13   \n",
      "2  Florence Nightingale  1820-05-12  1910-08-13   37         Nurse 1820-05-12   \n",
      "3           Marie Curie  1867-11-07  1934-07-04   77       Chemist 1867-11-07   \n",
      "4         Rachel Carson  1907-05-27  1964-04-14   90     Biologist 1907-05-27   \n",
      "\n",
      "     died_dt   age_days                  age_years age_days_assign  \\\n",
      "0 1958-04-16 13779 days 37 days 18:00:59.178082191      13779 days   \n",
      "1 1937-10-16 22404 days 61 days 09:08:23.013698630      22404 days   \n",
      "2 1910-08-13 32964 days 90 days 07:29:45.205479452      32964 days   \n",
      "3 1934-07-04 24345 days 66 days 16:46:01.643835616      24345 days   \n",
      "4 1964-04-14 20777 days 56 days 22:09:32.054794520      20777 days   \n",
      "\n",
      "   age_year_assign  \n",
      "0             37.0  \n",
      "1             61.0  \n",
      "2             90.0  \n",
      "3             66.0  \n",
      "4             56.0  \n"
     ]
    }
   ],
   "source": [
    "print(scientists.head())"
   ]
  },
  {
   "cell_type": "code",
   "execution_count": 138,
   "id": "dac7fe36-a56d-44fe-9cb9-2452f9815807",
   "metadata": {},
   "outputs": [
    {
     "name": "stdout",
     "output_type": "stream",
     "text": [
      "(8, 11)\n"
     ]
    }
   ],
   "source": [
    "print(scientists.shape)"
   ]
  },
  {
   "cell_type": "code",
   "execution_count": 139,
   "id": "0887ae9a-7751-442d-8930-8d0575068e23",
   "metadata": {},
   "outputs": [
    {
     "name": "stdout",
     "output_type": "stream",
     "text": [
      "Name                        object\n",
      "Born                        object\n",
      "Died                        object\n",
      "Age                          int64\n",
      "Occupation                  object\n",
      "born_dt             datetime64[ns]\n",
      "died_dt             datetime64[ns]\n",
      "age_days           timedelta64[ns]\n",
      "age_years          timedelta64[ns]\n",
      "age_days_assign    timedelta64[ns]\n",
      "age_year_assign            float64\n",
      "dtype: object\n"
     ]
    }
   ],
   "source": [
    "print(scientists.dtypes)"
   ]
  },
  {
   "cell_type": "markdown",
   "id": "b30a789b-6550-48a2-b978-9a3383161e5b",
   "metadata": {},
   "source": [
    "---\n",
    "열 내용 변환하기"
   ]
  },
  {
   "cell_type": "code",
   "execution_count": 93,
   "id": "5e34e8c9-0b0c-4c7f-b1a8-824d5ee55024",
   "metadata": {},
   "outputs": [
    {
     "name": "stdout",
     "output_type": "stream",
     "text": [
      "0    37\n",
      "1    61\n",
      "2    90\n",
      "3    66\n",
      "4    56\n",
      "5    45\n",
      "6    41\n",
      "7    77\n",
      "Name: Age, dtype: int64\n"
     ]
    }
   ],
   "source": [
    "print(scientists[\"Age\"])"
   ]
  },
  {
   "cell_type": "code",
   "execution_count": 141,
   "id": "9bb84ab5-b454-4d0d-a7fe-927d772d92bd",
   "metadata": {},
   "outputs": [
    {
     "name": "stdout",
     "output_type": "stream",
     "text": [
      "1    45\n",
      "5    56\n",
      "0    61\n",
      "7    41\n",
      "2    37\n",
      "4    90\n",
      "3    77\n",
      "6    66\n",
      "Name: Age, dtype: int64\n"
     ]
    }
   ],
   "source": [
    "#열 내용 무작위로 섞기\n",
    "print(scientists[\"Age\"].sample(frac = 1, random_state = 42)) \n",
    " #sample : 무작위로 시리즈의 값을 추출, 100% 전체 값을 추출한다는 의미로 1 입력\n",
    "    # random_state 는 컴퓨터가 생성하는 난수의 기준값을 정하는 역할"
   ]
  },
  {
   "cell_type": "code",
   "execution_count": 96,
   "id": "55c53fff-b44d-43e6-9fb8-ac532bdf33b6",
   "metadata": {},
   "outputs": [
    {
     "name": "stdout",
     "output_type": "stream",
     "text": [
      "0    37\n",
      "1    61\n",
      "2    90\n",
      "3    66\n",
      "4    56\n",
      "5    45\n",
      "6    41\n",
      "7    77\n",
      "Name: Age, dtype: int64\n"
     ]
    }
   ],
   "source": [
    "scientists[\"Age\"] = scientists[\"Age\"].sample(frac = 1, random_state = 42)\n",
    "print(scientists[\"Age\"])"
   ]
  },
  {
   "cell_type": "code",
   "execution_count": 97,
   "id": "6ea8d8c5-f297-4397-83d1-e16f3a2c4a51",
   "metadata": {},
   "outputs": [
    {
     "name": "stdout",
     "output_type": "stream",
     "text": [
      "0    61\n",
      "1    45\n",
      "2    37\n",
      "3    77\n",
      "4    90\n",
      "5    56\n",
      "6    66\n",
      "7    41\n",
      "Name: Age, dtype: int64\n"
     ]
    }
   ],
   "source": [
    "scientists[\"Age\"] = scientists[\"Age\"].sample(frac = 1, random_state = 42).values\n",
    "print(scientists[\"Age\"])"
   ]
  },
  {
   "cell_type": "code",
   "execution_count": 101,
   "id": "b912dac4-40c7-4d4d-8784-82b3110976d9",
   "metadata": {},
   "outputs": [],
   "source": [
    "scientists[\"age_days\"] = scientists[\"died_dt\"] - scientists[\"born_dt\"]"
   ]
  },
  {
   "cell_type": "code",
   "execution_count": 104,
   "id": "344e90e9-9d50-4bd3-b74d-dc7610c9f13a",
   "metadata": {},
   "outputs": [],
   "source": [
    "scientists[\"age_years\"]  = scientists[\"age_days\"] /365"
   ]
  },
  {
   "cell_type": "markdown",
   "id": "b4c7568d-3788-4451-832a-584fe2604730",
   "metadata": {},
   "source": [
    "---\n",
    "assign()으로 열 수정하기"
   ]
  },
  {
   "cell_type": "code",
   "execution_count": 142,
   "id": "c8c44c30-c515-4c69-9dfb-d58b902fb357",
   "metadata": {},
   "outputs": [
    {
     "name": "stdout",
     "output_type": "stream",
     "text": [
      "                   Name        Born        Died  Age          Occupation  \\\n",
      "0     Rosaline Franklin  1920-07-25  1958-04-16   61             Chemist   \n",
      "1        William Gosset  1876-06-13  1937-10-16   45        Statistician   \n",
      "2  Florence Nightingale  1820-05-12  1910-08-13   37               Nurse   \n",
      "3           Marie Curie  1867-11-07  1934-07-04   77             Chemist   \n",
      "4         Rachel Carson  1907-05-27  1964-04-14   90           Biologist   \n",
      "5             John Snow  1813-03-15  1858-06-16   56           Physician   \n",
      "6           Alan Turing  1912-06-23  1954-06-07   66  Computer Scientist   \n",
      "7          Johann Gauss  1777-04-30  1855-02-23   41       Mathematician   \n",
      "\n",
      "     born_dt    died_dt   age_days                  age_years age_days_assign  \\\n",
      "0 1920-07-25 1958-04-16 13779 days 37 days 18:00:59.178082191      13779 days   \n",
      "1 1876-06-13 1937-10-16 22404 days 61 days 09:08:23.013698630      22404 days   \n",
      "2 1820-05-12 1910-08-13 32964 days 90 days 07:29:45.205479452      32964 days   \n",
      "3 1867-11-07 1934-07-04 24345 days 66 days 16:46:01.643835616      24345 days   \n",
      "4 1907-05-27 1964-04-14 20777 days 56 days 22:09:32.054794520      20777 days   \n",
      "5 1813-03-15 1858-06-16 16529 days 45 days 06:50:18.082191780      16529 days   \n",
      "6 1912-06-23 1954-06-07 15324 days 41 days 23:36:19.726027397      15324 days   \n",
      "7 1777-04-30 1855-02-23 28422 days 77 days 20:50:37.808219178      28422 days   \n",
      "\n",
      "   age_year_assign  \n",
      "0             37.0  \n",
      "1             61.0  \n",
      "2             90.0  \n",
      "3             66.0  \n",
      "4             56.0  \n",
      "5             45.0  \n",
      "6             41.0  \n",
      "7             77.0  \n"
     ]
    }
   ],
   "source": [
    "scientists = scientists.assign(\n",
    "    age_days_assign = scientists[\"died_dt\"] - scientists[\"born_dt\"],\n",
    "    age_year_assign =  (scientists[\"age_days\"].dt.days / 365).apply(np.floor)  \n",
    ")         #날짜 수를 햇수로 변환\n",
    "print(scientists)"
   ]
  },
  {
   "cell_type": "code",
   "execution_count": 111,
   "id": "0093504c-f788-4d85-b31b-d633f623b9e5",
   "metadata": {},
   "outputs": [
    {
     "name": "stdout",
     "output_type": "stream",
     "text": [
      "                   Name        Born        Died  Age          Occupation  \\\n",
      "0     Rosaline Franklin  1920-07-25  1958-04-16   61             Chemist   \n",
      "1        William Gosset  1876-06-13  1937-10-16   45        Statistician   \n",
      "2  Florence Nightingale  1820-05-12  1910-08-13   37               Nurse   \n",
      "3           Marie Curie  1867-11-07  1934-07-04   77             Chemist   \n",
      "4         Rachel Carson  1907-05-27  1964-04-14   90           Biologist   \n",
      "5             John Snow  1813-03-15  1858-06-16   56           Physician   \n",
      "6           Alan Turing  1912-06-23  1954-06-07   66  Computer Scientist   \n",
      "7          Johann Gauss  1777-04-30  1855-02-23   41       Mathematician   \n",
      "\n",
      "     born_dt    died_dt   age_days                  age_years age_days_assign  \\\n",
      "0 1920-07-25 1958-04-16 13779 days 37 days 18:00:59.178082191      13779 days   \n",
      "1 1876-06-13 1937-10-16 22404 days 61 days 09:08:23.013698630      22404 days   \n",
      "2 1820-05-12 1910-08-13 32964 days 90 days 07:29:45.205479452      32964 days   \n",
      "3 1867-11-07 1934-07-04 24345 days 66 days 16:46:01.643835616      24345 days   \n",
      "4 1907-05-27 1964-04-14 20777 days 56 days 22:09:32.054794520      20777 days   \n",
      "5 1813-03-15 1858-06-16 16529 days 45 days 06:50:18.082191780      16529 days   \n",
      "6 1912-06-23 1954-06-07 15324 days 41 days 23:36:19.726027397      15324 days   \n",
      "7 1777-04-30 1855-02-23 28422 days 77 days 20:50:37.808219178      28422 days   \n",
      "\n",
      "   age_year_assign  \n",
      "0             37.0  \n",
      "1             61.0  \n",
      "2             90.0  \n",
      "3             66.0  \n",
      "4             56.0  \n",
      "5             45.0  \n",
      "6             41.0  \n",
      "7             77.0  \n"
     ]
    }
   ],
   "source": [
    "# 같은 결과 lambda 활용하기\n",
    "\n",
    "scientists = scientists.assign(\n",
    "    age_days_assign = scientists[\"died_dt\"] - scientists[\"born_dt\"],\n",
    "    age_year_assign = lambda df_: (df_[\"age_days_assign\"].dt.days / 365).apply(np.floor)  \n",
    ")         #날짜 수를 햇수로 변환\n",
    "print(scientists)"
   ]
  },
  {
   "cell_type": "markdown",
   "id": "f9a9181a-cab8-4ebb-91d8-b69fdcd25670",
   "metadata": {},
   "source": [
    "---\n",
    "열 삭제하기"
   ]
  },
  {
   "cell_type": "code",
   "execution_count": 112,
   "id": "8e341fde-8412-4813-a832-12ba875795f3",
   "metadata": {},
   "outputs": [
    {
     "name": "stdout",
     "output_type": "stream",
     "text": [
      "Index(['Name', 'Born', 'Died', 'Age', 'Occupation', 'born_dt', 'died_dt',\n",
      "       'age_days', 'age_years', 'age_days_assign', 'age_year_assign'],\n",
      "      dtype='object')\n"
     ]
    }
   ],
   "source": [
    "print(scientists.columns)"
   ]
  },
  {
   "cell_type": "code",
   "execution_count": 113,
   "id": "95f44d8a-642f-4d81-82ed-a1583cba4aa2",
   "metadata": {},
   "outputs": [],
   "source": [
    "scientists_dropped = scientists.drop([\"Age\"], axis = \"columns\")"
   ]
  },
  {
   "cell_type": "code",
   "execution_count": 114,
   "id": "42f1a626-9f17-47d9-8bd4-28d990470c6e",
   "metadata": {},
   "outputs": [
    {
     "name": "stdout",
     "output_type": "stream",
     "text": [
      "Index(['Name', 'Born', 'Died', 'Occupation', 'born_dt', 'died_dt', 'age_days',\n",
      "       'age_years', 'age_days_assign', 'age_year_assign'],\n",
      "      dtype='object')\n"
     ]
    }
   ],
   "source": [
    "print(scientists_dropped.columns)"
   ]
  },
  {
   "cell_type": "markdown",
   "id": "a0a8f829-89cc-44c7-ae1f-94544da7611f",
   "metadata": {},
   "source": [
    "---\n",
    "데이터 저장하고 불러오기"
   ]
  },
  {
   "cell_type": "code",
   "execution_count": 115,
   "id": "6c6b68b1-93ce-495a-89b9-b7ebbc3c7878",
   "metadata": {},
   "outputs": [
    {
     "name": "stdout",
     "output_type": "stream",
     "text": [
      "0       Rosaline Franklin\n",
      "1          William Gosset\n",
      "2    Florence Nightingale\n",
      "3             Marie Curie\n",
      "4           Rachel Carson\n",
      "5               John Snow\n",
      "6             Alan Turing\n",
      "7            Johann Gauss\n",
      "Name: Name, dtype: object\n"
     ]
    }
   ],
   "source": [
    "names = scientists[\"Name\"]\n",
    "print(names)"
   ]
  },
  {
   "cell_type": "code",
   "execution_count": 144,
   "id": "1f4ca15c-227f-4854-9813-a7d69c6fcfe5",
   "metadata": {},
   "outputs": [],
   "source": [
    "scientists.to_csv( \"./scientists_df_no_index.csv\", index = False)\n",
    "# 반드시 index = F 로 설정할 것 !! 아니면 중복으로 들어감"
   ]
  },
  {
   "cell_type": "markdown",
   "id": "d222099a-a620-43fe-b7fe-58dc714e9c0e",
   "metadata": {},
   "source": [
    "---\n",
    "엑셀로 저장하기"
   ]
  },
  {
   "cell_type": "code",
   "execution_count": 150,
   "id": "102ab1fb-f641-4161-9394-976b46c36bb3",
   "metadata": {},
   "outputs": [],
   "source": [
    "import openpyxl"
   ]
  },
  {
   "cell_type": "code",
   "execution_count": 153,
   "id": "7134f8a2-c40f-405d-b4ab-cef43d25207a",
   "metadata": {},
   "outputs": [
    {
     "data": {
      "text/plain": [
       "0       Rosaline Franklin\n",
       "1          William Gosset\n",
       "2    Florence Nightingale\n",
       "3             Marie Curie\n",
       "4           Rachel Carson\n",
       "5               John Snow\n",
       "6             Alan Turing\n",
       "7            Johann Gauss\n",
       "Name: Name, dtype: object"
      ]
     },
     "execution_count": 153,
     "metadata": {},
     "output_type": "execute_result"
    }
   ],
   "source": [
    "names = scientists[\"Name\"] #이름 열만 추출\n",
    "names"
   ]
  },
  {
   "cell_type": "code",
   "execution_count": 154,
   "id": "da5b23ee-bd9b-4345-abbd-09721e43e7df",
   "metadata": {},
   "outputs": [],
   "source": [
    "names_df = names.to_frame()  #시리즈를 데이터프레임으로 변환"
   ]
  },
  {
   "cell_type": "code",
   "execution_count": 156,
   "id": "10a31ef8-1ceb-4106-a12e-f6dad7237d50",
   "metadata": {},
   "outputs": [],
   "source": [
    "names_df.to_excel(\"./scientists_names_series_df.xls\", engine = \"openpyxl\") #엑셀 파일로 저장"
   ]
  },
  {
   "cell_type": "code",
   "execution_count": 157,
   "id": "205b2d32-6ec9-49d0-9862-c1c3f9280324",
   "metadata": {},
   "outputs": [],
   "source": [
    "scientists.to_excel(\"./scientists_df.xlsx\",\n",
    "                   sheet_name = \"scientists\",\n",
    "                   index = False)"
   ]
  },
  {
   "cell_type": "markdown",
   "id": "183f35de-ed81-4cd5-be57-af0894889f99",
   "metadata": {},
   "source": [
    "---\n",
    "딕셔너리로 변환하기"
   ]
  },
  {
   "cell_type": "code",
   "execution_count": 159,
   "id": "4f3ee072-071e-4fbf-a54d-db6e9f1efdfb",
   "metadata": {},
   "outputs": [
    {
     "data": {
      "text/html": [
       "<div>\n",
       "<style scoped>\n",
       "    .dataframe tbody tr th:only-of-type {\n",
       "        vertical-align: middle;\n",
       "    }\n",
       "\n",
       "    .dataframe tbody tr th {\n",
       "        vertical-align: top;\n",
       "    }\n",
       "\n",
       "    .dataframe thead th {\n",
       "        text-align: right;\n",
       "    }\n",
       "</style>\n",
       "<table border=\"1\" class=\"dataframe\">\n",
       "  <thead>\n",
       "    <tr style=\"text-align: right;\">\n",
       "      <th></th>\n",
       "      <th>Name</th>\n",
       "      <th>Born</th>\n",
       "      <th>Died</th>\n",
       "      <th>Age</th>\n",
       "      <th>Occupation</th>\n",
       "      <th>born_dt</th>\n",
       "      <th>died_dt</th>\n",
       "      <th>age_days</th>\n",
       "      <th>age_years</th>\n",
       "      <th>age_days_assign</th>\n",
       "      <th>age_year_assign</th>\n",
       "    </tr>\n",
       "  </thead>\n",
       "  <tbody>\n",
       "    <tr>\n",
       "      <th>0</th>\n",
       "      <td>Rosaline Franklin</td>\n",
       "      <td>1920-07-25</td>\n",
       "      <td>1958-04-16</td>\n",
       "      <td>61</td>\n",
       "      <td>Chemist</td>\n",
       "      <td>1920-07-25</td>\n",
       "      <td>1958-04-16</td>\n",
       "      <td>13779 days</td>\n",
       "      <td>37 days 18:00:59.178082191</td>\n",
       "      <td>13779 days</td>\n",
       "      <td>37.0</td>\n",
       "    </tr>\n",
       "    <tr>\n",
       "      <th>1</th>\n",
       "      <td>William Gosset</td>\n",
       "      <td>1876-06-13</td>\n",
       "      <td>1937-10-16</td>\n",
       "      <td>45</td>\n",
       "      <td>Statistician</td>\n",
       "      <td>1876-06-13</td>\n",
       "      <td>1937-10-16</td>\n",
       "      <td>22404 days</td>\n",
       "      <td>61 days 09:08:23.013698630</td>\n",
       "      <td>22404 days</td>\n",
       "      <td>61.0</td>\n",
       "    </tr>\n",
       "  </tbody>\n",
       "</table>\n",
       "</div>"
      ],
      "text/plain": [
       "                Name        Born        Died  Age    Occupation    born_dt  \\\n",
       "0  Rosaline Franklin  1920-07-25  1958-04-16   61       Chemist 1920-07-25   \n",
       "1     William Gosset  1876-06-13  1937-10-16   45  Statistician 1876-06-13   \n",
       "\n",
       "     died_dt   age_days                  age_years age_days_assign  \\\n",
       "0 1958-04-16 13779 days 37 days 18:00:59.178082191      13779 days   \n",
       "1 1937-10-16 22404 days 61 days 09:08:23.013698630      22404 days   \n",
       "\n",
       "   age_year_assign  \n",
       "0             37.0  \n",
       "1             61.0  "
      ]
     },
     "execution_count": 159,
     "metadata": {},
     "output_type": "execute_result"
    }
   ],
   "source": [
    "sci_sub_dict = scientists.head(2)\n",
    "sci_sub_dict"
   ]
  },
  {
   "cell_type": "code",
   "execution_count": 161,
   "id": "f132de5e-fb28-433c-b2cb-3d6772247ca7",
   "metadata": {},
   "outputs": [
    {
     "data": {
      "text/plain": [
       "{'Name': {0: 'Rosaline Franklin', 1: 'William Gosset'},\n",
       " 'Born': {0: '1920-07-25', 1: '1876-06-13'},\n",
       " 'Died': {0: '1958-04-16', 1: '1937-10-16'},\n",
       " 'Age': {0: 61, 1: 45},\n",
       " 'Occupation': {0: 'Chemist', 1: 'Statistician'},\n",
       " 'born_dt': {0: Timestamp('1920-07-25 00:00:00'),\n",
       "  1: Timestamp('1876-06-13 00:00:00')},\n",
       " 'died_dt': {0: Timestamp('1958-04-16 00:00:00'),\n",
       "  1: Timestamp('1937-10-16 00:00:00')},\n",
       " 'age_days': {0: Timedelta('13779 days 00:00:00'),\n",
       "  1: Timedelta('22404 days 00:00:00')},\n",
       " 'age_years': {0: Timedelta('37 days 18:00:59.178082191'),\n",
       "  1: Timedelta('61 days 09:08:23.013698630')},\n",
       " 'age_days_assign': {0: Timedelta('13779 days 00:00:00'),\n",
       "  1: Timedelta('22404 days 00:00:00')},\n",
       " 'age_year_assign': {0: 37.0, 1: 61.0}}"
      ]
     },
     "execution_count": 161,
     "metadata": {},
     "output_type": "execute_result"
    }
   ],
   "source": [
    "sci_dict = sci_sub_dict.to_dict() # 딕셔너리로 변환\n",
    "sci_dict"
   ]
  },
  {
   "cell_type": "code",
   "execution_count": 164,
   "id": "7cf8a2b9-5f85-47f5-a01f-eb4c126c09ca",
   "metadata": {},
   "outputs": [
    {
     "name": "stdout",
     "output_type": "stream",
     "text": [
      "{'Age': {0: 61, 1: 45},\n",
      " 'Born': {0: '1920-07-25', 1: '1876-06-13'},\n",
      " 'Died': {0: '1958-04-16', 1: '1937-10-16'},\n",
      " 'Name': {0: 'Rosaline Franklin', 1: 'William Gosset'},\n",
      " 'Occupation': {0: 'Chemist', 1: 'Statistician'},\n",
      " 'age_days': {0: Timedelta('13779 days 00:00:00'),\n",
      "              1: Timedelta('22404 days 00:00:00')},\n",
      " 'age_days_assign': {0: Timedelta('13779 days 00:00:00'),\n",
      "                     1: Timedelta('22404 days 00:00:00')},\n",
      " 'age_year_assign': {0: 37.0, 1: 61.0},\n",
      " 'age_years': {0: Timedelta('37 days 18:00:59.178082191'),\n",
      "               1: Timedelta('61 days 09:08:23.013698630')},\n",
      " 'born_dt': {0: Timestamp('1920-07-25 00:00:00'),\n",
      "             1: Timestamp('1876-06-13 00:00:00')},\n",
      " 'died_dt': {0: Timestamp('1958-04-16 00:00:00'),\n",
      "             1: Timestamp('1937-10-16 00:00:00')}}\n"
     ]
    }
   ],
   "source": [
    "import pprint   #데이터를 보기 좋은 형식으로 출력해줌\n",
    "pprint.pprint(sci_dict)  "
   ]
  },
  {
   "cell_type": "code",
   "execution_count": 167,
   "id": "b4f44269-c53e-47b1-a046-1b3d5d6ecbb4",
   "metadata": {},
   "outputs": [
    {
     "data": {
      "text/html": [
       "<div>\n",
       "<style scoped>\n",
       "    .dataframe tbody tr th:only-of-type {\n",
       "        vertical-align: middle;\n",
       "    }\n",
       "\n",
       "    .dataframe tbody tr th {\n",
       "        vertical-align: top;\n",
       "    }\n",
       "\n",
       "    .dataframe thead th {\n",
       "        text-align: right;\n",
       "    }\n",
       "</style>\n",
       "<table border=\"1\" class=\"dataframe\">\n",
       "  <thead>\n",
       "    <tr style=\"text-align: right;\">\n",
       "      <th></th>\n",
       "      <th>Name</th>\n",
       "      <th>Born</th>\n",
       "      <th>Died</th>\n",
       "      <th>Age</th>\n",
       "      <th>Occupation</th>\n",
       "      <th>born_dt</th>\n",
       "      <th>died_dt</th>\n",
       "      <th>age_days</th>\n",
       "      <th>age_years</th>\n",
       "      <th>age_days_assign</th>\n",
       "      <th>age_year_assign</th>\n",
       "    </tr>\n",
       "  </thead>\n",
       "  <tbody>\n",
       "    <tr>\n",
       "      <th>0</th>\n",
       "      <td>Rosaline Franklin</td>\n",
       "      <td>1920-07-25</td>\n",
       "      <td>1958-04-16</td>\n",
       "      <td>61</td>\n",
       "      <td>Chemist</td>\n",
       "      <td>1920-07-25</td>\n",
       "      <td>1958-04-16</td>\n",
       "      <td>13779 days</td>\n",
       "      <td>37 days 18:00:59.178082191</td>\n",
       "      <td>13779 days</td>\n",
       "      <td>37.0</td>\n",
       "    </tr>\n",
       "    <tr>\n",
       "      <th>1</th>\n",
       "      <td>William Gosset</td>\n",
       "      <td>1876-06-13</td>\n",
       "      <td>1937-10-16</td>\n",
       "      <td>45</td>\n",
       "      <td>Statistician</td>\n",
       "      <td>1876-06-13</td>\n",
       "      <td>1937-10-16</td>\n",
       "      <td>22404 days</td>\n",
       "      <td>61 days 09:08:23.013698630</td>\n",
       "      <td>22404 days</td>\n",
       "      <td>61.0</td>\n",
       "    </tr>\n",
       "  </tbody>\n",
       "</table>\n",
       "</div>"
      ],
      "text/plain": [
       "                Name        Born        Died  Age    Occupation    born_dt  \\\n",
       "0  Rosaline Franklin  1920-07-25  1958-04-16   61       Chemist 1920-07-25   \n",
       "1     William Gosset  1876-06-13  1937-10-16   45  Statistician 1876-06-13   \n",
       "\n",
       "     died_dt   age_days                  age_years age_days_assign  \\\n",
       "0 1958-04-16 13779 days 37 days 18:00:59.178082191      13779 days   \n",
       "1 1937-10-16 22404 days 61 days 09:08:23.013698630      22404 days   \n",
       "\n",
       "   age_year_assign  \n",
       "0             37.0  \n",
       "1             61.0  "
      ]
     },
     "execution_count": 167,
     "metadata": {},
     "output_type": "execute_result"
    }
   ],
   "source": [
    "sci_dict_df = pd.DataFrame.from_dict(sci_dict)  #딕셔너리는 다시 데이터 프레임으로 변환할 수 있음\n",
    "sci_dict_df"
   ]
  },
  {
   "cell_type": "markdown",
   "id": "538ef3cf-09fc-4a46-b7eb-321f36b1aec4",
   "metadata": {},
   "source": [
    "---\n",
    "JSON으로 변환하기"
   ]
  },
  {
   "cell_type": "code",
   "execution_count": 168,
   "id": "51d3aa89-e60d-4562-8b59-c32623c4acce",
   "metadata": {},
   "outputs": [
    {
     "name": "stdout",
     "output_type": "stream",
     "text": [
      "('[\\n'\n",
      " '  {\\n'\n",
      " '    \"Name\":\"Rosaline Franklin\",\\n'\n",
      " '    \"Born\":\"1920-07-25\",\\n'\n",
      " '    \"Died\":\"1958-04-16\",\\n'\n",
      " '    \"Age\":61,\\n'\n",
      " '    \"Occupation\":\"Chemist\",\\n'\n",
      " '    \"born_dt\":\"1920-07-25T00:00:00.000\",\\n'\n",
      " '    \"died_dt\":\"1958-04-16T00:00:00.000\",\\n'\n",
      " '    \"age_days\":\"P13779DT0H0M0S\",\\n'\n",
      " '    \"age_years\":\"P37DT18H0M59.178082191S\",\\n'\n",
      " '    \"age_days_assign\":\"P13779DT0H0M0S\",\\n'\n",
      " '    \"age_year_assign\":37.0\\n'\n",
      " '  },\\n'\n",
      " '  {\\n'\n",
      " '    \"Name\":\"William Gosset\",\\n'\n",
      " '    \"Born\":\"1876-06-13\",\\n'\n",
      " '    \"Died\":\"1937-10-16\",\\n'\n",
      " '    \"Age\":45,\\n'\n",
      " '    \"Occupation\":\"Statistician\",\\n'\n",
      " '    \"born_dt\":\"1876-06-13T00:00:00.000\",\\n'\n",
      " '    \"died_dt\":\"1937-10-16T00:00:00.000\",\\n'\n",
      " '    \"age_days\":\"P22404DT0H0M0S\",\\n'\n",
      " '    \"age_years\":\"P61DT9H8M23.013698630S\",\\n'\n",
      " '    \"age_days_assign\":\"P22404DT0H0M0S\",\\n'\n",
      " '    \"age_year_assign\":61.0\\n'\n",
      " '  }\\n'\n",
      " ']')\n"
     ]
    }
   ],
   "source": [
    "sci_json = sci_sub_dict.to_json(orient = \"records\", indent=2, date_format = \"iso\")\n",
    "pprint.pprint(sci_json)"
   ]
  },
  {
   "cell_type": "code",
   "execution_count": 172,
   "id": "f40f3621-dff4-451e-992a-5c9d84e7755b",
   "metadata": {},
   "outputs": [
    {
     "name": "stdout",
     "output_type": "stream",
     "text": [
      "                Name        Born        Died  Age    Occupation  \\\n",
      "0  Rosaline Franklin  1920-07-25  1958-04-16   61       Chemist   \n",
      "1     William Gosset  1876-06-13  1937-10-16   45  Statistician   \n",
      "\n",
      "                   born_dt                  died_dt        age_days  \\\n",
      "0  1920-07-25T00:00:00.000  1958-04-16T00:00:00.000  P13779DT0H0M0S   \n",
      "1  1876-06-13T00:00:00.000  1937-10-16T00:00:00.000  P22404DT0H0M0S   \n",
      "\n",
      "                 age_years age_days_assign  age_year_assign  \n",
      "0  P37DT18H0M59.178082191S  P13779DT0H0M0S               37  \n",
      "1   P61DT9H8M23.013698630S  P22404DT0H0M0S               61  \n"
     ]
    },
    {
     "name": "stderr",
     "output_type": "stream",
     "text": [
      "C:\\Users\\asiae\\AppData\\Local\\Temp\\ipykernel_22856\\513666236.py:1: FutureWarning: Passing literal json to 'read_json' is deprecated and will be removed in a future version. To read from a literal string, wrap it in a 'StringIO' object.\n",
      "  sci_json_df = pd.read_json(\n"
     ]
    }
   ],
   "source": [
    "sci_json_df = pd.read_json(\n",
    "    ('[\\n'\n",
    " '  {\\n'\n",
    " '    \"Name\":\"Rosaline Franklin\",\\n'\n",
    " '    \"Born\":\"1920-07-25\",\\n'\n",
    " '    \"Died\":\"1958-04-16\",\\n'\n",
    " '    \"Age\":61,\\n'\n",
    " '    \"Occupation\":\"Chemist\",\\n'\n",
    " '    \"born_dt\":\"1920-07-25T00:00:00.000\",\\n'\n",
    " '    \"died_dt\":\"1958-04-16T00:00:00.000\",\\n'\n",
    " '    \"age_days\":\"P13779DT0H0M0S\",\\n'\n",
    " '    \"age_years\":\"P37DT18H0M59.178082191S\",\\n'\n",
    " '    \"age_days_assign\":\"P13779DT0H0M0S\",\\n'\n",
    " '    \"age_year_assign\":37.0\\n'\n",
    " '  },\\n'\n",
    " '  {\\n'\n",
    " '    \"Name\":\"William Gosset\",\\n'\n",
    " '    \"Born\":\"1876-06-13\",\\n'\n",
    " '    \"Died\":\"1937-10-16\",\\n'\n",
    " '    \"Age\":45,\\n'\n",
    " '    \"Occupation\":\"Statistician\",\\n'\n",
    " '    \"born_dt\":\"1876-06-13T00:00:00.000\",\\n'\n",
    " '    \"died_dt\":\"1937-10-16T00:00:00.000\",\\n'\n",
    " '    \"age_days\":\"P22404DT0H0M0S\",\\n'\n",
    " '    \"age_years\":\"P61DT9H8M23.013698630S\",\\n'\n",
    " '    \"age_days_assign\":\"P22404DT0H0M0S\",\\n'\n",
    " '    \"age_year_assign\":61.0\\n'\n",
    " '  }\\n'\n",
    " ']'), \n",
    "    orient = \"records\")\n",
    "\n",
    "print(sci_json_df)  "
   ]
  },
  {
   "cell_type": "code",
   "execution_count": 174,
   "id": "299df212-e4e2-4bb1-9285-7e1cecf708ac",
   "metadata": {},
   "outputs": [
    {
     "data": {
      "text/plain": [
       "Name               object\n",
       "Born               object\n",
       "Died               object\n",
       "Age                 int64\n",
       "Occupation         object\n",
       "born_dt            object\n",
       "died_dt            object\n",
       "age_days           object\n",
       "age_years          object\n",
       "age_days_assign    object\n",
       "age_year_assign     int64\n",
       "dtype: object"
      ]
     },
     "execution_count": 174,
     "metadata": {},
     "output_type": "execute_result"
    }
   ],
   "source": [
    "sci_json_df.dtypes #날짜와 시간형식이 원본과 달라짐"
   ]
  },
  {
   "cell_type": "code",
   "execution_count": 176,
   "id": "2b561645-5e81-4512-a98d-e6727c70f055",
   "metadata": {},
   "outputs": [
    {
     "name": "stdout",
     "output_type": "stream",
     "text": [
      "                Name        Born        Died  Age    Occupation  \\\n",
      "0  Rosaline Franklin  1920-07-25  1958-04-16   61       Chemist   \n",
      "1     William Gosset  1876-06-13  1937-10-16   45  Statistician   \n",
      "\n",
      "                   born_dt                  died_dt        age_days  \\\n",
      "0  1920-07-25T00:00:00.000  1958-04-16T00:00:00.000  P13779DT0H0M0S   \n",
      "1  1876-06-13T00:00:00.000  1937-10-16T00:00:00.000  P22404DT0H0M0S   \n",
      "\n",
      "                 age_years age_days_assign  age_year_assign died_dt_json  \n",
      "0  P37DT18H0M59.178082191S  P13779DT0H0M0S               37   1958-04-16  \n",
      "1   P61DT9H8M23.013698630S  P22404DT0H0M0S               61   1937-10-16  \n"
     ]
    }
   ],
   "source": [
    "# 날짜 데이터 타입을 다시 datatime 객체로 변환하기\n",
    "sci_json_df[\"died_dt_json\"] = pd.to_datetime(sci_json_df[\"died_dt\"])\n",
    "print(sci_json_df)"
   ]
  },
  {
   "cell_type": "code",
   "execution_count": 177,
   "id": "4112f425-699b-41a8-b24e-9ffc4eefc951",
   "metadata": {},
   "outputs": [
    {
     "data": {
      "text/plain": [
       "Name                       object\n",
       "Born                       object\n",
       "Died                       object\n",
       "Age                         int64\n",
       "Occupation                 object\n",
       "born_dt                    object\n",
       "died_dt                    object\n",
       "age_days                   object\n",
       "age_years                  object\n",
       "age_days_assign            object\n",
       "age_year_assign             int64\n",
       "died_dt_json       datetime64[ns]\n",
       "dtype: object"
      ]
     },
     "execution_count": 177,
     "metadata": {},
     "output_type": "execute_result"
    }
   ],
   "source": [
    "sci_json_df.dtypes"
   ]
  },
  {
   "cell_type": "code",
   "execution_count": null,
   "id": "12160757-ed74-4333-b5c7-f3a3fd224e97",
   "metadata": {},
   "outputs": [],
   "source": []
  }
 ],
 "metadata": {
  "kernelspec": {
   "display_name": "Python 3 (ipykernel)",
   "language": "python",
   "name": "python3"
  },
  "language_info": {
   "codemirror_mode": {
    "name": "ipython",
    "version": 3
   },
   "file_extension": ".py",
   "mimetype": "text/x-python",
   "name": "python",
   "nbconvert_exporter": "python",
   "pygments_lexer": "ipython3",
   "version": "3.12.9"
  }
 },
 "nbformat": 4,
 "nbformat_minor": 5
}
