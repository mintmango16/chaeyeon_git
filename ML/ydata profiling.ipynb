{
 "cells": [
  {
   "cell_type": "code",
   "execution_count": 1,
   "id": "3f6c5b07-d11b-4dc1-95d5-1002f92242cd",
   "metadata": {},
   "outputs": [
    {
     "name": "stderr",
     "output_type": "stream",
     "text": [
      "C:\\anaconda3\\envs\\py312tf2\\Lib\\site-packages\\tqdm\\auto.py:21: TqdmWarning: IProgress not found. Please update jupyter and ipywidgets. See https://ipywidgets.readthedocs.io/en/stable/user_install.html\n",
      "  from .autonotebook import tqdm as notebook_tqdm\n"
     ]
    },
    {
     "data": {
      "text/html": [
       "\n",
       "            <div>\n",
       "                <ins><a href=\"https://ydata.ai/register\">Upgrade to ydata-sdk</a></ins>\n",
       "                <p>\n",
       "                    Improve your data and profiling with ydata-sdk, featuring data quality scoring, redundancy detection, outlier identification, text validation, and synthetic data generation.\n",
       "                </p>\n",
       "            </div>\n",
       "            "
      ],
      "text/plain": [
       "<IPython.core.display.HTML object>"
      ]
     },
     "metadata": {},
     "output_type": "display_data"
    }
   ],
   "source": [
    "import ydata_profiling as pp\n",
    "import warnings\n",
    "warnings.simplefilter(action='ignore', category=FutureWarning)"
   ]
  },
  {
   "cell_type": "code",
   "execution_count": 2,
   "id": "8bb87b70-5df1-4894-8b0c-e67f6429df0f",
   "metadata": {},
   "outputs": [
    {
     "data": {
      "text/plain": [
       "'v4.16.1'"
      ]
     },
     "execution_count": 2,
     "metadata": {},
     "output_type": "execute_result"
    }
   ],
   "source": [
    "pp.__version__"
   ]
  },
  {
   "cell_type": "code",
   "execution_count": 3,
   "id": "39407c51-8923-4ecd-83d6-7c1bcf785ee2",
   "metadata": {},
   "outputs": [],
   "source": [
    "import pandas as pd"
   ]
  },
  {
   "cell_type": "code",
   "execution_count": 4,
   "id": "d0e818b8-45fb-4ce0-ad01-5ead01c51eb9",
   "metadata": {},
   "outputs": [],
   "source": [
    "df = pd.read_csv('test1_modify6.csv')\n",
    "report = pp.ProfileReport(df)"
   ]
  },
  {
   "cell_type": "code",
   "execution_count": 5,
   "id": "9fb4134d-57ee-4698-8835-d741a7428053",
   "metadata": {},
   "outputs": [
    {
     "name": "stderr",
     "output_type": "stream",
     "text": [
      "Summarize dataset:  54%|█████▍    | 13/24 [00:00<00:00, 36.74it/s, Describe variable: dayofweek]\n",
      "100%|██████████| 19/19 [00:00<00:00, 2714.02it/s]\n",
      "Summarize dataset: 100%|██████████| 197/197 [00:08<00:00, 22.15it/s, Completed]                                 \n",
      "Generate report structure: 100%|██████████| 1/1 [00:01<00:00,  1.96s/it]\n",
      "Render HTML: 100%|██████████| 1/1 [00:01<00:00,  1.88s/it]\n",
      "Export report to file: 100%|██████████| 1/1 [00:00<00:00, 50.02it/s]\n"
     ]
    }
   ],
   "source": [
    "report.to_file('test1_report.html')"
   ]
  },
  {
   "cell_type": "code",
   "execution_count": null,
   "id": "bcbf3d11-392e-4696-9759-fc60bd53f8da",
   "metadata": {},
   "outputs": [],
   "source": []
  }
 ],
 "metadata": {
  "kernelspec": {
   "display_name": "Python 3 (ipykernel)",
   "language": "python",
   "name": "python3"
  },
  "language_info": {
   "codemirror_mode": {
    "name": "ipython",
    "version": 3
   },
   "file_extension": ".py",
   "mimetype": "text/x-python",
   "name": "python",
   "nbconvert_exporter": "python",
   "pygments_lexer": "ipython3",
   "version": "3.12.9"
  }
 },
 "nbformat": 4,
 "nbformat_minor": 5
}
