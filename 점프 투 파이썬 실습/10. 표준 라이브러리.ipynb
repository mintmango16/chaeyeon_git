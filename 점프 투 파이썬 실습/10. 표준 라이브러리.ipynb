{
 "cells": [
  {
   "cell_type": "markdown",
   "id": "4bea8348-1780-4221-8cd6-696ad417f4b9",
   "metadata": {},
   "source": [
    "## **표준 라이브러리** : 파이썬에 저장된 라이브러리"
   ]
  },
  {
   "cell_type": "markdown",
   "id": "f4481c3a-cf8b-4889-942d-40d7e430eea5",
   "metadata": {
    "jp-MarkdownHeadingCollapsed": true
   },
   "source": [
    "---\n",
    "## **datetime**"
   ]
  },
  {
   "cell_type": "code",
   "execution_count": 1,
   "id": "335c921e-0259-4bdd-9ba0-dc2b30227918",
   "metadata": {},
   "outputs": [],
   "source": [
    "import datetime as dt"
   ]
  },
  {
   "cell_type": "code",
   "execution_count": 2,
   "id": "dd7c990b-aff0-46da-b6ba-044673db9d4b",
   "metadata": {},
   "outputs": [],
   "source": [
    "d1 = dt.date(2021,12,14)\n",
    "d2 = dt.date(2023,4,5)"
   ]
  },
  {
   "cell_type": "code",
   "execution_count": 5,
   "id": "914dae38-8f47-494b-9628-9aaeee7fa28b",
   "metadata": {},
   "outputs": [
    {
     "data": {
      "text/plain": [
       "477"
      ]
     },
     "execution_count": 5,
     "metadata": {},
     "output_type": "execute_result"
    }
   ],
   "source": [
    "diff = d2-d1\n",
    "diff.days"
   ]
  },
  {
   "cell_type": "code",
   "execution_count": 9,
   "id": "a9bd331a-c9b2-4972-ac18-08f0436705c5",
   "metadata": {},
   "outputs": [
    {
     "data": {
      "text/plain": [
       "1"
      ]
     },
     "execution_count": 9,
     "metadata": {},
     "output_type": "execute_result"
    }
   ],
   "source": [
    "dt.date(2025,4,15).weekday() #월-일을 숫자로 나타냄(월요일부터 0)"
   ]
  },
  {
   "cell_type": "code",
   "execution_count": 10,
   "id": "58fccb81-1a9a-489b-b609-f8f26147a4e3",
   "metadata": {},
   "outputs": [
    {
     "data": {
      "text/plain": [
       "2"
      ]
     },
     "execution_count": 10,
     "metadata": {},
     "output_type": "execute_result"
    }
   ],
   "source": [
    "dt.date(2025,4,15).isoweekday() #월-일을 숫자로 나타냄(월요일부터 1)"
   ]
  },
  {
   "cell_type": "markdown",
   "id": "65c2e397-c073-4a99-8dbc-87cebb8cd4b2",
   "metadata": {
    "jp-MarkdownHeadingCollapsed": true
   },
   "source": [
    "---\n",
    "## **time**"
   ]
  },
  {
   "cell_type": "code",
   "execution_count": 11,
   "id": "d549ca8a-b7b1-41d7-9c72-46a3a5ec44ff",
   "metadata": {},
   "outputs": [],
   "source": [
    "import time as t"
   ]
  },
  {
   "cell_type": "code",
   "execution_count": 14,
   "id": "c91f767d-0128-407e-bd62-b1ebcec09f90",
   "metadata": {},
   "outputs": [
    {
     "data": {
      "text/plain": [
       "1744686991.8517592"
      ]
     },
     "execution_count": 14,
     "metadata": {},
     "output_type": "execute_result"
    }
   ],
   "source": [
    "t.time() \n",
    "        # UTC를 사용하여 현재 시간을 실수 형태로 리턴 (1970년 1월 1일 0시 0분 0초 부터 시작)"
   ]
  },
  {
   "cell_type": "code",
   "execution_count": 16,
   "id": "f18e6711-8f18-4f57-85e7-db7e56c2fb12",
   "metadata": {},
   "outputs": [
    {
     "data": {
      "text/plain": [
       "time.struct_time(tm_year=2025, tm_mon=4, tm_mday=15, tm_hour=12, tm_min=17, tm_sec=18, tm_wday=1, tm_yday=105, tm_isdst=0)"
      ]
     },
     "execution_count": 16,
     "metadata": {},
     "output_type": "execute_result"
    }
   ],
   "source": [
    "t.localtime(t.time()) # 현재 시간을 연/월/일/시/분/초 형태로 변환"
   ]
  },
  {
   "cell_type": "code",
   "execution_count": null,
   "id": "0458da2c-d689-4540-901f-aabbf787e249",
   "metadata": {},
   "outputs": [],
   "source": [
    "t.asctime(t.localtime(t.time())) # 튜플형태의 값을 인수로 받아 알아보기 쉬운 형태"
   ]
  },
  {
   "cell_type": "code",
   "execution_count": 18,
   "id": "5dd517b6-3f30-42e4-bc49-85480b7754cb",
   "metadata": {},
   "outputs": [
    {
     "data": {
      "text/plain": [
       "'Tue Apr 15 12:18:57 2025'"
      ]
     },
     "execution_count": 18,
     "metadata": {},
     "output_type": "execute_result"
    }
   ],
   "source": [
    "t.ctime() #커런트 타임"
   ]
  },
  {
   "cell_type": "code",
   "execution_count": 26,
   "id": "e8591a2d-e917-46a0-b7dc-43bd7919848f",
   "metadata": {},
   "outputs": [
    {
     "data": {
      "text/plain": [
       "'04/15/25'"
      ]
     },
     "execution_count": 26,
     "metadata": {},
     "output_type": "execute_result"
    }
   ],
   "source": [
    " #여러가지 포맷으로 출력가능 : 사용자 지정 가능\n",
    "\n",
    "t.strftime('%x', t.localtime(t.time()))"
   ]
  },
  {
   "cell_type": "code",
   "execution_count": 23,
   "id": "94d471b9-fdad-4cbd-8206-3987c1f09587",
   "metadata": {},
   "outputs": [
    {
     "data": {
      "text/plain": [
       "'Tue Apr 15 12:21:01 2025'"
      ]
     },
     "execution_count": 23,
     "metadata": {},
     "output_type": "execute_result"
    }
   ],
   "source": [
    "t.strftime('%c', t.localtime(t.time()))"
   ]
  },
  {
   "cell_type": "code",
   "execution_count": 24,
   "id": "713b2b6b-b997-4c35-94eb-a5b73a3a9e2b",
   "metadata": {},
   "outputs": [
    {
     "data": {
      "text/plain": [
       "'25y-04m-15d'"
      ]
     },
     "execution_count": 24,
     "metadata": {},
     "output_type": "execute_result"
    }
   ],
   "source": [
    "t.strftime('%yy-%mm-%dd', t.localtime(t.time()))"
   ]
  },
  {
   "cell_type": "code",
   "execution_count": 25,
   "id": "31be3646-ba5b-4561-b342-9da2e5ac6acd",
   "metadata": {},
   "outputs": [
    {
     "data": {
      "text/plain": [
       "'25-04-15'"
      ]
     },
     "execution_count": 25,
     "metadata": {},
     "output_type": "execute_result"
    }
   ],
   "source": [
    "t.strftime('%y-%m-%d', t.localtime(t.time()))"
   ]
  },
  {
   "cell_type": "code",
   "execution_count": 30,
   "id": "dc1ba742-f426-4fba-9db1-bea4a1fd1a6c",
   "metadata": {},
   "outputs": [
    {
     "name": "stdout",
     "output_type": "stream",
     "text": [
      "0\n",
      "1\n",
      "2\n",
      "3\n",
      "4\n",
      "5\n",
      "6\n",
      "7\n",
      "8\n",
      "9\n"
     ]
    }
   ],
   "source": [
    "for i in range(10):\n",
    "    print(i)\n",
    "    t.sleep(1) # 일정 시간을 멈출수 있음  : 크롤링 시 디도스로 착각하는 것을 막기 위해 사용!!"
   ]
  },
  {
   "cell_type": "markdown",
   "id": "245d9824-5f5b-48ea-a382-e2e9fff4f125",
   "metadata": {
    "jp-MarkdownHeadingCollapsed": true
   },
   "source": [
    "---\n",
    "## **math**"
   ]
  },
  {
   "cell_type": "code",
   "execution_count": 66,
   "id": "7bc979c9-023a-4a5b-af8d-7f85a5605c57",
   "metadata": {},
   "outputs": [
    {
     "data": {
      "text/plain": [
       "20"
      ]
     },
     "execution_count": 66,
     "metadata": {},
     "output_type": "execute_result"
    }
   ],
   "source": [
    "import math as m\n",
    "\n",
    "m.gcd(60,100,80) # 최대공약수 구하기"
   ]
  },
  {
   "cell_type": "code",
   "execution_count": 67,
   "id": "fe66e181-4ae5-4f2e-8c27-48315f10d7b4",
   "metadata": {},
   "outputs": [
    {
     "data": {
      "text/plain": [
       "75"
      ]
     },
     "execution_count": 67,
     "metadata": {},
     "output_type": "execute_result"
    }
   ],
   "source": [
    "m.lcm(15,25) #최소공배수"
   ]
  },
  {
   "cell_type": "markdown",
   "id": "7bc91d91-c640-4eaa-b1aa-2a709a05da72",
   "metadata": {
    "jp-MarkdownHeadingCollapsed": true
   },
   "source": [
    "---\n",
    "## **random**"
   ]
  },
  {
   "cell_type": "code",
   "execution_count": 68,
   "id": "b6127952-f774-4632-819a-cb814b6aada3",
   "metadata": {},
   "outputs": [],
   "source": [
    "import random as r"
   ]
  },
  {
   "cell_type": "code",
   "execution_count": 35,
   "id": "63d22090-2043-4853-b82f-79790547092c",
   "metadata": {},
   "outputs": [
    {
     "data": {
      "text/plain": [
       "0.6001269948440543"
      ]
     },
     "execution_count": 35,
     "metadata": {},
     "output_type": "execute_result"
    }
   ],
   "source": [
    "r.random() #0~1의 난수 출력"
   ]
  },
  {
   "cell_type": "code",
   "execution_count": 39,
   "id": "0f681c68-7170-4f25-97fa-f7f8d2f2e536",
   "metadata": {},
   "outputs": [
    {
     "name": "stdout",
     "output_type": "stream",
     "text": [
      "0.5714025946899135\n",
      "0.4288890546751146\n",
      "0.5780913011344704\n",
      "0.20609823213950174\n",
      "0.81332125135732\n",
      "0.8235888725334455\n",
      "0.6534725339011758\n",
      "0.16022955651881965\n",
      "0.5206693596399246\n",
      "0.32777281162209315\n"
     ]
    }
   ],
   "source": [
    "r.seed(10)  #변함 없이\n",
    "for i in range(10):\n",
    "    print(r.random())"
   ]
  },
  {
   "cell_type": "code",
   "execution_count": null,
   "id": "b3ecdad8-b919-404c-a791-5c490973028d",
   "metadata": {},
   "outputs": [],
   "source": [
    "r.choice()"
   ]
  },
  {
   "cell_type": "code",
   "execution_count": 74,
   "id": "1ad6905b-a959-4dc1-be25-ce57f3735e0b",
   "metadata": {},
   "outputs": [
    {
     "data": {
      "text/plain": [
       "[4, 5, 1, 2, 3]"
      ]
     },
     "execution_count": 74,
     "metadata": {},
     "output_type": "execute_result"
    }
   ],
   "source": [
    "data = [1,2,3,4,5]\n",
    "r.sample(data, len(data)) #리스트의 항목을 무작위로 섞음"
   ]
  },
  {
   "cell_type": "markdown",
   "id": "5f4bf1ba-2bc6-4140-937a-3af10e5da926",
   "metadata": {
    "jp-MarkdownHeadingCollapsed": true
   },
   "source": [
    "---\n",
    "## **itertools**"
   ]
  },
  {
   "cell_type": "code",
   "execution_count": 44,
   "id": "4c76a862-1a0e-4eab-9b8e-8bcea7714220",
   "metadata": {},
   "outputs": [],
   "source": [
    "import itertools"
   ]
  },
  {
   "cell_type": "code",
   "execution_count": 45,
   "id": "903c9dec-b321-4e6f-bd5c-26e522dfb82f",
   "metadata": {},
   "outputs": [
    {
     "name": "stdout",
     "output_type": "stream",
     "text": [
      "[('한민서', '사탕'), ('황지민', '초콜릿'), ('이영철', '젤리'), ('이광수', '새우깡'), ('김승민', '새우깡')]\n"
     ]
    }
   ],
   "source": [
    "students = ['한민서', \"황지민\", \"이영철\", \"이광수\", \"김승민\"]\n",
    "snack = [\"사탕\",\"초콜릿\", \"젤리\"]\n",
    "\n",
    "result = itertools.zip_longest(students, snack, fillvalue = \"새우깡\")\n",
    "            #students와 snack을 같은 인덱스끼리 묶어줌. 만약 공백이 생기면 fillvalue로 연결\n",
    "print(list(result))"
   ]
  },
  {
   "cell_type": "code",
   "execution_count": 75,
   "id": "688c6dfa-03e0-4ead-a61e-51afa2f805e8",
   "metadata": {},
   "outputs": [
    {
     "data": {
      "text/plain": [
       "[(1, 2), (1, 3), (2, 1), (2, 3), (3, 1), (3, 2)]"
      ]
     },
     "execution_count": 75,
     "metadata": {},
     "output_type": "execute_result"
    }
   ],
   "source": [
    "list(itertools.permutations([1,2,3],2)) \n",
    "#1,2,3중 2개를 선택한 순열을 이터레이터로 리턴"
   ]
  },
  {
   "cell_type": "code",
   "execution_count": 47,
   "id": "248ed092-620d-45f2-a2ae-7e91c69d7bbc",
   "metadata": {},
   "outputs": [
    {
     "name": "stdout",
     "output_type": "stream",
     "text": [
      "3\n",
      "4\n",
      "3\n",
      "5\n",
      "4\n",
      "5\n"
     ]
    }
   ],
   "source": [
    "for a, b in itertools.permutations([1,2,3],2):\n",
    "    print(a+b)"
   ]
  },
  {
   "cell_type": "code",
   "execution_count": 78,
   "id": "20604261-96b6-487f-a874-5adb8df5e475",
   "metadata": {},
   "outputs": [
    {
     "data": {
      "text/plain": [
       "8145060"
      ]
     },
     "execution_count": 78,
     "metadata": {},
     "output_type": "execute_result"
    }
   ],
   "source": [
    "it = itertools.combinations(range(1,46), 6) #반복 가능 객체중에 r개를 뽑는 조합을 이터레이터로 반환\n",
    "len(list(it))  #조합의 개수"
   ]
  },
  {
   "cell_type": "markdown",
   "id": "ef90f41d-17d6-4a89-ac2e-8efe6574fb52",
   "metadata": {
    "jp-MarkdownHeadingCollapsed": true
   },
   "source": [
    "---\n",
    "## **functools**"
   ]
  },
  {
   "cell_type": "code",
   "execution_count": 52,
   "id": "18104e18-4f74-4110-8bdc-24caadfbc038",
   "metadata": {},
   "outputs": [],
   "source": [
    "import functools"
   ]
  },
  {
   "cell_type": "code",
   "execution_count": 53,
   "id": "71d59cda-b4a4-4761-8744-c62a73878eb0",
   "metadata": {},
   "outputs": [
    {
     "name": "stdout",
     "output_type": "stream",
     "text": [
      "15\n"
     ]
    }
   ],
   "source": [
    "data2 = [1,2,3,4,5]\n",
    "result = functools.reduce(lambda x,y : x+y, data2)  #누적하기\n",
    "print(result)  #((((1+2)+3)+4)+5) 와 같은 계산"
   ]
  },
  {
   "cell_type": "markdown",
   "id": "c11025f4-9b88-4e29-81e6-eea0fb0b44fd",
   "metadata": {
    "jp-MarkdownHeadingCollapsed": true
   },
   "source": [
    "---\n",
    "## **itemgetter**"
   ]
  },
  {
   "cell_type": "code",
   "execution_count": 54,
   "id": "777a64c8-a7b9-4fe4-b457-223ebf5e12bb",
   "metadata": {},
   "outputs": [],
   "source": [
    "from operator import itemgetter"
   ]
  },
  {
   "cell_type": "code",
   "execution_count": 82,
   "id": "9451fa4f-9dee-4706-b179-3cdecd55e86a",
   "metadata": {},
   "outputs": [
    {
     "name": "stdout",
     "output_type": "stream",
     "text": [
      "[('셀리', 17, 'B'), ('제인', 22, 'A'), ('데브', 32, 'B')]\n"
     ]
    }
   ],
   "source": [
    "students = [\n",
    "    (\"제인\",22,\"A\"),\n",
    "    (\"데브\",32,\"B\"),\n",
    "    (\"셀리\",17,\"B\")]\n",
    "\n",
    "result = sorted(students, key = itemgetter(1)) #나이순으로 정렬 : 나이의 인덱스인 1 입력\n",
    "print(result)"
   ]
  },
  {
   "cell_type": "code",
   "execution_count": 84,
   "id": "2efe2df8-3396-4fcd-8929-0869ff1c332d",
   "metadata": {},
   "outputs": [
    {
     "name": "stdout",
     "output_type": "stream",
     "text": [
      "[{'name': '셀리', 'age': 17, 'grade': 'B'}, {'name': '제인', 'age': 22, 'grade': 'A'}, {'name': '데브', 'age': 32, 'grade': 'B'}]\n"
     ]
    }
   ],
   "source": [
    "students = [\n",
    "    {\"name\" : \"제인\", \"age\" : 22, \"grade\" : \"A\"},\n",
    "    {\"name\" : \"데브\", \"age\" : 32, \"grade\" :\"B\"},\n",
    "    {\"name\" : \"셀리\", \"age\" : 17, \"grade\" :\"B\"}]\n",
    "\n",
    "result = sorted(students, key = itemgetter('age')) # 딕셔너리의 경우 키를 입력하여 정렬\n",
    "print(result)"
   ]
  },
  {
   "cell_type": "markdown",
   "id": "ca62f766-31b2-4e49-8fcc-b4d402b4675b",
   "metadata": {
    "jp-MarkdownHeadingCollapsed": true
   },
   "source": [
    "---\n",
    "## **shutil**"
   ]
  },
  {
   "cell_type": "code",
   "execution_count": 87,
   "id": "10fe6647-505d-4826-9d04-7df9cc106938",
   "metadata": {},
   "outputs": [],
   "source": [
    "import shutil as s #파일을 복사하거나 이동할 때 사용\n",
    "\n",
    "#    s.copy(\"파일명1\", \"파일명2\")\n",
    "#  파일명1을 파일명2로 복사"
   ]
  },
  {
   "cell_type": "markdown",
   "id": "ac772992-d11a-4a7e-b29d-4ff314713cba",
   "metadata": {
    "jp-MarkdownHeadingCollapsed": true
   },
   "source": [
    "---\n",
    "## **glob**"
   ]
  },
  {
   "cell_type": "code",
   "execution_count": null,
   "id": "b11ea9e4-fd63-4cc5-ad20-637936418511",
   "metadata": {},
   "outputs": [],
   "source": [
    "import glob as g\n",
    "g.glob() #\"c:/doit/mark*\" :mark로 시작하는 파일 모두 찾기\n",
    "         # 메타문자(*, ? 등)를 써서 원하는 파일만 읽을 수 있음\n",
    "         # 특정 디렉터리 안의 파일이름을 읽어서 리스트로 리턴"
   ]
  },
  {
   "cell_type": "markdown",
   "id": "0d10985a-a786-48a7-b869-f3a45f104368",
   "metadata": {},
   "source": [
    "---\n",
    "## **pickle**"
   ]
  },
  {
   "cell_type": "code",
   "execution_count": 99,
   "id": "a4a0ed1a-c46a-4f77-b371-84ef389e526e",
   "metadata": {},
   "outputs": [],
   "source": [
    "import pickle #객체의 형태를 그대로 유지하면서 파일에 저장/불러오기 가능\n",
    "              #모델링한 것을 내보냈다가 다시 가져와서 학습하거나 할때 이용"
   ]
  },
  {
   "cell_type": "code",
   "execution_count": 100,
   "id": "01a8755d-45a6-485e-9090-2841652bcbd5",
   "metadata": {},
   "outputs": [],
   "source": [
    "f = open(\"test.txt\", \"wb\")\n",
    "data2 = {1 : \"python\", 2: \"you need\"}\n",
    "pickle.dump(data, f)  #딕셔너리 객체를 그대로 파일에 저장\n",
    "f.close()"
   ]
  },
  {
   "cell_type": "code",
   "execution_count": 101,
   "id": "503ba9f7-bed7-46e6-9acd-35687da3364a",
   "metadata": {},
   "outputs": [
    {
     "name": "stdout",
     "output_type": "stream",
     "text": [
      "[1, 2, 3, 4, 5]\n"
     ]
    }
   ],
   "source": [
    "f = open(\"test.txt\", \"rb\")\n",
    "data3 = pickle.load(f)\n",
    "print(data3)\n",
    "f.close()"
   ]
  },
  {
   "cell_type": "code",
   "execution_count": null,
   "id": "ae5cc5d8-d5bb-4f25-9fa7-9524f40ff61c",
   "metadata": {},
   "outputs": [],
   "source": []
  },
  {
   "cell_type": "markdown",
   "id": "6a643567-165f-4a88-95ee-3c4635d29bb2",
   "metadata": {
    "jp-MarkdownHeadingCollapsed": true
   },
   "source": [
    "---\n",
    "## **os**"
   ]
  },
  {
   "cell_type": "code",
   "execution_count": 107,
   "id": "b4911622-1367-4573-b000-7d5ea6ddfb69",
   "metadata": {},
   "outputs": [],
   "source": [
    "import os"
   ]
  },
  {
   "cell_type": "code",
   "execution_count": 105,
   "id": "5b021b50-79bf-4a34-bd79-0596ebdc9361",
   "metadata": {},
   "outputs": [
    {
     "data": {
      "text/plain": [
       "environ{'ALLUSERSPROFILE': 'C:\\\\ProgramData',\n",
       "        'APPDATA': 'C:\\\\Users\\\\asiae\\\\AppData\\\\Roaming',\n",
       "        'COMMONPROGRAMFILES': 'C:\\\\Program Files\\\\Common Files',\n",
       "        'COMMONPROGRAMFILES(X86)': 'C:\\\\Program Files (x86)\\\\Common Files',\n",
       "        'COMMONPROGRAMW6432': 'C:\\\\Program Files\\\\Common Files',\n",
       "        'COMPUTERNAME': 'ASIA',\n",
       "        'COMSPEC': 'C:\\\\WINDOWS\\\\system32\\\\cmd.exe',\n",
       "        'CONDA_DEFAULT_ENV': 'py312tf2',\n",
       "        'CONDA_EXE': 'C:\\\\anaconda3\\\\Scripts\\\\conda.exe',\n",
       "        'CONDA_PREFIX': 'C:\\\\anaconda3\\\\envs\\\\py312tf2',\n",
       "        'CONDA_PROMPT_MODIFIER': '(py312tf2) ',\n",
       "        'CONDA_PYTHON_EXE': 'C:\\\\anaconda3\\\\python.exe',\n",
       "        'CONDA_ROOT': 'C:\\\\anaconda3',\n",
       "        'CONDA_SHLVL': '1',\n",
       "        'DRIVERDATA': 'C:\\\\Windows\\\\System32\\\\Drivers\\\\DriverData',\n",
       "        'EFC_7344': '1',\n",
       "        'FPS_BROWSER_APP_PROFILE_STRING': 'Internet Explorer',\n",
       "        'FPS_BROWSER_USER_PROFILE_STRING': 'Default',\n",
       "        'HOMEDRIVE': 'C:',\n",
       "        'HOMEPATH': '\\\\Users\\\\asiae',\n",
       "        'IPY_INTERRUPT_EVENT': '4756',\n",
       "        'JPY_INTERRUPT_EVENT': '4756',\n",
       "        'JPY_PARENT_PID': '4104',\n",
       "        'JPY_SESSION_NAME': 'D:\\\\python-workplace\\\\Untitled.ipynb',\n",
       "        'LOCALAPPDATA': 'C:\\\\Users\\\\asiae\\\\AppData\\\\Local',\n",
       "        'LOGONSERVER': '\\\\\\\\ASIA',\n",
       "        'NUMBER_OF_PROCESSORS': '28',\n",
       "        'ONEDRIVE': 'C:\\\\Users\\\\asiae\\\\OneDrive',\n",
       "        'OS': 'Windows_NT',\n",
       "        'PATH': 'C:\\\\anaconda3\\\\envs\\\\py312tf2;C:\\\\anaconda3\\\\envs\\\\py312tf2\\\\Library\\\\mingw-w64\\\\bin;C:\\\\anaconda3\\\\envs\\\\py312tf2\\\\Library\\\\usr\\\\bin;C:\\\\anaconda3\\\\envs\\\\py312tf2\\\\Library\\\\bin;C:\\\\anaconda3\\\\envs\\\\py312tf2\\\\Scripts;C:\\\\anaconda3\\\\envs\\\\py312tf2\\\\bin;C:\\\\anaconda3\\\\condabin;C:\\\\anaconda3;C:\\\\anaconda3\\\\Library\\\\mingw-w64\\\\bin;C:\\\\anaconda3\\\\Library\\\\usr\\\\bin;C:\\\\anaconda3\\\\Library\\\\bin;C:\\\\anaconda3\\\\Scripts;C:\\\\WINDOWS\\\\system32;C:\\\\WINDOWS;C:\\\\WINDOWS\\\\System32\\\\Wbem;C:\\\\WINDOWS\\\\System32\\\\WindowsPowerShell\\\\v1.0;C:\\\\WINDOWS\\\\System32\\\\OpenSSH;C:\\\\Program Files\\\\Git\\\\cmd;C:\\\\Users\\\\asiae\\\\AppData\\\\Local\\\\Programs\\\\Python\\\\Python313\\\\Scripts;C:\\\\Users\\\\asiae\\\\AppData\\\\Local\\\\Programs\\\\Python\\\\Python313;C:\\\\Users\\\\asiae\\\\AppData\\\\Local\\\\Programs\\\\Python\\\\Launcher;C:\\\\Users\\\\asiae\\\\AppData\\\\Local\\\\Microsoft\\\\WindowsApps;C:\\\\Users\\\\asiae\\\\AppData\\\\Local\\\\Programs\\\\Microsoft VS Code\\\\bin;C:\\\\anaconda3;C:\\\\anaconda3\\\\Library\\\\bin;C:\\\\anaconda3\\\\Library;C:\\\\anaconda3\\\\Scripts;.',\n",
       "        'PATHEXT': '.COM;.EXE;.BAT;.CMD;.VBS;.VBE;.JS;.JSE;.WSF;.WSH;.MSC',\n",
       "        'PROCESSOR_ARCHITECTURE': 'AMD64',\n",
       "        'PROCESSOR_IDENTIFIER': 'Intel64 Family 6 Model 183 Stepping 1, GenuineIntel',\n",
       "        'PROCESSOR_LEVEL': '6',\n",
       "        'PROCESSOR_REVISION': 'b701',\n",
       "        'PROGRAMDATA': 'C:\\\\ProgramData',\n",
       "        'PROGRAMFILES': 'C:\\\\Program Files',\n",
       "        'PROGRAMFILES(X86)': 'C:\\\\Program Files (x86)',\n",
       "        'PROGRAMW6432': 'C:\\\\Program Files',\n",
       "        'PROMPT': '(py312tf2) $P$G',\n",
       "        'PSMODULEPATH': 'C:\\\\Program Files\\\\WindowsPowerShell\\\\Modules;C:\\\\WINDOWS\\\\system32\\\\WindowsPowerShell\\\\v1.0\\\\Modules',\n",
       "        'PUBLIC': 'C:\\\\Users\\\\Public',\n",
       "        'QT_API': 'pyqt5',\n",
       "        'QT_D3DCREATE_MULTITHREADED': '1',\n",
       "        'SESSIONNAME': 'Console',\n",
       "        'SSL_CERT_FILE': 'C:\\\\anaconda3\\\\envs\\\\py312tf2\\\\Library\\\\ssl\\\\cacert.pem',\n",
       "        'SYSTEMDRIVE': 'C:',\n",
       "        'SYSTEMROOT': 'C:\\\\WINDOWS',\n",
       "        'TEMP': 'C:\\\\Users\\\\asiae\\\\AppData\\\\Local\\\\Temp',\n",
       "        'TMP': 'C:\\\\Users\\\\asiae\\\\AppData\\\\Local\\\\Temp',\n",
       "        'USERDOMAIN': 'asia',\n",
       "        'USERDOMAIN_ROAMINGPROFILE': 'asia',\n",
       "        'USERNAME': 'asiae',\n",
       "        'USERPROFILE': 'C:\\\\Users\\\\asiae',\n",
       "        'WINDIR': 'C:\\\\WINDOWS',\n",
       "        '__CONDA_OPENSLL_CERT_FILE_SET': '\"1\"',\n",
       "        'PYDEVD_USE_FRAME_EVAL': 'NO',\n",
       "        'TERM': 'xterm-color',\n",
       "        'CLICOLOR': '1',\n",
       "        'FORCE_COLOR': '1',\n",
       "        'CLICOLOR_FORCE': '1',\n",
       "        'PAGER': 'cat',\n",
       "        'GIT_PAGER': 'cat',\n",
       "        'MPLBACKEND': 'module://matplotlib_inline.backend_inline'}"
      ]
     },
     "execution_count": 105,
     "metadata": {},
     "output_type": "execute_result"
    }
   ],
   "source": [
    "os.environ # 현재 시스템의 환경변수 모두 출력"
   ]
  },
  {
   "cell_type": "code",
   "execution_count": null,
   "id": "b0a0ae69-a1f2-4b44-814c-6dbef35aeac3",
   "metadata": {},
   "outputs": [],
   "source": [
    "os.chdir() #현재 디렉토리 위치 변경"
   ]
  },
  {
   "cell_type": "code",
   "execution_count": 110,
   "id": "032a51ed-824b-49c0-9aee-76b0a5f251db",
   "metadata": {},
   "outputs": [
    {
     "data": {
      "text/plain": [
       "'D:\\\\python-workplace'"
      ]
     },
     "execution_count": 110,
     "metadata": {},
     "output_type": "execute_result"
    }
   ],
   "source": [
    "os.getcwd() #현재 디렉토리 리턴"
   ]
  },
  {
   "cell_type": "code",
   "execution_count": 111,
   "id": "57868e18-9370-4e08-bbfa-e953688ddb3a",
   "metadata": {},
   "outputs": [
    {
     "data": {
      "text/plain": [
       "0"
      ]
     },
     "execution_count": 111,
     "metadata": {},
     "output_type": "execute_result"
    }
   ],
   "source": [
    "os.system(\"dir\") #시스템 자체의 프로그램이나 기타 명령어 실행 가능"
   ]
  },
  {
   "cell_type": "code",
   "execution_count": 112,
   "id": "27e5d106-6dad-474e-ad69-a5ee1c08d447",
   "metadata": {},
   "outputs": [],
   "source": [
    "f = os.popen(\"dir\") #시스템 명령어를 실행한 결과값 파일 객체로 리턴"
   ]
  },
  {
   "cell_type": "code",
   "execution_count": null,
   "id": "c6910143-abcc-47fd-b3e1-f53268a54b30",
   "metadata": {},
   "outputs": [],
   "source": [
    "os.mkdir() #디렉토리 생성"
   ]
  },
  {
   "cell_type": "code",
   "execution_count": null,
   "id": "8ab6d9cf-0c48-4cd7-bb09-4d58fd8a8830",
   "metadata": {},
   "outputs": [],
   "source": [
    "os.rmdir() #디렉터리 삭제(비어있어야 삭제 가능)"
   ]
  },
  {
   "cell_type": "code",
   "execution_count": null,
   "id": "db6af7f5-34b8-45f2-97c0-c0f748beee88",
   "metadata": {},
   "outputs": [],
   "source": [
    "os.remove() #파일 삭제"
   ]
  },
  {
   "cell_type": "code",
   "execution_count": null,
   "id": "db79343a-e897-4f59-8dd9-5f4422820666",
   "metadata": {},
   "outputs": [],
   "source": [
    "os.rename(src, dst) #1 파일의 이름을 2의 이름으로 바꾼다"
   ]
  },
  {
   "cell_type": "markdown",
   "id": "279d047a-7210-4305-af10-a095f705e110",
   "metadata": {},
   "source": [
    "---\n",
    "## **zipfile**"
   ]
  },
  {
   "cell_type": "code",
   "execution_count": 63,
   "id": "e60b2df7-9747-42d4-8642-02642c027ca2",
   "metadata": {},
   "outputs": [],
   "source": [
    "import zipfile #여러개의 파일을 zip형식으로 합치거나 해제 가능"
   ]
  },
  {
   "cell_type": "markdown",
   "id": "6b9cd023-6be6-4247-acf0-ab3b4f932808",
   "metadata": {},
   "source": [
    "---\n",
    "## **threading**"
   ]
  },
  {
   "cell_type": "code",
   "execution_count": 64,
   "id": "408f04b7-06bc-4949-9407-e106cdcdfbd2",
   "metadata": {},
   "outputs": [],
   "source": [
    "import threading"
   ]
  },
  {
   "cell_type": "code",
   "execution_count": null,
   "id": "fcc3e80c-79d6-40c6-83ff-26187dc14f2b",
   "metadata": {},
   "outputs": [],
   "source": []
  },
  {
   "cell_type": "code",
   "execution_count": null,
   "id": "b7ef26c5-0037-4da2-9d4a-978df46de080",
   "metadata": {},
   "outputs": [],
   "source": []
  },
  {
   "cell_type": "code",
   "execution_count": null,
   "id": "69542f6b-deb4-44bf-9afb-300fa746536a",
   "metadata": {},
   "outputs": [],
   "source": []
  },
  {
   "cell_type": "markdown",
   "id": "15b81d91-5d9d-447a-a632-a47b3f84dec9",
   "metadata": {},
   "source": [
    "---\n",
    "## **webbrowser**"
   ]
  },
  {
   "cell_type": "code",
   "execution_count": null,
   "id": "5aaec11e-be33-4b78-81c4-ef1e130ad6d1",
   "metadata": {},
   "outputs": [],
   "source": [
    "import webbrowser"
   ]
  },
  {
   "cell_type": "code",
   "execution_count": null,
   "id": "06fd7038-9752-485e-a537-7795287a2fc1",
   "metadata": {},
   "outputs": [],
   "source": []
  },
  {
   "cell_type": "code",
   "execution_count": null,
   "id": "c17f6471-e3ae-41e2-a04d-ae3383906118",
   "metadata": {},
   "outputs": [],
   "source": []
  }
 ],
 "metadata": {
  "kernelspec": {
   "display_name": "Python 3 (ipykernel)",
   "language": "python",
   "name": "python3"
  },
  "language_info": {
   "codemirror_mode": {
    "name": "ipython",
    "version": 3
   },
   "file_extension": ".py",
   "mimetype": "text/x-python",
   "name": "python",
   "nbconvert_exporter": "python",
   "pygments_lexer": "ipython3",
   "version": "3.12.9"
  }
 },
 "nbformat": 4,
 "nbformat_minor": 5
}
