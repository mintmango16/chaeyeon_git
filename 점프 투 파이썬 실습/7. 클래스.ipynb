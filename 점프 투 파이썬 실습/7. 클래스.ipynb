{
 "cells": [
  {
   "cell_type": "markdown",
   "id": "192cba6f-6683-4c8e-a86f-4863394dd9e7",
   "metadata": {},
   "source": [
    "## 250414 클래스 수업"
   ]
  },
  {
   "cell_type": "code",
   "execution_count": 3,
   "id": "392f312d-2b62-4f72-916d-4ac17e512204",
   "metadata": {},
   "outputs": [
    {
     "name": "stdout",
     "output_type": "stream",
     "text": [
      "a\n"
     ]
    }
   ],
   "source": [
    "a = \"a\"\n",
    "print(a)"
   ]
  },
  {
   "cell_type": "code",
   "execution_count": 8,
   "id": "3bbd2335-c4ce-40b5-ad7e-5b3b26e81a34",
   "metadata": {},
   "outputs": [],
   "source": [
    "def add(a,b):  #함수명은 소문자로 시작\n",
    "    return a+b"
   ]
  },
  {
   "cell_type": "code",
   "execution_count": 9,
   "id": "08627930-451f-485c-b5b3-8f146d36a60c",
   "metadata": {},
   "outputs": [
    {
     "name": "stdout",
     "output_type": "stream",
     "text": [
      "3\n"
     ]
    }
   ],
   "source": [
    "result = add(1,2) #위치 지정으로 전달 \n",
    "print(result)"
   ]
  },
  {
   "cell_type": "code",
   "execution_count": 10,
   "id": "03721bd0-1a02-4e67-9154-3f0069a2e748",
   "metadata": {},
   "outputs": [
    {
     "name": "stdout",
     "output_type": "stream",
     "text": [
      "15\n"
     ]
    }
   ],
   "source": [
    "c = 5\n",
    "d = 10\n",
    "result = add(c,d)\n",
    "print(result)"
   ]
  },
  {
   "cell_type": "code",
   "execution_count": 11,
   "id": "5e8f48e0-3c24-4bd3-b9d6-340fac4d560d",
   "metadata": {},
   "outputs": [],
   "source": [
    "class Cookie :   #대문자로 시작해야함, 클래스는 하나이상의 함수를 가지고 있음\n",
    "    pass"
   ]
  },
  {
   "cell_type": "code",
   "execution_count": 12,
   "id": "cf4be954-160b-4375-a34b-eb0727ed0a6d",
   "metadata": {},
   "outputs": [],
   "source": [
    "a = Cookie()"
   ]
  },
  {
   "cell_type": "code",
   "execution_count": 14,
   "id": "510ec55d-8d1a-408e-8650-b9b5736a53cb",
   "metadata": {},
   "outputs": [
    {
     "name": "stdout",
     "output_type": "stream",
     "text": [
      "<__main__.Cookie object at 0x00000218136FC770>\n"
     ]
    }
   ],
   "source": [
    "print(a)                       #밑에 내요이 클래스의 해당 주소"
   ]
  },
  {
   "cell_type": "code",
   "execution_count": 69,
   "id": "b854c304-4e7e-43ce-afb7-3c4f88b1b59f",
   "metadata": {},
   "outputs": [],
   "source": [
    "class FourCal:\n",
    "    def setData(self, first, second): #메소드 ==클래스 안의 함수를 의미\n",
    "        self.first = first #메서드 수행문\n",
    "        self.second = second #초기화 용도 \n",
    "    def add(self):\n",
    "        return self.first + self.second \n",
    "    def sub(self):\n",
    "        return self.first - self.second \n",
    "    def mul(self):\n",
    "        return self.first * self.second\n",
    "    def div(self):\n",
    "        return self.first / self.second \n"
   ]
  },
  {
   "cell_type": "code",
   "execution_count": 70,
   "id": "67481c8f-b0ed-42b8-8ab8-3b293a84abaa",
   "metadata": {},
   "outputs": [
    {
     "name": "stdout",
     "output_type": "stream",
     "text": [
      "<__main__.FourCal object at 0x0000021813304B00>\n"
     ]
    }
   ],
   "source": [
    "a = FourCal()\n",
    "print(a)"
   ]
  },
  {
   "cell_type": "code",
   "execution_count": 71,
   "id": "2aeee111-d4ec-4ff5-8a3d-0c671fd7e9b9",
   "metadata": {},
   "outputs": [],
   "source": [
    "a.setData(1,2)"
   ]
  },
  {
   "cell_type": "code",
   "execution_count": 72,
   "id": "fcb18380-d86d-44bf-8387-5f4a36f0a6cc",
   "metadata": {},
   "outputs": [
    {
     "name": "stdout",
     "output_type": "stream",
     "text": [
      "1\n"
     ]
    }
   ],
   "source": [
    "print(a.first) #setdata의 매개변수 가져옴"
   ]
  },
  {
   "cell_type": "code",
   "execution_count": 73,
   "id": "f4f5fe66-5bb4-448b-a988-30259ebf9cc0",
   "metadata": {},
   "outputs": [
    {
     "name": "stdout",
     "output_type": "stream",
     "text": [
      "2\n"
     ]
    }
   ],
   "source": [
    "print(a.second)"
   ]
  },
  {
   "cell_type": "markdown",
   "id": "65a28379-30b5-48c4-8699-1329704d1d62",
   "metadata": {},
   "source": [
    "여기서 a는 self와 연결, 1는 first, 2는 second와 연결됨\n",
    "-> 따라서 self는 각 전달받은 것을 전달해준 것임"
   ]
  },
  {
   "cell_type": "code",
   "execution_count": 74,
   "id": "ebbf99a3-3c7e-482a-b54b-45586fa80f12",
   "metadata": {},
   "outputs": [
    {
     "ename": "TypeError",
     "evalue": "FourCal.add() takes 1 positional argument but 3 were given",
     "output_type": "error",
     "traceback": [
      "\u001b[1;31m---------------------------------------------------------------------------\u001b[0m",
      "\u001b[1;31mTypeError\u001b[0m                                 Traceback (most recent call last)",
      "Cell \u001b[1;32mIn[74], line 1\u001b[0m\n\u001b[1;32m----> 1\u001b[0m a\u001b[38;5;241m.\u001b[39madd(\u001b[38;5;241m1\u001b[39m,\u001b[38;5;241m2\u001b[39m)\n",
      "\u001b[1;31mTypeError\u001b[0m: FourCal.add() takes 1 positional argument but 3 were given"
     ]
    }
   ],
   "source": [
    "a.add(1,2) #에러 -> forcal 이라는 클래스의 메서드라는 것을 인식하지 못함\n",
    "           #따라서 add에 self가 없으면 메서드가 아닌 그냥 일반 함수임\n",
    "           #self 가 있어야 메서드임 !"
   ]
  },
  {
   "cell_type": "code",
   "execution_count": 75,
   "id": "0916668f-9c2e-4a1a-9c1a-25239199afb9",
   "metadata": {},
   "outputs": [
    {
     "data": {
      "text/plain": [
       "3"
      ]
     },
     "execution_count": 75,
     "metadata": {},
     "output_type": "execute_result"
    }
   ],
   "source": [
    "a.add()"
   ]
  },
  {
   "cell_type": "code",
   "execution_count": 76,
   "id": "9895ee9d-da9d-4c6c-87ae-853bccb43f85",
   "metadata": {},
   "outputs": [
    {
     "data": {
      "text/plain": [
       "-1"
      ]
     },
     "execution_count": 76,
     "metadata": {},
     "output_type": "execute_result"
    }
   ],
   "source": [
    "a.sub()"
   ]
  },
  {
   "cell_type": "code",
   "execution_count": 77,
   "id": "3980ac40-43f5-4f48-a095-886e728505ac",
   "metadata": {},
   "outputs": [
    {
     "data": {
      "text/plain": [
       "2"
      ]
     },
     "execution_count": 77,
     "metadata": {},
     "output_type": "execute_result"
    }
   ],
   "source": [
    "a.mul()"
   ]
  },
  {
   "cell_type": "code",
   "execution_count": 78,
   "id": "304c5212-3f38-4311-a809-5c8737d4fd16",
   "metadata": {},
   "outputs": [
    {
     "data": {
      "text/plain": [
       "0.5"
      ]
     },
     "execution_count": 78,
     "metadata": {},
     "output_type": "execute_result"
    }
   ],
   "source": [
    "a.div()"
   ]
  },
  {
   "cell_type": "code",
   "execution_count": 79,
   "id": "731b03e9-6af5-4b69-a54a-688464ec7a6e",
   "metadata": {},
   "outputs": [],
   "source": [
    "b = FourCal()\n",
    "b.setData(5,3)"
   ]
  },
  {
   "cell_type": "code",
   "execution_count": 80,
   "id": "8710f195-e56d-42a0-8d90-858b07dad3b5",
   "metadata": {},
   "outputs": [
    {
     "data": {
      "text/plain": [
       "5"
      ]
     },
     "execution_count": 80,
     "metadata": {},
     "output_type": "execute_result"
    }
   ],
   "source": [
    "b.first"
   ]
  },
  {
   "cell_type": "code",
   "execution_count": 81,
   "id": "25647e14-914d-497b-9b5d-4d0cbdb122b8",
   "metadata": {},
   "outputs": [
    {
     "data": {
      "text/plain": [
       "3"
      ]
     },
     "execution_count": 81,
     "metadata": {},
     "output_type": "execute_result"
    }
   ],
   "source": [
    "b.second"
   ]
  },
  {
   "cell_type": "code",
   "execution_count": 82,
   "id": "bedb4abb-b935-4b18-b4f9-30877084e704",
   "metadata": {},
   "outputs": [
    {
     "data": {
      "text/plain": [
       "8"
      ]
     },
     "execution_count": 82,
     "metadata": {},
     "output_type": "execute_result"
    }
   ],
   "source": [
    "b.add()"
   ]
  },
  {
   "cell_type": "code",
   "execution_count": 83,
   "id": "66c2ec6c-e64b-496b-a0c5-fbaf0272d9c4",
   "metadata": {},
   "outputs": [
    {
     "data": {
      "text/plain": [
       "1.6666666666666667"
      ]
     },
     "execution_count": 83,
     "metadata": {},
     "output_type": "execute_result"
    }
   ],
   "source": [
    "b.div()"
   ]
  },
  {
   "cell_type": "code",
   "execution_count": 84,
   "id": "ccf4c0f0-f090-40f8-a6e8-0473eb0f36d1",
   "metadata": {},
   "outputs": [],
   "source": [
    "class FourCal:\n",
    "    def __init__(self, first, second): #생성자 메소드 : 객체가 생성될 때 자동으로 호출되는 메서드\n",
    "                                       # forcal(first, second)에 해당 , 소멸자도 존재함 !!(잘 안씀)\n",
    "        print(\"생성자 메소드가 변수를 초기화 하였습니다.\")\n",
    "        self.first = first #메서드 수행문\n",
    "        self.second = second #초기화 용도 \n",
    "    def add(self):\n",
    "        return self.first + self.second \n",
    "    def sub(self):\n",
    "        return self.first - self.second \n",
    "    def mul(self):\n",
    "        return self.first * self.second\n",
    "    def div(self):\n",
    "        return self.first / self.second \n"
   ]
  },
  {
   "cell_type": "code",
   "execution_count": 85,
   "id": "9c0f4722-64c5-43d0-a787-20d66247a038",
   "metadata": {},
   "outputs": [
    {
     "name": "stdout",
     "output_type": "stream",
     "text": [
      "생성자 메소드가 변수를 초기화 하였습니다.\n"
     ]
    }
   ],
   "source": [
    "a = FourCal(1,2)"
   ]
  },
  {
   "cell_type": "code",
   "execution_count": 86,
   "id": "29876c1d-0664-48d4-95b7-f7d8b3080161",
   "metadata": {},
   "outputs": [
    {
     "data": {
      "text/plain": [
       "3"
      ]
     },
     "execution_count": 86,
     "metadata": {},
     "output_type": "execute_result"
    }
   ],
   "source": [
    "a.add()"
   ]
  },
  {
   "cell_type": "code",
   "execution_count": 87,
   "id": "546ec320-54a8-4b49-8091-c5fa93f7dfad",
   "metadata": {},
   "outputs": [
    {
     "name": "stdout",
     "output_type": "stream",
     "text": [
      "생성자 메소드가 변수를 초기화 하였습니다.\n"
     ]
    }
   ],
   "source": [
    "a = FourCal(3,4)"
   ]
  },
  {
   "cell_type": "code",
   "execution_count": 88,
   "id": "7c46dab3-dd56-4dab-974c-2be54a04f7a8",
   "metadata": {},
   "outputs": [
    {
     "data": {
      "text/plain": [
       "7"
      ]
     },
     "execution_count": 88,
     "metadata": {},
     "output_type": "execute_result"
    }
   ],
   "source": [
    "a.add()"
   ]
  },
  {
   "cell_type": "markdown",
   "id": "2b094128-2091-4f85-9bb2-7f861c66f11b",
   "metadata": {},
   "source": [
    "----------------\n",
    "## 클래스 상속\n",
    "**메서드 오버라이딩** \n",
    "- 부모 클래스에 있는 메서드를 동일한 이름으로 다시 만드는 것\n"
   ]
  },
  {
   "cell_type": "code",
   "execution_count": 98,
   "id": "dda4525f-e5b0-4183-b0f8-66cb23866410",
   "metadata": {},
   "outputs": [],
   "source": [
    "class MoreFourCal(FourCal): #상속\n",
    "    def pow(self):\n",
    "        return self.first ** self.second\n",
    "    def div(self):\n",
    "        if self.second == 0:\n",
    "            return 0\n",
    "        else:\n",
    "            return self.first/self.second"
   ]
  },
  {
   "cell_type": "code",
   "execution_count": 93,
   "id": "23127d26-ad31-453b-b33c-e8f63d054c3a",
   "metadata": {},
   "outputs": [
    {
     "name": "stdout",
     "output_type": "stream",
     "text": [
      "생성자 메소드가 변수를 초기화 하였습니다.\n"
     ]
    }
   ],
   "source": [
    "c = MoreFourCal(5,6)"
   ]
  },
  {
   "cell_type": "code",
   "execution_count": 96,
   "id": "3b9aaf12-c094-4a01-b1a7-57eef19d2a0b",
   "metadata": {},
   "outputs": [
    {
     "data": {
      "text/plain": [
       "11"
      ]
     },
     "execution_count": 96,
     "metadata": {},
     "output_type": "execute_result"
    }
   ],
   "source": [
    "c.add()  #FourCal 메서드 사용 가능"
   ]
  },
  {
   "cell_type": "code",
   "execution_count": 97,
   "id": "c2055e5b-504f-400d-b98f-939fe5edc430",
   "metadata": {},
   "outputs": [
    {
     "data": {
      "text/plain": [
       "15625"
      ]
     },
     "execution_count": 97,
     "metadata": {},
     "output_type": "execute_result"
    }
   ],
   "source": [
    "c.pow()"
   ]
  },
  {
   "cell_type": "code",
   "execution_count": 99,
   "id": "fdb44188-351b-44e1-b33e-57e1cd296e4c",
   "metadata": {},
   "outputs": [
    {
     "name": "stdout",
     "output_type": "stream",
     "text": [
      "생성자 메소드가 변수를 초기화 하였습니다.\n"
     ]
    }
   ],
   "source": [
    "c = MoreFourCal(5,0)"
   ]
  },
  {
   "cell_type": "code",
   "execution_count": 100,
   "id": "bdb22c1d-067a-4654-a747-358533b1b5d7",
   "metadata": {},
   "outputs": [
    {
     "data": {
      "text/plain": [
       "0"
      ]
     },
     "execution_count": 100,
     "metadata": {},
     "output_type": "execute_result"
    }
   ],
   "source": [
    "c.div()"
   ]
  },
  {
   "cell_type": "markdown",
   "id": "aec07ca2-4c74-45d7-8244-4bf4b79bf511",
   "metadata": {},
   "source": [
    "**클래스 변수**\n",
    "\n",
    "    독립적이지 않음\n",
    "    객체를 만들어서 클래스 변수를 변경하면 다른객체에서 해당 변수를 호출하면 변경한 값으로 나옴\n"
   ]
  },
  {
   "cell_type": "code",
   "execution_count": 101,
   "id": "8efc0853-7472-4d1d-875f-6291793ec9e3",
   "metadata": {},
   "outputs": [],
   "source": [
    "class Family:\n",
    "    lastname = \"김\""
   ]
  },
  {
   "cell_type": "code",
   "execution_count": 102,
   "id": "a4299997-6107-422b-b57a-638a69309c82",
   "metadata": {},
   "outputs": [
    {
     "data": {
      "text/plain": [
       "'김'"
      ]
     },
     "execution_count": 102,
     "metadata": {},
     "output_type": "execute_result"
    }
   ],
   "source": [
    "Family.lastname"
   ]
  },
  {
   "cell_type": "code",
   "execution_count": 105,
   "id": "b9fbafae-0579-4d22-a463-19ae3db8a1b8",
   "metadata": {},
   "outputs": [
    {
     "data": {
      "text/plain": [
       "'김'"
      ]
     },
     "execution_count": 105,
     "metadata": {},
     "output_type": "execute_result"
    }
   ],
   "source": [
    "a = Family()\n",
    "a.lastname"
   ]
  },
  {
   "cell_type": "code",
   "execution_count": 106,
   "id": "1a664db5-3de2-48e9-a07d-17b86ac6d499",
   "metadata": {},
   "outputs": [
    {
     "data": {
      "text/plain": [
       "'김'"
      ]
     },
     "execution_count": 106,
     "metadata": {},
     "output_type": "execute_result"
    }
   ],
   "source": [
    "b = Family()\n",
    "b.lastname"
   ]
  },
  {
   "cell_type": "code",
   "execution_count": 107,
   "id": "02000084-98da-483a-8ad6-2fb2cdc029bf",
   "metadata": {},
   "outputs": [],
   "source": [
    "Family.lastname = \"박\""
   ]
  },
  {
   "cell_type": "code",
   "execution_count": 108,
   "id": "da9500d8-50c5-4ad0-b47b-7b8f3957bbd1",
   "metadata": {},
   "outputs": [
    {
     "name": "stdout",
     "output_type": "stream",
     "text": [
      "박 박\n"
     ]
    }
   ],
   "source": [
    "print(a.lastname, b.lastname)"
   ]
  },
  {
   "cell_type": "code",
   "execution_count": null,
   "id": "c8a62604-6b8c-496d-94ab-41fba61b9339",
   "metadata": {},
   "outputs": [],
   "source": []
  },
  {
   "cell_type": "code",
   "execution_count": null,
   "id": "b9701590-3a68-47a0-aa3a-46bc654f6053",
   "metadata": {},
   "outputs": [],
   "source": []
  },
  {
   "cell_type": "code",
   "execution_count": null,
   "id": "f4b86059-a40d-4c5c-bdd7-ed7d7dbad50f",
   "metadata": {},
   "outputs": [],
   "source": []
  },
  {
   "cell_type": "code",
   "execution_count": null,
   "id": "8692a93f-977f-4af8-b82f-def64329c23d",
   "metadata": {},
   "outputs": [],
   "source": []
  },
  {
   "cell_type": "code",
   "execution_count": null,
   "id": "59a2b869-b20e-40f8-aae6-72f02f63d7de",
   "metadata": {},
   "outputs": [],
   "source": []
  },
  {
   "cell_type": "code",
   "execution_count": null,
   "id": "95be1da0-252a-406d-8e76-5f8c4d3baed2",
   "metadata": {},
   "outputs": [],
   "source": []
  },
  {
   "cell_type": "code",
   "execution_count": null,
   "id": "426c117a-e7bc-490c-ae5d-97a6dcde7fb5",
   "metadata": {},
   "outputs": [],
   "source": []
  },
  {
   "cell_type": "code",
   "execution_count": null,
   "id": "f24fc7e9-a1f2-4b21-a606-214d20f4f876",
   "metadata": {},
   "outputs": [],
   "source": []
  }
 ],
 "metadata": {
  "kernelspec": {
   "display_name": "Python 3 (ipykernel)",
   "language": "python",
   "name": "python3"
  },
  "language_info": {
   "codemirror_mode": {
    "name": "ipython",
    "version": 3
   },
   "file_extension": ".py",
   "mimetype": "text/x-python",
   "name": "python",
   "nbconvert_exporter": "python",
   "pygments_lexer": "ipython3",
   "version": "3.12.9"
  }
 },
 "nbformat": 4,
 "nbformat_minor": 5
}
