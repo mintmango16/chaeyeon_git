{
 "cells": [
  {
   "cell_type": "markdown",
   "id": "ecaf022b-97e8-4427-9cc4-bb698324d1c7",
   "metadata": {},
   "source": [
    "### **모듈** "
   ]
  },
  {
   "cell_type": "code",
   "execution_count": 1,
   "id": "5d3b503d-b601-4458-83ac-3b722f189298",
   "metadata": {},
   "outputs": [],
   "source": [
    "import mod1             # mod1 객체로 함수 모두를 가져옴\n",
    "                        # 함수 쓸  때  앞에 mod1. 가 필수적임"
   ]
  },
  {
   "cell_type": "code",
   "execution_count": 3,
   "id": "a4d7cd08-0479-4713-becc-07bb7fa6fe0d",
   "metadata": {},
   "outputs": [
    {
     "data": {
      "text/plain": [
       "3"
      ]
     },
     "execution_count": 3,
     "metadata": {},
     "output_type": "execute_result"
    }
   ],
   "source": [
    "mod1.add(1, 2)"
   ]
  },
  {
   "cell_type": "code",
   "execution_count": 4,
   "id": "7245c973-c601-4773-82b9-67fbfa5b0230",
   "metadata": {},
   "outputs": [
    {
     "data": {
      "text/plain": [
       "1"
      ]
     },
     "execution_count": 4,
     "metadata": {},
     "output_type": "execute_result"
    }
   ],
   "source": [
    "mod1.sub(3,2)"
   ]
  },
  {
   "cell_type": "code",
   "execution_count": 5,
   "id": "f7772746-8f99-4c85-8e7e-8b632d894dca",
   "metadata": {},
   "outputs": [],
   "source": [
    "del mod1 # 메모리 상에서 파일 삭제"
   ]
  },
  {
   "cell_type": "code",
   "execution_count": 6,
   "id": "56d9fe11-89bf-4f07-a7e4-3b80ff6acc95",
   "metadata": {},
   "outputs": [
    {
     "ename": "NameError",
     "evalue": "name 'mod1' is not defined",
     "output_type": "error",
     "traceback": [
      "\u001b[1;31m---------------------------------------------------------------------------\u001b[0m",
      "\u001b[1;31mNameError\u001b[0m                                 Traceback (most recent call last)",
      "Cell \u001b[1;32mIn[6], line 1\u001b[0m\n\u001b[1;32m----> 1\u001b[0m mod1\u001b[38;5;241m.\u001b[39madd(\u001b[38;5;241m2\u001b[39m,\u001b[38;5;241m3\u001b[39m)\n",
      "\u001b[1;31mNameError\u001b[0m: name 'mod1' is not defined"
     ]
    }
   ],
   "source": [
    "mod1.add(2,3)"
   ]
  },
  {
   "cell_type": "code",
   "execution_count": 14,
   "id": "34046d53-8941-44f3-a227-a3b8d9d5bc47",
   "metadata": {},
   "outputs": [
    {
     "data": {
      "text/plain": [
       "7"
      ]
     },
     "execution_count": 14,
     "metadata": {},
     "output_type": "execute_result"
    }
   ],
   "source": [
    "from mod1 import add, sub \n",
    "        # 하나의 모듈(mod1)에 있는 특정 함수(add, sub)만을 불러옴\n",
    "\n",
    "add(3,4)"
   ]
  },
  {
   "cell_type": "code",
   "execution_count": 15,
   "id": "286d49e7-b7df-4413-99d4-ee1ce5b77478",
   "metadata": {},
   "outputs": [
    {
     "data": {
      "text/plain": [
       "-1"
      ]
     },
     "execution_count": 15,
     "metadata": {},
     "output_type": "execute_result"
    }
   ],
   "source": [
    "sub(3,4) "
   ]
  },
  {
   "cell_type": "code",
   "execution_count": 16,
   "id": "da7a0d9a-a1d8-40ef-98d7-8041267dfc7d",
   "metadata": {},
   "outputs": [],
   "source": [
    "del add, sub #메모리 상 삭제"
   ]
  },
  {
   "cell_type": "code",
   "execution_count": 18,
   "id": "aed5ed53-2bfa-450f-ac86-75c81e0fa88e",
   "metadata": {},
   "outputs": [
    {
     "data": {
      "text/plain": [
       "7"
      ]
     },
     "execution_count": 18,
     "metadata": {},
     "output_type": "execute_result"
    }
   ],
   "source": [
    "from mod1 import add as adds  # add의 별칭으로 adds을 부여함\n",
    "adds(3,4)"
   ]
  },
  {
   "cell_type": "code",
   "execution_count": 19,
   "id": "5aba8899-4727-4a8e-9eb0-ae51f517d5cd",
   "metadata": {},
   "outputs": [],
   "source": [
    "del adds"
   ]
  },
  {
   "cell_type": "code",
   "execution_count": 20,
   "id": "80f83718-cccc-49ec-af2d-50185b9f6b88",
   "metadata": {},
   "outputs": [],
   "source": [
    "from mod1 import *  #모듈 mod1에 있는 함수 모두를 불러옴"
   ]
  },
  {
   "cell_type": "code",
   "execution_count": 21,
   "id": "6556e925-7e9d-4905-86ee-7cf242fd7124",
   "metadata": {},
   "outputs": [
    {
     "data": {
      "text/plain": [
       "5"
      ]
     },
     "execution_count": 21,
     "metadata": {},
     "output_type": "execute_result"
    }
   ],
   "source": [
    "add(2,3)"
   ]
  },
  {
   "cell_type": "code",
   "execution_count": 22,
   "id": "524ec3a8-bac3-4f65-a377-191fe597ca0d",
   "metadata": {},
   "outputs": [
    {
     "data": {
      "text/plain": [
       "-1"
      ]
     },
     "execution_count": 22,
     "metadata": {},
     "output_type": "execute_result"
    }
   ],
   "source": [
    "sub(4,5)"
   ]
  }
 ],
 "metadata": {
  "kernelspec": {
   "display_name": "Python 3 (ipykernel)",
   "language": "python",
   "name": "python3"
  },
  "language_info": {
   "codemirror_mode": {
    "name": "ipython",
    "version": 3
   },
   "file_extension": ".py",
   "mimetype": "text/x-python",
   "name": "python",
   "nbconvert_exporter": "python",
   "pygments_lexer": "ipython3",
   "version": "3.12.9"
  }
 },
 "nbformat": 4,
 "nbformat_minor": 5
}
