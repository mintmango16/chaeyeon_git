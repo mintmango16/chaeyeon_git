{
 "cells": [
  {
   "cell_type": "markdown",
   "id": "63d69c62-5ea4-4395-a7cb-607041e769f9",
   "metadata": {},
   "source": [
    "## **외부 라이브러리**\n",
    "---"
   ]
  },
  {
   "cell_type": "markdown",
   "id": "328c0131-c72e-4dfb-8e11-c6307df678b4",
   "metadata": {},
   "source": [
    "**패키지 설치 명령어**\n",
    "- pip install packages==버전명  : 파이썬에서 설치한 것, 버전 생략 시 최신 버전 설치\n",
    "\n",
    "- pip uninstall : 삭제\n",
    "\n",
    "- pip --upgrade : 최신버전으로 업그레이드\n",
    "\n",
    "- conda install packages  : 아나콘다에서 설치한 것"
   ]
  },
  {
   "cell_type": "markdown",
   "id": "0386765d-3ff4-47e2-9e55-d69a243b7d87",
   "metadata": {},
   "source": [
    "---\n",
    "## **faker**"
   ]
  },
  {
   "cell_type": "code",
   "execution_count": 5,
   "id": "affa2e33-67cd-4f1f-8a19-9f9bb75c5b43",
   "metadata": {},
   "outputs": [],
   "source": [
    "from faker import Faker\n"
   ]
  },
  {
   "cell_type": "code",
   "execution_count": null,
   "id": "241cb315-8ec8-4673-afbf-3d8387e73a4d",
   "metadata": {},
   "outputs": [],
   "source": []
  }
 ],
 "metadata": {
  "kernelspec": {
   "display_name": "Python 3 (ipykernel)",
   "language": "python",
   "name": "python3"
  },
  "language_info": {
   "codemirror_mode": {
    "name": "ipython",
    "version": 3
   },
   "file_extension": ".py",
   "mimetype": "text/x-python",
   "name": "python",
   "nbconvert_exporter": "python",
   "pygments_lexer": "ipython3",
   "version": "3.12.9"
  }
 },
 "nbformat": 4,
 "nbformat_minor": 5
}
